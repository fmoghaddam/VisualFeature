{
 "cells": [
  {
   "cell_type": "code",
   "execution_count": 1,
   "metadata": {
    "ExecuteTime": {
     "end_time": "2020-01-04T18:31:48.290938Z",
     "start_time": "2020-01-04T18:31:44.759987Z"
    }
   },
   "outputs": [],
   "source": [
    "import numpy as np\n",
    "import pandas as pd\n",
    "from scipy import sparse\n",
    "import os\n",
    "import gc\n",
    "import time\n",
    "import importlib\n",
    "import sklearn.preprocessing as pp\n",
    "import sklearn.model_selection as ms\n",
    "from sklearn import metrics\n",
    "import matplotlib.pyplot as plt\n",
    "import seaborn as sns\n",
    "\n",
    "from recommender import item_based, dummy as dummy_recommender, preprocessing as rpp, model_selection as rms,\\\n",
    "    tools as rtools\n",
    "import tag_genome_builder as tg_builder\n",
    "from tag_genome_builder import model_selection as ms_tg_builder\n",
    "\n",
    "from lib import tools\n",
    "import config\n",
    "import config_tag_recommender\n",
    "def reload():\n",
    "    importlib.reload(item_based)\n",
    "    importlib.reload(dummy_recommender)\n",
    "    importlib.reload(config)\n",
    "    importlib.reload(tg_builder)\n",
    "    importlib.reload(rpp)\n",
    "    importlib.reload(rms)\n",
    "    importlib.reload(tools)\n",
    "    importlib.reload(config_tag_recommender)\n",
    "    importlib.reload(ms_tg_builder)\n",
    "    importlib.reload(rtools)\n",
    "    "
   ]
  },
  {
   "cell_type": "markdown",
   "metadata": {},
   "source": [
    "# input params"
   ]
  },
  {
   "cell_type": "code",
   "execution_count": 2,
   "metadata": {
    "ExecuteTime": {
     "end_time": "2020-01-04T18:31:48.296866Z",
     "start_time": "2020-01-04T18:31:48.292895Z"
    }
   },
   "outputs": [],
   "source": [
    "str_aggregated_path = config_tag_recommender.str_aggregated_path\n",
    "str_genome_scores = config_tag_recommender.str_genome_scores\n",
    "str_tag_ids = config_tag_recommender.str_tag_ids\n",
    "str_rating_path = config_tag_recommender.str_rating_path\n",
    "str_data_folder = config_tag_recommender.str_data_folder\n",
    "minimum_no_of_frames = config_tag_recommender.minimum_no_of_frames\n",
    "number_of_tag_per_movie = config_tag_recommender.number_of_tag_per_movie"
   ]
  },
  {
   "cell_type": "code",
   "execution_count": 3,
   "metadata": {
    "ExecuteTime": {
     "end_time": "2020-01-04T18:31:48.306861Z",
     "start_time": "2020-01-04T18:31:48.298894Z"
    }
   },
   "outputs": [
    {
     "name": "stdout",
     "output_type": "stream",
     "text": [
      "str_aggregated_path:  ..\\..\\data\\MA14KD_AGGREGATED.csv\n",
      "str_genome_scores:  ..\\..\\data\\ml-20m\\genome-scores.csv\n",
      "str_tag_ids:  ..\\..\\data\\ml-20m\\genome-tags.csv\n",
      "str_rating_path:  ..\\..\\data\\ml-20m\\ratings.csv\n",
      "str_data_folder:  ..\\..\\data\n",
      "str_aggregated_path:  ..\\..\\data\\MA14KD_AGGREGATED.csv\n",
      "minimum_no_of_frames:  10\n",
      "number_of_tag_per_movie:  10\n"
     ]
    }
   ],
   "source": [
    "print('str_aggregated_path: ', str_aggregated_path)\n",
    "print('str_genome_scores: ', str_genome_scores)\n",
    "print('str_tag_ids: ', str_tag_ids)\n",
    "print('str_rating_path: ', str_rating_path)\n",
    "print('str_data_folder: ', str_data_folder)\n",
    "print('str_aggregated_path: ', str_aggregated_path)\n",
    "print('minimum_no_of_frames: ', minimum_no_of_frames)\n",
    "print('number_of_tag_per_movie: ', number_of_tag_per_movie)"
   ]
  },
  {
   "cell_type": "markdown",
   "metadata": {},
   "source": [
    "# Read inputs"
   ]
  },
  {
   "cell_type": "code",
   "execution_count": 4,
   "metadata": {
    "ExecuteTime": {
     "end_time": "2020-01-04T18:31:48.317871Z",
     "start_time": "2020-01-04T18:31:48.310863Z"
    }
   },
   "outputs": [],
   "source": [
    "df_tag_ids = pd.read_csv(str_tag_ids, index_col=config.tagId_col)"
   ]
  },
  {
   "cell_type": "code",
   "execution_count": 5,
   "metadata": {
    "ExecuteTime": {
     "end_time": "2020-01-04T18:31:48.325865Z",
     "start_time": "2020-01-04T18:31:48.321864Z"
    }
   },
   "outputs": [],
   "source": [
    "# df_tag_ids.head()"
   ]
  },
  {
   "cell_type": "code",
   "execution_count": 6,
   "metadata": {
    "ExecuteTime": {
     "end_time": "2020-01-04T18:31:50.420345Z",
     "start_time": "2020-01-04T18:31:48.326866Z"
    }
   },
   "outputs": [],
   "source": [
    "df_genome = pd.read_csv(str_genome_scores)"
   ]
  },
  {
   "cell_type": "code",
   "execution_count": 7,
   "metadata": {
    "ExecuteTime": {
     "end_time": "2020-01-04T18:31:54.158774Z",
     "start_time": "2020-01-04T18:31:50.422346Z"
    }
   },
   "outputs": [],
   "source": [
    "df_ratings = pd.read_csv(str_rating_path)"
   ]
  },
  {
   "cell_type": "code",
   "execution_count": 8,
   "metadata": {
    "ExecuteTime": {
     "end_time": "2020-01-04T18:31:54.471843Z",
     "start_time": "2020-01-04T18:31:54.159776Z"
    }
   },
   "outputs": [
    {
     "name": "stdout",
     "output_type": "stream",
     "text": [
      "42\n"
     ]
    }
   ],
   "source": [
    "usecols = ['movieId', 'no_key_frames']\n",
    "for i in range(1,11):\n",
    "    usecols += [f'f{i}_median', f'f{i}_quartile1', f'f{i}_quartile3', f'f{i}_std'] \n",
    "print(len(usecols))\n",
    "df_agg = pd.read_csv(str_aggregated_path, nrows=None, usecols=usecols, index_col='movieId').sort_index()\n",
    "df_agg = df_agg[df_agg['no_key_frames'] >= minimum_no_of_frames]\n",
    "df_agg.dropna(axis=1, thresh=len(df_agg) - 1000, inplace=True)"
   ]
  },
  {
   "cell_type": "code",
   "execution_count": 9,
   "metadata": {
    "ExecuteTime": {
     "end_time": "2020-01-04T18:31:54.494430Z",
     "start_time": "2020-01-04T18:31:54.472843Z"
    }
   },
   "outputs": [
    {
     "data": {
      "text/html": [
       "<div>\n",
       "<style scoped>\n",
       "    .dataframe tbody tr th:only-of-type {\n",
       "        vertical-align: middle;\n",
       "    }\n",
       "\n",
       "    .dataframe tbody tr th {\n",
       "        vertical-align: top;\n",
       "    }\n",
       "\n",
       "    .dataframe thead th {\n",
       "        text-align: right;\n",
       "    }\n",
       "</style>\n",
       "<table border=\"1\" class=\"dataframe\">\n",
       "  <thead>\n",
       "    <tr style=\"text-align: right;\">\n",
       "      <th></th>\n",
       "      <th>movieId</th>\n",
       "      <th>tagId</th>\n",
       "      <th>relevance</th>\n",
       "    </tr>\n",
       "  </thead>\n",
       "  <tbody>\n",
       "    <tr>\n",
       "      <th>0</th>\n",
       "      <td>1</td>\n",
       "      <td>1</td>\n",
       "      <td>0.02500</td>\n",
       "    </tr>\n",
       "    <tr>\n",
       "      <th>1</th>\n",
       "      <td>1</td>\n",
       "      <td>2</td>\n",
       "      <td>0.02500</td>\n",
       "    </tr>\n",
       "    <tr>\n",
       "      <th>2</th>\n",
       "      <td>1</td>\n",
       "      <td>3</td>\n",
       "      <td>0.05775</td>\n",
       "    </tr>\n",
       "    <tr>\n",
       "      <th>3</th>\n",
       "      <td>1</td>\n",
       "      <td>4</td>\n",
       "      <td>0.09675</td>\n",
       "    </tr>\n",
       "    <tr>\n",
       "      <th>4</th>\n",
       "      <td>1</td>\n",
       "      <td>5</td>\n",
       "      <td>0.14675</td>\n",
       "    </tr>\n",
       "  </tbody>\n",
       "</table>\n",
       "</div>"
      ],
      "text/plain": [
       "   movieId  tagId  relevance\n",
       "0        1      1    0.02500\n",
       "1        1      2    0.02500\n",
       "2        1      3    0.05775\n",
       "3        1      4    0.09675\n",
       "4        1      5    0.14675"
      ]
     },
     "execution_count": 9,
     "metadata": {},
     "output_type": "execute_result"
    }
   ],
   "source": [
    "df_genome.head()"
   ]
  },
  {
   "cell_type": "code",
   "execution_count": 10,
   "metadata": {
    "ExecuteTime": {
     "end_time": "2020-01-04T18:31:55.336396Z",
     "start_time": "2020-01-04T18:31:54.496427Z"
    }
   },
   "outputs": [
    {
     "name": "stdout",
     "output_type": "stream",
     "text": [
      "The size of datasets before filtering to the same:\n",
      "VF: (13923, 39) Tag genome: 10381\n",
      "The size of datasets after filtering to the same:\n",
      "VF: (5650, 39) Tag genome: 5650\n"
     ]
    }
   ],
   "source": [
    "print('The size of datasets before filtering to the same:')\n",
    "print('VF:', df_agg.shape,'Tag genome:', df_genome[config.movieId_col].nunique())\n",
    "df_agg, df_genome = tg_builder.Base().filter_tag_and_vf_to_same(df_agg=df_agg, df_genome_scores=df_genome)\n",
    "print('The size of datasets after filtering to the same:')\n",
    "print('VF:', df_agg.shape,'Tag genome:', df_genome[config.movieId_col].nunique())"
   ]
  },
  {
   "cell_type": "code",
   "execution_count": 11,
   "metadata": {
    "ExecuteTime": {
     "end_time": "2020-01-04T18:31:55.354421Z",
     "start_time": "2020-01-04T18:31:55.338398Z"
    }
   },
   "outputs": [],
   "source": [
    "\n",
    "vf_item_features = rpp.ItemFeature()\n",
    "vf_item_features.from_dataframe(df_agg)"
   ]
  },
  {
   "cell_type": "code",
   "execution_count": 12,
   "metadata": {
    "ExecuteTime": {
     "end_time": "2020-01-04T18:31:57.735573Z",
     "start_time": "2020-01-04T18:31:55.355421Z"
    }
   },
   "outputs": [],
   "source": [
    "item_features = rpp.get_item_feature_from_tag_genome(df_genome, number_of_tag_per_movie)"
   ]
  },
  {
   "cell_type": "code",
   "execution_count": 13,
   "metadata": {
    "ExecuteTime": {
     "end_time": "2020-01-04T18:32:01.129073Z",
     "start_time": "2020-01-04T18:31:57.737470Z"
    }
   },
   "outputs": [],
   "source": [
    "df_ratings_filtered = df_ratings[df_ratings[config.movieId_col].isin(item_features.item_ids)]"
   ]
  },
  {
   "cell_type": "markdown",
   "metadata": {},
   "source": [
    "# Compute tag genome based on visual features"
   ]
  },
  {
   "cell_type": "code",
   "execution_count": 14,
   "metadata": {
    "ExecuteTime": {
     "end_time": "2020-01-04T18:32:01.135023Z",
     "start_time": "2020-01-04T18:32:01.130067Z"
    }
   },
   "outputs": [],
   "source": [
    "normalizer = pp.QuantileTransformer(output_distribution='normal')\n"
   ]
  },
  {
   "cell_type": "code",
   "execution_count": 15,
   "metadata": {
    "ExecuteTime": {
     "end_time": "2020-01-04T18:32:22.770431Z",
     "start_time": "2020-01-04T18:32:01.137052Z"
    }
   },
   "outputs": [
    {
     "name": "stdout",
     "output_type": "stream",
     "text": [
      "Wall time: 21.6 s\n"
     ]
    }
   ],
   "source": [
    "%%time\n",
    "df_predicted_tag_genome = ms_tg_builder.cross_val_predict(df_visual_features=df_agg,\n",
    "                                                          df_genome_scores=df_genome,\n",
    "                                                          normalizer_vf=normalizer,\n",
    "                                                          n_splits=10, \n",
    "                                                          n_jobs=10)"
   ]
  },
  {
   "cell_type": "code",
   "execution_count": 16,
   "metadata": {
    "ExecuteTime": {
     "end_time": "2020-01-04T18:32:25.358578Z",
     "start_time": "2020-01-04T18:32:22.772433Z"
    }
   },
   "outputs": [],
   "source": [
    "item_features_vf = rpp.get_item_feature_from_tag_genome(df_predicted_tag_genome, number_of_tag_per_movie)"
   ]
  },
  {
   "cell_type": "markdown",
   "metadata": {},
   "source": [
    "# Train test split\n",
    "## rating dataset and tag item features"
   ]
  },
  {
   "cell_type": "code",
   "execution_count": 17,
   "metadata": {
    "ExecuteTime": {
     "end_time": "2020-01-04T18:32:32.991961Z",
     "start_time": "2020-01-04T18:32:25.359539Z"
    }
   },
   "outputs": [],
   "source": [
    "reload()\n",
    "df_rating_train, df_rating_test, item_features_train, item_features_test = \\\n",
    "    rms.train_test_split(df_ratings_filtered, item_features, strategy='sklearn', test_size=.25)"
   ]
  },
  {
   "cell_type": "markdown",
   "metadata": {},
   "source": [
    "## tag genome computed using visual features"
   ]
  },
  {
   "cell_type": "code",
   "execution_count": 18,
   "metadata": {
    "ExecuteTime": {
     "end_time": "2020-01-04T18:32:33.272597Z",
     "start_time": "2020-01-04T18:32:33.002956Z"
    }
   },
   "outputs": [],
   "source": [
    "reload()\n",
    "df_rating_vf_tg_train = df_rating_train\n",
    "df_rating_vf_tg_test = df_rating_test\n",
    "item_features_vf_tg_train, item_features_vf_tg_test = \\\n",
    "(item_features.get_item_feature_by_list_of_items(df_rating_train[config.movieId_col].unique()),\n",
    "item_features.get_item_feature_by_list_of_items(df_rating_test[config.movieId_col].unique()))"
   ]
  },
  {
   "cell_type": "markdown",
   "metadata": {},
   "source": [
    "## Visual features"
   ]
  },
  {
   "cell_type": "code",
   "execution_count": 19,
   "metadata": {
    "ExecuteTime": {
     "end_time": "2020-01-04T18:32:33.505812Z",
     "start_time": "2020-01-04T18:32:33.274561Z"
    }
   },
   "outputs": [],
   "source": [
    "vf_normalizer = tg_builder.VisualFeatureNormalizer()\n",
    "normalizer = pp.QuantileTransformer()\n",
    "df_agg_train = df_agg.loc[df_rating_train[config.movieId_col].unique()]\n",
    "df_agg_train_normalized = vf_normalizer.fit_transform(df_agg_train, normalizer)\n",
    "df_agg_test = df_agg.loc[df_rating_test[config.movieId_col].unique()]\n",
    "df_agg_test_normalized = vf_normalizer.transform(df_agg_test)\n",
    "\n",
    "item_features_vf_train = rpp.ItemFeature()\n",
    "item_features_vf_train.from_dataframe(df_agg_train_normalized)\n",
    "item_features_vf_test = rpp.ItemFeature()\n",
    "item_features_vf_test.from_dataframe(df_agg_test_normalized)\n"
   ]
  },
  {
   "cell_type": "markdown",
   "metadata": {},
   "source": [
    "# Train the content based recommender and predict on test on VF"
   ]
  },
  {
   "cell_type": "code",
   "execution_count": 20,
   "metadata": {
    "ExecuteTime": {
     "end_time": "2020-01-04T18:32:58.852858Z",
     "start_time": "2020-01-04T18:32:33.506795Z"
    }
   },
   "outputs": [
    {
     "data": {
      "text/plain": [
       "<recommender.item_based.ItemBasedColabCos at 0x1ca69902fd0>"
      ]
     },
     "execution_count": 20,
     "metadata": {},
     "output_type": "execute_result"
    }
   ],
   "source": [
    "recommend_vf = item_based.ItemBasedColabCos()\n",
    "recommend_vf.fit(df_rating_train, item_features_vf_train)"
   ]
  },
  {
   "cell_type": "code",
   "execution_count": 21,
   "metadata": {
    "ExecuteTime": {
     "end_time": "2020-01-04T18:39:14.374868Z",
     "start_time": "2020-01-04T18:32:58.854816Z"
    },
    "scrolled": true
   },
   "outputs": [
    {
     "name": "stdout",
     "output_type": "stream",
     "text": [
      "Wall time: 6min 15s\n"
     ]
    }
   ],
   "source": [
    "%%time\n",
    "test_users = df_rating_test[config.userId_col].unique()\n",
    "recommendations_vf = recommend_vf.predict_on_list_of_users(test_users, \n",
    "                                                           df_rating_test, \n",
    "                                                           item_features_vf_test, \n",
    "                                                           n_jobs=10)"
   ]
  },
  {
   "cell_type": "code",
   "execution_count": 24,
   "metadata": {
    "ExecuteTime": {
     "end_time": "2020-01-04T18:39:16.181258Z",
     "start_time": "2020-01-04T18:39:14.404035Z"
    }
   },
   "outputs": [],
   "source": [
    "reload()\n",
    "df_rating_test = rtools.prepare_recommendations_df(df_rating_test=df_rating_test,\n",
    "                                                   recommendations=recommendations_vf, \n",
    "                                                   prediction_column_suffix='vf')"
   ]
  },
  {
   "cell_type": "markdown",
   "metadata": {},
   "source": [
    "# Train the content based recommender and predict on test on original tag genome"
   ]
  },
  {
   "cell_type": "code",
   "execution_count": 25,
   "metadata": {
    "ExecuteTime": {
     "end_time": "2020-01-04T18:39:41.676149Z",
     "start_time": "2020-01-04T18:39:16.182258Z"
    }
   },
   "outputs": [
    {
     "data": {
      "text/plain": [
       "<recommender.item_based.ItemBasedColabCos at 0x1caae6b6eb8>"
      ]
     },
     "execution_count": 25,
     "metadata": {},
     "output_type": "execute_result"
    }
   ],
   "source": [
    "recommend = item_based.ItemBasedColabCos()\n",
    "recommend.fit(df_rating_train, item_features_train)"
   ]
  },
  {
   "cell_type": "code",
   "execution_count": 26,
   "metadata": {
    "ExecuteTime": {
     "end_time": "2020-01-04T18:45:59.240169Z",
     "start_time": "2020-01-04T18:39:41.677105Z"
    },
    "scrolled": true
   },
   "outputs": [
    {
     "name": "stdout",
     "output_type": "stream",
     "text": [
      "Wall time: 6min 17s\n"
     ]
    }
   ],
   "source": [
    "%%time\n",
    "test_users = df_rating_test[config.userId_col].unique()\n",
    "recommendations = recommend.predict_on_list_of_users(test_users, df_rating_test, item_features_test, n_jobs=10)"
   ]
  },
  {
   "cell_type": "code",
   "execution_count": 27,
   "metadata": {
    "ExecuteTime": {
     "end_time": "2020-01-04T18:46:01.047213Z",
     "start_time": "2020-01-04T18:45:59.242198Z"
    }
   },
   "outputs": [
    {
     "name": "stdout",
     "output_type": "stream",
     "text": [
      "Warning: 16776 (0.54%) of ratings has no prediction\n"
     ]
    }
   ],
   "source": [
    "df_rating_test = rtools.prepare_recommendations_df(df_rating_test=df_rating_test,\n",
    "                                                    recommendations=recommendations, \n",
    "                                                    prediction_column_suffix='tg')"
   ]
  },
  {
   "cell_type": "markdown",
   "metadata": {},
   "source": [
    "# Train the content based recommender and predict on test on VF tag genome"
   ]
  },
  {
   "cell_type": "code",
   "execution_count": 28,
   "metadata": {
    "ExecuteTime": {
     "end_time": "2020-01-04T18:46:26.403119Z",
     "start_time": "2020-01-04T18:46:01.049211Z"
    }
   },
   "outputs": [
    {
     "data": {
      "text/plain": [
       "<recommender.item_based.ItemBasedColabCos at 0x1cb109cb6a0>"
      ]
     },
     "execution_count": 28,
     "metadata": {},
     "output_type": "execute_result"
    }
   ],
   "source": [
    "recommend_vf_tg = item_based.ItemBasedColabCos()\n",
    "recommend_vf_tg.fit(df_rating_vf_tg_train, item_features_vf_tg_train)"
   ]
  },
  {
   "cell_type": "code",
   "execution_count": 29,
   "metadata": {
    "ExecuteTime": {
     "end_time": "2020-01-04T18:52:41.213417Z",
     "start_time": "2020-01-04T18:46:26.405119Z"
    },
    "scrolled": true
   },
   "outputs": [
    {
     "name": "stdout",
     "output_type": "stream",
     "text": [
      "Wall time: 6min 14s\n"
     ]
    }
   ],
   "source": [
    "%%time\n",
    "test_users_vf = df_rating_vf_tg_test[config.userId_col].unique()\n",
    "recommendations_vf_tg = recommend_vf_tg.\\\n",
    "    predict_on_list_of_users(test_users_vf, df_rating_vf_tg_test, item_features_vf_tg_test, n_jobs=10)"
   ]
  },
  {
   "cell_type": "code",
   "execution_count": 30,
   "metadata": {
    "ExecuteTime": {
     "end_time": "2020-01-04T18:52:41.397351Z",
     "start_time": "2020-01-04T18:52:41.215394Z"
    }
   },
   "outputs": [
    {
     "ename": "KeyError",
     "evalue": "\"['rating_predicted_vf_tg' 'residual_vf_tg' 'absolute residual_vf_tg'] not found in axis\"",
     "output_type": "error",
     "traceback": [
      "\u001b[1;31m---------------------------------------------------------------------------\u001b[0m",
      "\u001b[1;31mKeyError\u001b[0m                                  Traceback (most recent call last)",
      "\u001b[1;32m<ipython-input-30-09571469b71a>\u001b[0m in \u001b[0;36m<module>\u001b[1;34m\u001b[0m\n\u001b[1;32m----> 1\u001b[1;33m \u001b[0mdf_rating_test\u001b[0m\u001b[1;33m.\u001b[0m\u001b[0mdrop\u001b[0m\u001b[1;33m(\u001b[0m\u001b[0mcolumns\u001b[0m\u001b[1;33m=\u001b[0m\u001b[1;33m[\u001b[0m\u001b[1;34m'rating_predicted_vf_tg'\u001b[0m\u001b[1;33m,\u001b[0m \u001b[1;34m'residual_vf_tg'\u001b[0m\u001b[1;33m,\u001b[0m \u001b[1;34m'absolute residual_vf_tg'\u001b[0m\u001b[1;33m]\u001b[0m\u001b[1;33m,\u001b[0m \u001b[0minplace\u001b[0m\u001b[1;33m=\u001b[0m\u001b[1;32mTrue\u001b[0m\u001b[1;33m)\u001b[0m\u001b[1;33m\u001b[0m\u001b[1;33m\u001b[0m\u001b[0m\n\u001b[0m",
      "\u001b[1;32mC:\\ProgramData\\Anaconda3\\lib\\site-packages\\pandas\\core\\frame.py\u001b[0m in \u001b[0;36mdrop\u001b[1;34m(self, labels, axis, index, columns, level, inplace, errors)\u001b[0m\n\u001b[0;32m   4115\u001b[0m             \u001b[0mlevel\u001b[0m\u001b[1;33m=\u001b[0m\u001b[0mlevel\u001b[0m\u001b[1;33m,\u001b[0m\u001b[1;33m\u001b[0m\u001b[1;33m\u001b[0m\u001b[0m\n\u001b[0;32m   4116\u001b[0m             \u001b[0minplace\u001b[0m\u001b[1;33m=\u001b[0m\u001b[0minplace\u001b[0m\u001b[1;33m,\u001b[0m\u001b[1;33m\u001b[0m\u001b[1;33m\u001b[0m\u001b[0m\n\u001b[1;32m-> 4117\u001b[1;33m             \u001b[0merrors\u001b[0m\u001b[1;33m=\u001b[0m\u001b[0merrors\u001b[0m\u001b[1;33m,\u001b[0m\u001b[1;33m\u001b[0m\u001b[1;33m\u001b[0m\u001b[0m\n\u001b[0m\u001b[0;32m   4118\u001b[0m         )\n\u001b[0;32m   4119\u001b[0m \u001b[1;33m\u001b[0m\u001b[0m\n",
      "\u001b[1;32mC:\\ProgramData\\Anaconda3\\lib\\site-packages\\pandas\\core\\generic.py\u001b[0m in \u001b[0;36mdrop\u001b[1;34m(self, labels, axis, index, columns, level, inplace, errors)\u001b[0m\n\u001b[0;32m   3912\u001b[0m         \u001b[1;32mfor\u001b[0m \u001b[0maxis\u001b[0m\u001b[1;33m,\u001b[0m \u001b[0mlabels\u001b[0m \u001b[1;32min\u001b[0m \u001b[0maxes\u001b[0m\u001b[1;33m.\u001b[0m\u001b[0mitems\u001b[0m\u001b[1;33m(\u001b[0m\u001b[1;33m)\u001b[0m\u001b[1;33m:\u001b[0m\u001b[1;33m\u001b[0m\u001b[1;33m\u001b[0m\u001b[0m\n\u001b[0;32m   3913\u001b[0m             \u001b[1;32mif\u001b[0m \u001b[0mlabels\u001b[0m \u001b[1;32mis\u001b[0m \u001b[1;32mnot\u001b[0m \u001b[1;32mNone\u001b[0m\u001b[1;33m:\u001b[0m\u001b[1;33m\u001b[0m\u001b[1;33m\u001b[0m\u001b[0m\n\u001b[1;32m-> 3914\u001b[1;33m                 \u001b[0mobj\u001b[0m \u001b[1;33m=\u001b[0m \u001b[0mobj\u001b[0m\u001b[1;33m.\u001b[0m\u001b[0m_drop_axis\u001b[0m\u001b[1;33m(\u001b[0m\u001b[0mlabels\u001b[0m\u001b[1;33m,\u001b[0m \u001b[0maxis\u001b[0m\u001b[1;33m,\u001b[0m \u001b[0mlevel\u001b[0m\u001b[1;33m=\u001b[0m\u001b[0mlevel\u001b[0m\u001b[1;33m,\u001b[0m \u001b[0merrors\u001b[0m\u001b[1;33m=\u001b[0m\u001b[0merrors\u001b[0m\u001b[1;33m)\u001b[0m\u001b[1;33m\u001b[0m\u001b[1;33m\u001b[0m\u001b[0m\n\u001b[0m\u001b[0;32m   3915\u001b[0m \u001b[1;33m\u001b[0m\u001b[0m\n\u001b[0;32m   3916\u001b[0m         \u001b[1;32mif\u001b[0m \u001b[0minplace\u001b[0m\u001b[1;33m:\u001b[0m\u001b[1;33m\u001b[0m\u001b[1;33m\u001b[0m\u001b[0m\n",
      "\u001b[1;32mC:\\ProgramData\\Anaconda3\\lib\\site-packages\\pandas\\core\\generic.py\u001b[0m in \u001b[0;36m_drop_axis\u001b[1;34m(self, labels, axis, level, errors)\u001b[0m\n\u001b[0;32m   3944\u001b[0m                 \u001b[0mnew_axis\u001b[0m \u001b[1;33m=\u001b[0m \u001b[0maxis\u001b[0m\u001b[1;33m.\u001b[0m\u001b[0mdrop\u001b[0m\u001b[1;33m(\u001b[0m\u001b[0mlabels\u001b[0m\u001b[1;33m,\u001b[0m \u001b[0mlevel\u001b[0m\u001b[1;33m=\u001b[0m\u001b[0mlevel\u001b[0m\u001b[1;33m,\u001b[0m \u001b[0merrors\u001b[0m\u001b[1;33m=\u001b[0m\u001b[0merrors\u001b[0m\u001b[1;33m)\u001b[0m\u001b[1;33m\u001b[0m\u001b[1;33m\u001b[0m\u001b[0m\n\u001b[0;32m   3945\u001b[0m             \u001b[1;32melse\u001b[0m\u001b[1;33m:\u001b[0m\u001b[1;33m\u001b[0m\u001b[1;33m\u001b[0m\u001b[0m\n\u001b[1;32m-> 3946\u001b[1;33m                 \u001b[0mnew_axis\u001b[0m \u001b[1;33m=\u001b[0m \u001b[0maxis\u001b[0m\u001b[1;33m.\u001b[0m\u001b[0mdrop\u001b[0m\u001b[1;33m(\u001b[0m\u001b[0mlabels\u001b[0m\u001b[1;33m,\u001b[0m \u001b[0merrors\u001b[0m\u001b[1;33m=\u001b[0m\u001b[0merrors\u001b[0m\u001b[1;33m)\u001b[0m\u001b[1;33m\u001b[0m\u001b[1;33m\u001b[0m\u001b[0m\n\u001b[0m\u001b[0;32m   3947\u001b[0m             \u001b[0mresult\u001b[0m \u001b[1;33m=\u001b[0m \u001b[0mself\u001b[0m\u001b[1;33m.\u001b[0m\u001b[0mreindex\u001b[0m\u001b[1;33m(\u001b[0m\u001b[1;33m**\u001b[0m\u001b[1;33m{\u001b[0m\u001b[0maxis_name\u001b[0m\u001b[1;33m:\u001b[0m \u001b[0mnew_axis\u001b[0m\u001b[1;33m}\u001b[0m\u001b[1;33m)\u001b[0m\u001b[1;33m\u001b[0m\u001b[1;33m\u001b[0m\u001b[0m\n\u001b[0;32m   3948\u001b[0m \u001b[1;33m\u001b[0m\u001b[0m\n",
      "\u001b[1;32mC:\\ProgramData\\Anaconda3\\lib\\site-packages\\pandas\\core\\indexes\\base.py\u001b[0m in \u001b[0;36mdrop\u001b[1;34m(self, labels, errors)\u001b[0m\n\u001b[0;32m   5338\u001b[0m         \u001b[1;32mif\u001b[0m \u001b[0mmask\u001b[0m\u001b[1;33m.\u001b[0m\u001b[0many\u001b[0m\u001b[1;33m(\u001b[0m\u001b[1;33m)\u001b[0m\u001b[1;33m:\u001b[0m\u001b[1;33m\u001b[0m\u001b[1;33m\u001b[0m\u001b[0m\n\u001b[0;32m   5339\u001b[0m             \u001b[1;32mif\u001b[0m \u001b[0merrors\u001b[0m \u001b[1;33m!=\u001b[0m \u001b[1;34m\"ignore\"\u001b[0m\u001b[1;33m:\u001b[0m\u001b[1;33m\u001b[0m\u001b[1;33m\u001b[0m\u001b[0m\n\u001b[1;32m-> 5340\u001b[1;33m                 \u001b[1;32mraise\u001b[0m \u001b[0mKeyError\u001b[0m\u001b[1;33m(\u001b[0m\u001b[1;34m\"{} not found in axis\"\u001b[0m\u001b[1;33m.\u001b[0m\u001b[0mformat\u001b[0m\u001b[1;33m(\u001b[0m\u001b[0mlabels\u001b[0m\u001b[1;33m[\u001b[0m\u001b[0mmask\u001b[0m\u001b[1;33m]\u001b[0m\u001b[1;33m)\u001b[0m\u001b[1;33m)\u001b[0m\u001b[1;33m\u001b[0m\u001b[1;33m\u001b[0m\u001b[0m\n\u001b[0m\u001b[0;32m   5341\u001b[0m             \u001b[0mindexer\u001b[0m \u001b[1;33m=\u001b[0m \u001b[0mindexer\u001b[0m\u001b[1;33m[\u001b[0m\u001b[1;33m~\u001b[0m\u001b[0mmask\u001b[0m\u001b[1;33m]\u001b[0m\u001b[1;33m\u001b[0m\u001b[1;33m\u001b[0m\u001b[0m\n\u001b[0;32m   5342\u001b[0m         \u001b[1;32mreturn\u001b[0m \u001b[0mself\u001b[0m\u001b[1;33m.\u001b[0m\u001b[0mdelete\u001b[0m\u001b[1;33m(\u001b[0m\u001b[0mindexer\u001b[0m\u001b[1;33m)\u001b[0m\u001b[1;33m\u001b[0m\u001b[1;33m\u001b[0m\u001b[0m\n",
      "\u001b[1;31mKeyError\u001b[0m: \"['rating_predicted_vf_tg' 'residual_vf_tg' 'absolute residual_vf_tg'] not found in axis\""
     ]
    }
   ],
   "source": [
    "df_rating_test.drop(columns=['rating_predicted_vf_tg', 'residual_vf_tg', 'absolute residual_vf_tg'], inplace=True)"
   ]
  },
  {
   "cell_type": "code",
   "execution_count": null,
   "metadata": {
    "ExecuteTime": {
     "end_time": "2020-01-04T18:52:41.401352Z",
     "start_time": "2020-01-04T18:31:45.051Z"
    }
   },
   "outputs": [],
   "source": [
    "df_rating_test.columns"
   ]
  },
  {
   "cell_type": "code",
   "execution_count": null,
   "metadata": {
    "ExecuteTime": {
     "end_time": "2020-01-04T18:52:41.402369Z",
     "start_time": "2020-01-04T18:31:45.055Z"
    }
   },
   "outputs": [],
   "source": [
    "df_rating_test = rtools.prepare_recommendations_df(df_rating_test=df_rating_test,\n",
    "                                                   recommendations=recommendations_vf_tg, \n",
    "                                                   prediction_column_suffix='vf_tg')"
   ]
  },
  {
   "cell_type": "markdown",
   "metadata": {},
   "source": [
    "# Train the baseline recommender and predict on test"
   ]
  },
  {
   "cell_type": "code",
   "execution_count": null,
   "metadata": {
    "ExecuteTime": {
     "end_time": "2020-01-04T18:52:41.403353Z",
     "start_time": "2020-01-04T18:31:45.084Z"
    }
   },
   "outputs": [],
   "source": [
    "recommend_dummy = dummy_recommender.DummyAverageUser()\n",
    "recommend_dummy.fit(df_rating_train, item_features_train)"
   ]
  },
  {
   "cell_type": "code",
   "execution_count": null,
   "metadata": {
    "ExecuteTime": {
     "end_time": "2020-01-04T18:52:41.404353Z",
     "start_time": "2020-01-04T18:31:45.087Z"
    },
    "scrolled": true
   },
   "outputs": [],
   "source": [
    "%%time\n",
    "recommendations_dummy = recommend_dummy.predict_on_list_of_users(test_users, \n",
    "                                                                 df_rating_test, \n",
    "                                                                 item_features_test, \n",
    "                                                                 n_jobs=10)\n"
   ]
  },
  {
   "cell_type": "code",
   "execution_count": null,
   "metadata": {
    "ExecuteTime": {
     "end_time": "2020-01-04T18:52:41.405352Z",
     "start_time": "2020-01-04T18:31:45.091Z"
    }
   },
   "outputs": [],
   "source": [
    "df_rating_test = rtools.prepare_recommendations_df(df_rating_test=df_rating_test,\n",
    "                                                   recommendations=recommendations_dummy, \n",
    "                                                   prediction_column_suffix='average_user')"
   ]
  },
  {
   "cell_type": "code",
   "execution_count": null,
   "metadata": {
    "ExecuteTime": {
     "end_time": "2020-01-04T18:52:41.406354Z",
     "start_time": "2020-01-04T18:31:45.095Z"
    }
   },
   "outputs": [],
   "source": [
    "# recommendations_dummy.rename(columns={f'{config.rating_col}_predicted': f'{config.rating_col}_predicted_average_user'},\n",
    "#                             inplace=True)\n",
    "# df_rating_pred = pd.merge(df_rating_pred, recommendations_dummy, on=[config.userId_col, config.movieId_col])\n",
    "\n",
    "# df_rating_pred['residual_average_user'] =\\\n",
    "#     df_rating_pred[config.rating_col] - df_rating_pred[f'{config.rating_col}_predicted_average_user']\n",
    "\n",
    "# df_rating_pred['absolute residual_average_user'] = df_rating_pred['residual_average_user'].abs()"
   ]
  },
  {
   "cell_type": "markdown",
   "metadata": {},
   "source": [
    "# looking at the performance"
   ]
  },
  {
   "cell_type": "code",
   "execution_count": null,
   "metadata": {
    "ExecuteTime": {
     "end_time": "2020-01-04T18:52:41.407353Z",
     "start_time": "2020-01-04T18:31:45.124Z"
    }
   },
   "outputs": [],
   "source": [
    "prediction_column_suffixes = []\n",
    "for c in df_rating_test.filter(regex='rating_predicted').columns:\n",
    "    c = c.replace('rating_predicted', '')\n",
    "    c = c[1:] if len(c) > 0 else c\n",
    "    prediction_column_suffixes.append(c)\n",
    "prediction_column_suffixes"
   ]
  },
  {
   "cell_type": "code",
   "execution_count": null,
   "metadata": {
    "ExecuteTime": {
     "end_time": "2020-01-04T18:52:41.409353Z",
     "start_time": "2020-01-04T18:31:45.129Z"
    }
   },
   "outputs": [],
   "source": [
    "reload()\n",
    "df_performance_report = pd.concat([tools.performance_report(df_rating_test, \n",
    "                                                           prediction_column_suffix=alg) \n",
    "                                  for alg in prediction_column_suffixes]).sort_values('RMSE')\n",
    "df_performance_report"
   ]
  },
  {
   "cell_type": "code",
   "execution_count": null,
   "metadata": {
    "ExecuteTime": {
     "end_time": "2020-01-04T18:52:41.410353Z",
     "start_time": "2020-01-04T18:31:45.132Z"
    }
   },
   "outputs": [],
   "source": [
    "print(df_performance_report.to_latex())"
   ]
  },
  {
   "cell_type": "code",
   "execution_count": null,
   "metadata": {
    "ExecuteTime": {
     "end_time": "2020-01-04T18:52:41.411362Z",
     "start_time": "2020-01-04T18:31:45.136Z"
    }
   },
   "outputs": [],
   "source": [
    "reload()\n",
    "_ = tools.plot_side_by_side(tools.plot_actual_vs_prediction,\n",
    "                            df_rating_pred=df_rating_test,\n",
    "                            prediction_column_suffixes=prediction_column_suffixes)"
   ]
  },
  {
   "cell_type": "code",
   "execution_count": null,
   "metadata": {
    "ExecuteTime": {
     "end_time": "2020-01-04T18:52:41.412353Z",
     "start_time": "2020-01-04T18:31:45.139Z"
    }
   },
   "outputs": [],
   "source": [
    "reload()\n",
    "_ = tools.plot_side_by_side(tools.plot_actual_vs_predicted_boxplot,\n",
    "                            df_rating_pred=df_rating_test,\n",
    "                            prediction_column_suffixes=prediction_column_suffixes)"
   ]
  },
  {
   "cell_type": "code",
   "execution_count": null,
   "metadata": {
    "ExecuteTime": {
     "end_time": "2020-01-04T18:52:41.413352Z",
     "start_time": "2020-01-04T18:31:45.143Z"
    }
   },
   "outputs": [],
   "source": [
    "reload()\n",
    "_ = tools.plot_side_by_side(tools.plot_residual_boxplot,\n",
    "                            df_rating_pred=df_rating_test,\n",
    "                            prediction_column_suffixes=prediction_column_suffixes)"
   ]
  },
  {
   "cell_type": "code",
   "execution_count": null,
   "metadata": {
    "ExecuteTime": {
     "end_time": "2020-01-04T18:52:41.415353Z",
     "start_time": "2020-01-04T18:31:45.146Z"
    }
   },
   "outputs": [],
   "source": [
    "reload()\n",
    "_ = tools.plot_side_by_side(tools.plot_absolute_residual_boxplot,\n",
    "                            df_rating_pred=df_rating_test,\n",
    "                            prediction_column_suffixes=prediction_column_suffixes)"
   ]
  },
  {
   "cell_type": "code",
   "execution_count": null,
   "metadata": {
    "ExecuteTime": {
     "end_time": "2020-01-04T18:52:41.416352Z",
     "start_time": "2020-01-04T18:31:45.150Z"
    }
   },
   "outputs": [],
   "source": [
    "reload()\n",
    "_ = tools.plot_side_by_side(tools.plot_actual_vs_predicted_violinplot,\n",
    "                            df_rating_pred=df_rating_test,\n",
    "                            prediction_column_suffixes=prediction_column_suffixes)"
   ]
  },
  {
   "cell_type": "markdown",
   "metadata": {},
   "source": [
    "# Save the current notebook in the results folder and push to repository"
   ]
  },
  {
   "cell_type": "code",
   "execution_count": null,
   "metadata": {
    "ExecuteTime": {
     "start_time": "2020-01-04T18:54:02.317Z"
    }
   },
   "outputs": [],
   "source": [
    "%%javascript\n",
    "IPython.notebook.save_notebook()"
   ]
  },
  {
   "cell_type": "code",
   "execution_count": null,
   "metadata": {
    "ExecuteTime": {
     "end_time": "2020-01-04T18:52:41.419352Z",
     "start_time": "2020-01-04T18:31:45.185Z"
    }
   },
   "outputs": [],
   "source": [
    "from notebook import notebookapp\n",
    "import urllib\n",
    "import json\n",
    "import os\n",
    "import ipykernel\n",
    "\n",
    "currentTime = lambda : time.strftime('%Y-%m-%d-%H%M')\n",
    "\n",
    "def notebook_path():\n",
    "    \"\"\"Returns the absolute path of the Notebook or None if it cannot be determined\n",
    "    NOTE: works only when the security is token-based or there is also no password\n",
    "    \"\"\"\n",
    "    connection_file = os.path.basename(ipykernel.get_connection_file())\n",
    "    kernel_id = connection_file.split('-', 1)[1].split('.')[0]\n",
    "\n",
    "    for srv in notebookapp.list_running_servers():\n",
    "        try:\n",
    "            if srv['token']=='' and not srv['password']:  # No token and no password, ahem...\n",
    "                req = urllib.request.urlopen(srv['url']+'api/sessions')\n",
    "            else:\n",
    "                req = urllib.request.urlopen(srv['url']+'api/sessions?token='+srv['token'])\n",
    "            sessions = json.load(req)\n",
    "            for sess in sessions:\n",
    "                if sess['kernel']['id'] == kernel_id:\n",
    "                    return os.path.join(srv['notebook_dir'],sess['notebook']['path'])\n",
    "        except:\n",
    "            pass  # There may be stale entries in the runtime directory \n",
    "    return None\n",
    "\n",
    "notebook_dir, notebook_name = os.path.split(notebook_path())\n",
    "output = os.path.join(notebook_dir, 'output', f'{notebook_name}_{currentTime()}.ipynb')\n",
    "os.system(f'jupyter nbconvert --to ipynb {notebook_path()} --output {output}')\n",
    "os.system(f'git add {output}')\n",
    "os.system(f'git commit -m \"result computed on {currentTime()}\"')\n",
    "os.system('git push')"
   ]
  },
  {
   "cell_type": "code",
   "execution_count": null,
   "metadata": {},
   "outputs": [],
   "source": []
  }
 ],
 "metadata": {
  "kernelspec": {
   "display_name": "Python 3",
   "language": "python",
   "name": "python3"
  },
  "language_info": {
   "codemirror_mode": {
    "name": "ipython",
    "version": 3
   },
   "file_extension": ".py",
   "mimetype": "text/x-python",
   "name": "python",
   "nbconvert_exporter": "python",
   "pygments_lexer": "ipython3",
   "version": "3.7.1"
  },
  "toc": {
   "base_numbering": 1,
   "nav_menu": {},
   "number_sections": true,
   "sideBar": true,
   "skip_h1_title": false,
   "title_cell": "Table of Contents",
   "title_sidebar": "Contents",
   "toc_cell": false,
   "toc_position": {},
   "toc_section_display": true,
   "toc_window_display": false
  }
 },
 "nbformat": 4,
 "nbformat_minor": 2
}

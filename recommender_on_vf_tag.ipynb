{
 "cells": [
  {
   "cell_type": "code",
   "execution_count": 19,
   "metadata": {
    "ExecuteTime": {
     "end_time": "2020-02-02T18:30:24.647751Z",
     "start_time": "2020-02-02T18:30:24.628693Z"
    }
   },
   "outputs": [],
   "source": [
    "import numpy as np\n",
    "import pandas as pd\n",
    "from scipy import sparse\n",
    "import os\n",
    "import gc\n",
    "import time\n",
    "import importlib\n",
    "import sklearn.preprocessing as pp\n",
    "import sklearn.model_selection as ms\n",
    "from sklearn import metrics\n",
    "import matplotlib.pyplot as plt\n",
    "import seaborn as sns\n",
    "from tqdm import tqdm_notebook as tqdm\n",
    "\n",
    "from recommender import item_based, dummy as dummy_recommender, preprocessing as rpp, model_selection as rms,\\\n",
    "    tools as rtools, experiment_tools\n",
    "\n",
    "import tag_genome_builder as tg_builder\n",
    "from tag_genome_builder import model_selection as ms_tg_builder\n",
    "\n",
    "from lib import tools\n",
    "import config\n",
    "import config_tag_recommender\n",
    "def reload():\n",
    "    importlib.reload(item_based)\n",
    "    importlib.reload(dummy_recommender)\n",
    "    importlib.reload(config)\n",
    "    importlib.reload(tg_builder)\n",
    "    importlib.reload(rpp)\n",
    "    importlib.reload(rms)\n",
    "    importlib.reload(tools)\n",
    "    importlib.reload(config_tag_recommender)\n",
    "    importlib.reload(ms_tg_builder)\n",
    "    importlib.reload(rtools)\n",
    "    \n",
    "    "
   ]
  },
  {
   "cell_type": "markdown",
   "metadata": {},
   "source": [
    "# input params"
   ]
  },
  {
   "cell_type": "code",
   "execution_count": 20,
   "metadata": {
    "ExecuteTime": {
     "end_time": "2020-02-02T18:30:26.858542Z",
     "start_time": "2020-02-02T18:30:26.848971Z"
    }
   },
   "outputs": [],
   "source": [
    "reload()\n",
    "str_aggregated_path = config_tag_recommender.str_aggregated_path\n",
    "str_genome_scores = config_tag_recommender.str_genome_scores\n",
    "str_tags = config_tag_recommender.str_tags\n",
    "str_tag_ids = config_tag_recommender.str_tag_ids\n",
    "str_rating_path = config_tag_recommender.str_rating_path\n",
    "str_data_folder = config_tag_recommender.str_data_folder\n",
    "minimum_no_of_frames = config_tag_recommender.minimum_no_of_frames\n",
    "number_of_tag_per_movie = config_tag_recommender.number_of_tag_per_movie\n",
    "n_jobs = 8"
   ]
  },
  {
   "cell_type": "code",
   "execution_count": 21,
   "metadata": {
    "ExecuteTime": {
     "end_time": "2020-02-02T18:30:27.110175Z",
     "start_time": "2020-02-02T18:30:27.065375Z"
    }
   },
   "outputs": [
    {
     "name": "stdout",
     "output_type": "stream",
     "text": [
      "str_aggregated_path = C:\\Users\\shossein\\Dropbox\\Original Data\\Elahi LowLevel Features\\Mise-en-Scene Dataset_v1\\LLVisualFeatures13K_Log.csv\n",
      "str_genome_scores = ..\\..\\data\\ml-25m\\genome-scores.csv\n",
      "str_tags = ..\\..\\data\\ml-25m\\tags.csv\n",
      "str_tag_ids = ..\\..\\data\\ml-25m\\genome-tags.csv\n",
      "str_rating_path = ..\\..\\data\\ml-25m\\ratings.csv\n",
      "str_data_folder = ..\\..\\data\n",
      "str_aggregated_path = C:\\Users\\shossein\\Dropbox\\Original Data\\Elahi LowLevel Features\\Mise-en-Scene Dataset_v1\\LLVisualFeatures13K_Log.csv\n",
      "minimum_no_of_frames = 10\n",
      "number_of_tag_per_movie = 10\n"
     ]
    }
   ],
   "source": [
    "print('str_aggregated_path =', str_aggregated_path)\n",
    "print('str_genome_scores =', str_genome_scores)\n",
    "print('str_tags =', str_tags)\n",
    "print('str_tag_ids =', str_tag_ids)\n",
    "print('str_rating_path =', str_rating_path)\n",
    "print('str_data_folder =', str_data_folder)\n",
    "print('str_aggregated_path =', str_aggregated_path)\n",
    "print('minimum_no_of_frames =', minimum_no_of_frames)\n",
    "print('number_of_tag_per_movie =', number_of_tag_per_movie)"
   ]
  },
  {
   "cell_type": "markdown",
   "metadata": {},
   "source": [
    "# Read inputs"
   ]
  },
  {
   "cell_type": "code",
   "execution_count": 22,
   "metadata": {
    "ExecuteTime": {
     "end_time": "2020-02-02T18:30:27.536288Z",
     "start_time": "2020-02-02T18:30:27.531303Z"
    }
   },
   "outputs": [],
   "source": [
    "df_tag_ids = pd.read_csv(str_tag_ids, index_col=config.tagId_col)"
   ]
  },
  {
   "cell_type": "code",
   "execution_count": 23,
   "metadata": {
    "ExecuteTime": {
     "end_time": "2020-02-02T18:30:27.769188Z",
     "start_time": "2020-02-02T18:30:27.766191Z"
    }
   },
   "outputs": [],
   "source": [
    "# df_tag_ids.head()"
   ]
  },
  {
   "cell_type": "code",
   "execution_count": 24,
   "metadata": {
    "ExecuteTime": {
     "end_time": "2020-02-02T18:30:31.080322Z",
     "start_time": "2020-02-02T18:30:28.122324Z"
    }
   },
   "outputs": [],
   "source": [
    "df_genome = pd.read_csv(str_genome_scores)"
   ]
  },
  {
   "cell_type": "code",
   "execution_count": 25,
   "metadata": {
    "ExecuteTime": {
     "end_time": "2020-02-02T18:30:31.127410Z",
     "start_time": "2020-02-02T18:30:31.086324Z"
    }
   },
   "outputs": [],
   "source": [
    "df_ratings = pd.read_csv(str_rating_path, nrows=100000)"
   ]
  },
  {
   "cell_type": "code",
   "execution_count": 26,
   "metadata": {
    "ExecuteTime": {
     "end_time": "2020-02-02T18:30:31.154411Z",
     "start_time": "2020-02-02T18:30:31.129410Z"
    }
   },
   "outputs": [],
   "source": [
    "# usecols = ['movieId', 'no_key_frames']\n",
    "# for i in range(1,11):\n",
    "#     usecols += [f'f{i}_median', f'f{i}_quartile1', f'f{i}_quartile3', f'f{i}_std'] \n",
    "# print(len(usecols))\n",
    "usecols = None\n",
    "\n",
    "\n",
    "df_agg = pd.read_csv(str_aggregated_path, nrows=None, usecols=usecols, index_col=config.movieId_col).sort_index()\n",
    "# df_agg = df_agg[df_agg['no_key_frames'] >= minimum_no_of_frames]\n",
    "df_agg.dropna(axis=1, thresh=len(df_agg) - 1000, inplace=True)"
   ]
  },
  {
   "cell_type": "code",
   "execution_count": 27,
   "metadata": {
    "ExecuteTime": {
     "end_time": "2020-02-02T18:30:32.334564Z",
     "start_time": "2020-02-02T18:30:31.162411Z"
    }
   },
   "outputs": [
    {
     "name": "stdout",
     "output_type": "stream",
     "text": [
      "The size of datasets before filtering to the same:\n",
      "VF: (13373, 7) Tag genome: 13816\n",
      "The size of datasets after filtering to the same:\n",
      "VF: (6359, 7) Tag genome: 6359\n"
     ]
    }
   ],
   "source": [
    "print('The size of datasets before filtering to the same:')\n",
    "print('VF:', df_agg.shape,'Tag genome:', df_genome[config.movieId_col].nunique())\n",
    "df_agg, df_genome = tg_builder.Base().filter_tag_and_vf_to_same(df_agg=df_agg, df_genome_scores=df_genome)\n",
    "print('The size of datasets after filtering to the same:')\n",
    "print('VF:', df_agg.shape,'Tag genome:', df_genome[config.movieId_col].nunique())"
   ]
  },
  {
   "cell_type": "code",
   "execution_count": 28,
   "metadata": {
    "ExecuteTime": {
     "end_time": "2020-02-02T18:30:32.345562Z",
     "start_time": "2020-02-02T18:30:32.338561Z"
    }
   },
   "outputs": [],
   "source": [
    "vf_item_features =rpp.ItemFeature()\n",
    "vf_item_features.from_dataframe(df_agg)"
   ]
  },
  {
   "cell_type": "code",
   "execution_count": 29,
   "metadata": {
    "ExecuteTime": {
     "end_time": "2020-02-02T18:30:35.072575Z",
     "start_time": "2020-02-02T18:30:32.348096Z"
    }
   },
   "outputs": [],
   "source": [
    "item_features = rpp.get_item_feature_from_tag_genome(df_genome, number_of_tag_per_movie)"
   ]
  },
  {
   "cell_type": "code",
   "execution_count": 30,
   "metadata": {
    "ExecuteTime": {
     "end_time": "2020-02-02T18:30:35.086340Z",
     "start_time": "2020-02-02T18:30:35.074405Z"
    }
   },
   "outputs": [],
   "source": [
    "df_ratings_filtered = df_ratings[df_ratings[config.movieId_col].isin(item_features.item_ids)]\n",
    "user_activities = df_ratings_filtered[config.userId_col].value_counts()\n",
    "df_ratings_filtered = df_ratings_filtered[df_ratings_filtered[config.userId_col].\\\n",
    "                                          isin(user_activities[user_activities > 1].index)]"
   ]
  },
  {
   "cell_type": "markdown",
   "metadata": {},
   "source": [
    "# Compute tag genome based on visual features"
   ]
  },
  {
   "cell_type": "code",
   "execution_count": 31,
   "metadata": {
    "ExecuteTime": {
     "end_time": "2020-02-02T18:30:35.093387Z",
     "start_time": "2020-02-02T18:30:35.088399Z"
    }
   },
   "outputs": [],
   "source": [
    "normalizer = pp.QuantileTransformer(output_distribution='normal')\n",
    "# normalizer = pp.StandardScaler()\n"
   ]
  },
  {
   "cell_type": "code",
   "execution_count": 32,
   "metadata": {
    "ExecuteTime": {
     "end_time": "2020-02-02T18:30:55.197200Z",
     "start_time": "2020-02-02T18:30:35.095387Z"
    }
   },
   "outputs": [
    {
     "data": {
      "application/vnd.jupyter.widget-view+json": {
       "model_id": "3eb37d6165c7483eaf95b0694177e207",
       "version_major": 2,
       "version_minor": 0
      },
      "text/plain": [
       "HBox(children=(IntProgress(value=0, max=10), HTML(value='')))"
      ]
     },
     "metadata": {},
     "output_type": "display_data"
    },
    {
     "name": "stdout",
     "output_type": "stream",
     "text": [
      "\n",
      "Wall time: 20.1 s\n"
     ]
    }
   ],
   "source": [
    "%%time\n",
    "reload()\n",
    "df_predicted_tag_genome = ms_tg_builder.cross_val_predict(df_visual_features=df_agg,\n",
    "                                                          df_genome_scores=df_genome,\n",
    "                                                          normalizer_vf=normalizer,\n",
    "                                                          n_splits=10, \n",
    "                                                          n_jobs=n_jobs)"
   ]
  },
  {
   "cell_type": "code",
   "execution_count": 33,
   "metadata": {
    "ExecuteTime": {
     "end_time": "2020-02-02T18:30:58.235969Z",
     "start_time": "2020-02-02T18:30:55.210201Z"
    }
   },
   "outputs": [],
   "source": [
    "item_features_vf_tg = rpp.get_item_feature_from_tag_genome(df_predicted_tag_genome, number_of_tag_per_movie)"
   ]
  },
  {
   "cell_type": "markdown",
   "metadata": {},
   "source": [
    "# Train test split\n",
    "## rating dataset and tag item features"
   ]
  },
  {
   "cell_type": "code",
   "execution_count": 34,
   "metadata": {
    "ExecuteTime": {
     "end_time": "2020-02-02T18:30:58.278683Z",
     "start_time": "2020-02-02T18:30:58.238781Z"
    }
   },
   "outputs": [],
   "source": [
    "reload()\n",
    "df_rating_train, df_rating_test = \\\n",
    "    rms.train_test_split(df_ratings_filtered, item_features=None, strategy='sklearn', test_size=.25)"
   ]
  },
  {
   "cell_type": "code",
   "execution_count": 35,
   "metadata": {
    "ExecuteTime": {
     "end_time": "2020-02-02T18:30:58.293625Z",
     "start_time": "2020-02-02T18:30:58.280591Z"
    }
   },
   "outputs": [],
   "source": [
    "vf_normalizer = tg_builder.VisualFeatureNormalizer()\n",
    "normalizer = pp.StandardScaler()\n",
    "df_agg_train = df_agg.loc[df_rating_train[config.movieId_col].unique()]\n",
    "df_agg_train_normalized = vf_normalizer.fit_transform(df_agg_train, normalizer)\n",
    "df_agg_test = df_agg.loc[df_rating_test[config.movieId_col].unique()]\n",
    "df_agg_test_normalized = vf_normalizer.transform(df_agg_test)\n",
    "\n",
    "item_features_vf_train = rpp.ItemFeature()\n",
    "item_features_vf_train.from_dataframe(df_agg_train_normalized)\n",
    "item_features_vf_test = rpp.ItemFeature()\n",
    "item_features_vf_test.from_dataframe(df_agg_test_normalized)\n"
   ]
  },
  {
   "cell_type": "markdown",
   "metadata": {},
   "source": [
    "## tag genome computed using visual features"
   ]
  },
  {
   "cell_type": "code",
   "execution_count": 36,
   "metadata": {
    "ExecuteTime": {
     "end_time": "2020-02-02T18:30:58.411562Z",
     "start_time": "2020-02-02T18:30:58.294603Z"
    }
   },
   "outputs": [],
   "source": [
    "reload()\n",
    "item_features_vf_tg_train, item_features_vf_tg_test = \\\n",
    "(item_features_vf_tg.get_item_feature_by_list_of_items(df_rating_train[config.movieId_col].unique()),\n",
    "item_features_vf_tg.get_item_feature_by_list_of_items(df_rating_test[config.movieId_col].unique()))"
   ]
  },
  {
   "cell_type": "markdown",
   "metadata": {
    "ExecuteTime": {
     "end_time": "2020-02-01T17:56:42.598597Z",
     "start_time": "2020-02-01T17:56:42.596581Z"
    }
   },
   "source": [
    "# Computing rating on test data"
   ]
  },
  {
   "cell_type": "markdown",
   "metadata": {},
   "source": [
    "# Train the content based recommender and predict on test on VF tag genome"
   ]
  },
  {
   "cell_type": "code",
   "execution_count": 39,
   "metadata": {
    "ExecuteTime": {
     "end_time": "2020-02-02T18:32:13.830269Z",
     "start_time": "2020-02-02T18:31:06.330807Z"
    }
   },
   "outputs": [
    {
     "data": {
      "application/vnd.jupyter.widget-view+json": {
       "model_id": "baf4db0aa473451a9abc2fb74917002a",
       "version_major": 2,
       "version_minor": 0
      },
      "text/plain": [
       "HBox(children=(IntProgress(value=0, max=10), HTML(value='')))"
      ]
     },
     "metadata": {},
     "output_type": "display_data"
    },
    {
     "name": "stdout",
     "output_type": "stream",
     "text": [
      "\n",
      "Warning: 794 (5.46%) of ratings has no prediction\n",
      "Warning: 183 (1.26%) of ratings has no prediction\n",
      "Warning: 80 (0.55%) of ratings has no prediction\n",
      "Warning: 51 (0.35%) of ratings has no prediction\n",
      "Warning: 40 (0.27%) of ratings has no prediction\n",
      "Warning: 21 (0.14%) of ratings has no prediction\n",
      "Warning: 19 (0.13%) of ratings has no prediction\n",
      "Warning: 16 (0.11%) of ratings has no prediction\n",
      "Warning: 12 (0.08%) of ratings has no prediction\n",
      "Warning: 9 (0.06%) of ratings has no prediction\n"
     ]
    }
   ],
   "source": [
    "reload()\n",
    "df_rating_test = \\\n",
    "experiment_tools.get_predictions_for_different_number_of_tags(df_predicted_tag_genome,\n",
    "                                                   np.arange(1,11),\n",
    "                                                   df_rating_train,\n",
    "                                                   df_rating_test,\n",
    "                                                   n_jobs=10)\n"
   ]
  },
  {
   "cell_type": "code",
   "execution_count": null,
   "metadata": {
    "ExecuteTime": {
     "end_time": "2020-02-02T18:26:23.530401Z",
     "start_time": "2020-02-02T18:26:20.126Z"
    }
   },
   "outputs": [],
   "source": [
    "df_rating_test"
   ]
  },
  {
   "cell_type": "code",
   "execution_count": 40,
   "metadata": {
    "ExecuteTime": {
     "end_time": "2020-02-02T18:34:49.209898Z",
     "start_time": "2020-02-02T18:32:13.833270Z"
    }
   },
   "outputs": [
    {
     "data": {
      "application/vnd.jupyter.widget-view+json": {
       "model_id": "faca790157bf40d29a6b0e0a02de8255",
       "version_major": 2,
       "version_minor": 0
      },
      "text/plain": [
       "HBox(children=(IntProgress(value=0, max=10), HTML(value='')))"
      ]
     },
     "metadata": {},
     "output_type": "display_data"
    },
    {
     "name": "stdout",
     "output_type": "stream",
     "text": [
      "Warning: 794 (5.46%) of ratings has no prediction\n",
      "vf_tg_1\n"
     ]
    },
    {
     "data": {
      "text/html": [
       "<div>\n",
       "<style scoped>\n",
       "    .dataframe tbody tr th:only-of-type {\n",
       "        vertical-align: middle;\n",
       "    }\n",
       "\n",
       "    .dataframe tbody tr th {\n",
       "        vertical-align: top;\n",
       "    }\n",
       "\n",
       "    .dataframe thead th {\n",
       "        text-align: right;\n",
       "    }\n",
       "</style>\n",
       "<table border=\"1\" class=\"dataframe\">\n",
       "  <thead>\n",
       "    <tr style=\"text-align: right;\">\n",
       "      <th></th>\n",
       "      <th>Average Score</th>\n",
       "      <th>MAE</th>\n",
       "      <th>RMSE</th>\n",
       "      <th>NRMSE</th>\n",
       "      <th>R2</th>\n",
       "      <th>Std of residuals</th>\n",
       "      <th>Avg of residuals</th>\n",
       "      <th>Coverage</th>\n",
       "    </tr>\n",
       "  </thead>\n",
       "  <tbody>\n",
       "    <tr>\n",
       "      <th>vf_tg_1</th>\n",
       "      <td>3.565244</td>\n",
       "      <td>0.776589</td>\n",
       "      <td>1.013876</td>\n",
       "      <td>0.284378</td>\n",
       "      <td>0.060825</td>\n",
       "      <td>1.013912</td>\n",
       "      <td>0.000527</td>\n",
       "      <td>0.94543</td>\n",
       "    </tr>\n",
       "  </tbody>\n",
       "</table>\n",
       "</div>"
      ],
      "text/plain": [
       "         Average Score       MAE      RMSE     NRMSE        R2  \\\n",
       "vf_tg_1       3.565244  0.776589  1.013876  0.284378  0.060825   \n",
       "\n",
       "         Std of residuals  Avg of residuals  Coverage  \n",
       "vf_tg_1          1.013912          0.000527   0.94543  "
      ]
     },
     "metadata": {},
     "output_type": "display_data"
    },
    {
     "name": "stdout",
     "output_type": "stream",
     "text": [
      "Warning: 183 (1.26%) of ratings has no prediction\n",
      "vf_tg_2\n"
     ]
    },
    {
     "data": {
      "text/html": [
       "<div>\n",
       "<style scoped>\n",
       "    .dataframe tbody tr th:only-of-type {\n",
       "        vertical-align: middle;\n",
       "    }\n",
       "\n",
       "    .dataframe tbody tr th {\n",
       "        vertical-align: top;\n",
       "    }\n",
       "\n",
       "    .dataframe thead th {\n",
       "        text-align: right;\n",
       "    }\n",
       "</style>\n",
       "<table border=\"1\" class=\"dataframe\">\n",
       "  <thead>\n",
       "    <tr style=\"text-align: right;\">\n",
       "      <th></th>\n",
       "      <th>Average Score</th>\n",
       "      <th>MAE</th>\n",
       "      <th>RMSE</th>\n",
       "      <th>NRMSE</th>\n",
       "      <th>R2</th>\n",
       "      <th>Std of residuals</th>\n",
       "      <th>Avg of residuals</th>\n",
       "      <th>Coverage</th>\n",
       "    </tr>\n",
       "  </thead>\n",
       "  <tbody>\n",
       "    <tr>\n",
       "      <th>vf_tg_2</th>\n",
       "      <td>3.574615</td>\n",
       "      <td>0.752768</td>\n",
       "      <td>0.974761</td>\n",
       "      <td>0.27269</td>\n",
       "      <td>0.131786</td>\n",
       "      <td>0.974794</td>\n",
       "      <td>-0.001501</td>\n",
       "      <td>0.987423</td>\n",
       "    </tr>\n",
       "  </tbody>\n",
       "</table>\n",
       "</div>"
      ],
      "text/plain": [
       "         Average Score       MAE      RMSE    NRMSE        R2  \\\n",
       "vf_tg_2       3.574615  0.752768  0.974761  0.27269  0.131786   \n",
       "\n",
       "         Std of residuals  Avg of residuals  Coverage  \n",
       "vf_tg_2          0.974794         -0.001501  0.987423  "
      ]
     },
     "metadata": {},
     "output_type": "display_data"
    },
    {
     "name": "stdout",
     "output_type": "stream",
     "text": [
      "Warning: 80 (0.55%) of ratings has no prediction\n",
      "vf_tg_3\n"
     ]
    },
    {
     "data": {
      "text/html": [
       "<div>\n",
       "<style scoped>\n",
       "    .dataframe tbody tr th:only-of-type {\n",
       "        vertical-align: middle;\n",
       "    }\n",
       "\n",
       "    .dataframe tbody tr th {\n",
       "        vertical-align: top;\n",
       "    }\n",
       "\n",
       "    .dataframe thead th {\n",
       "        text-align: right;\n",
       "    }\n",
       "</style>\n",
       "<table border=\"1\" class=\"dataframe\">\n",
       "  <thead>\n",
       "    <tr style=\"text-align: right;\">\n",
       "      <th></th>\n",
       "      <th>Average Score</th>\n",
       "      <th>MAE</th>\n",
       "      <th>RMSE</th>\n",
       "      <th>NRMSE</th>\n",
       "      <th>R2</th>\n",
       "      <th>Std of residuals</th>\n",
       "      <th>Avg of residuals</th>\n",
       "      <th>Coverage</th>\n",
       "    </tr>\n",
       "  </thead>\n",
       "  <tbody>\n",
       "    <tr>\n",
       "      <th>vf_tg_3</th>\n",
       "      <td>3.575363</td>\n",
       "      <td>0.747819</td>\n",
       "      <td>0.966361</td>\n",
       "      <td>0.270283</td>\n",
       "      <td>0.147295</td>\n",
       "      <td>0.966347</td>\n",
       "      <td>-0.009655</td>\n",
       "      <td>0.994502</td>\n",
       "    </tr>\n",
       "  </tbody>\n",
       "</table>\n",
       "</div>"
      ],
      "text/plain": [
       "         Average Score       MAE      RMSE     NRMSE        R2  \\\n",
       "vf_tg_3       3.575363  0.747819  0.966361  0.270283  0.147295   \n",
       "\n",
       "         Std of residuals  Avg of residuals  Coverage  \n",
       "vf_tg_3          0.966347         -0.009655  0.994502  "
      ]
     },
     "metadata": {},
     "output_type": "display_data"
    },
    {
     "name": "stdout",
     "output_type": "stream",
     "text": [
      "Warning: 51 (0.35%) of ratings has no prediction\n",
      "vf_tg_4\n"
     ]
    },
    {
     "data": {
      "text/html": [
       "<div>\n",
       "<style scoped>\n",
       "    .dataframe tbody tr th:only-of-type {\n",
       "        vertical-align: middle;\n",
       "    }\n",
       "\n",
       "    .dataframe tbody tr th {\n",
       "        vertical-align: top;\n",
       "    }\n",
       "\n",
       "    .dataframe thead th {\n",
       "        text-align: right;\n",
       "    }\n",
       "</style>\n",
       "<table border=\"1\" class=\"dataframe\">\n",
       "  <thead>\n",
       "    <tr style=\"text-align: right;\">\n",
       "      <th></th>\n",
       "      <th>Average Score</th>\n",
       "      <th>MAE</th>\n",
       "      <th>RMSE</th>\n",
       "      <th>NRMSE</th>\n",
       "      <th>R2</th>\n",
       "      <th>Std of residuals</th>\n",
       "      <th>Avg of residuals</th>\n",
       "      <th>Coverage</th>\n",
       "    </tr>\n",
       "  </thead>\n",
       "  <tbody>\n",
       "    <tr>\n",
       "      <th>vf_tg_4</th>\n",
       "      <td>3.576143</td>\n",
       "      <td>0.746159</td>\n",
       "      <td>0.964354</td>\n",
       "      <td>0.269663</td>\n",
       "      <td>0.150412</td>\n",
       "      <td>0.964353</td>\n",
       "      <td>-0.008165</td>\n",
       "      <td>0.996495</td>\n",
       "    </tr>\n",
       "  </tbody>\n",
       "</table>\n",
       "</div>"
      ],
      "text/plain": [
       "         Average Score       MAE      RMSE     NRMSE        R2  \\\n",
       "vf_tg_4       3.576143  0.746159  0.964354  0.269663  0.150412   \n",
       "\n",
       "         Std of residuals  Avg of residuals  Coverage  \n",
       "vf_tg_4          0.964353         -0.008165  0.996495  "
      ]
     },
     "metadata": {},
     "output_type": "display_data"
    },
    {
     "name": "stdout",
     "output_type": "stream",
     "text": [
      "Warning: 40 (0.27%) of ratings has no prediction\n",
      "vf_tg_5\n"
     ]
    },
    {
     "data": {
      "text/html": [
       "<div>\n",
       "<style scoped>\n",
       "    .dataframe tbody tr th:only-of-type {\n",
       "        vertical-align: middle;\n",
       "    }\n",
       "\n",
       "    .dataframe tbody tr th {\n",
       "        vertical-align: top;\n",
       "    }\n",
       "\n",
       "    .dataframe thead th {\n",
       "        text-align: right;\n",
       "    }\n",
       "</style>\n",
       "<table border=\"1\" class=\"dataframe\">\n",
       "  <thead>\n",
       "    <tr style=\"text-align: right;\">\n",
       "      <th></th>\n",
       "      <th>Average Score</th>\n",
       "      <th>MAE</th>\n",
       "      <th>RMSE</th>\n",
       "      <th>NRMSE</th>\n",
       "      <th>R2</th>\n",
       "      <th>Std of residuals</th>\n",
       "      <th>Avg of residuals</th>\n",
       "      <th>Coverage</th>\n",
       "    </tr>\n",
       "  </thead>\n",
       "  <tbody>\n",
       "    <tr>\n",
       "      <th>vf_tg_5</th>\n",
       "      <td>3.575913</td>\n",
       "      <td>0.744763</td>\n",
       "      <td>0.961348</td>\n",
       "      <td>0.26884</td>\n",
       "      <td>0.155734</td>\n",
       "      <td>0.961356</td>\n",
       "      <td>-0.006966</td>\n",
       "      <td>0.997251</td>\n",
       "    </tr>\n",
       "  </tbody>\n",
       "</table>\n",
       "</div>"
      ],
      "text/plain": [
       "         Average Score       MAE      RMSE    NRMSE        R2  \\\n",
       "vf_tg_5       3.575913  0.744763  0.961348  0.26884  0.155734   \n",
       "\n",
       "         Std of residuals  Avg of residuals  Coverage  \n",
       "vf_tg_5          0.961356         -0.006966  0.997251  "
      ]
     },
     "metadata": {},
     "output_type": "display_data"
    },
    {
     "name": "stdout",
     "output_type": "stream",
     "text": [
      "Warning: 21 (0.14%) of ratings has no prediction\n",
      "vf_tg_6\n"
     ]
    },
    {
     "data": {
      "text/html": [
       "<div>\n",
       "<style scoped>\n",
       "    .dataframe tbody tr th:only-of-type {\n",
       "        vertical-align: middle;\n",
       "    }\n",
       "\n",
       "    .dataframe tbody tr th {\n",
       "        vertical-align: top;\n",
       "    }\n",
       "\n",
       "    .dataframe thead th {\n",
       "        text-align: right;\n",
       "    }\n",
       "</style>\n",
       "<table border=\"1\" class=\"dataframe\">\n",
       "  <thead>\n",
       "    <tr style=\"text-align: right;\">\n",
       "      <th></th>\n",
       "      <th>Average Score</th>\n",
       "      <th>MAE</th>\n",
       "      <th>RMSE</th>\n",
       "      <th>NRMSE</th>\n",
       "      <th>R2</th>\n",
       "      <th>Std of residuals</th>\n",
       "      <th>Avg of residuals</th>\n",
       "      <th>Coverage</th>\n",
       "    </tr>\n",
       "  </thead>\n",
       "  <tbody>\n",
       "    <tr>\n",
       "      <th>vf_tg_6</th>\n",
       "      <td>3.575952</td>\n",
       "      <td>0.744125</td>\n",
       "      <td>0.960576</td>\n",
       "      <td>0.268621</td>\n",
       "      <td>0.156694</td>\n",
       "      <td>0.960589</td>\n",
       "      <td>-0.006063</td>\n",
       "      <td>0.998557</td>\n",
       "    </tr>\n",
       "  </tbody>\n",
       "</table>\n",
       "</div>"
      ],
      "text/plain": [
       "         Average Score       MAE      RMSE     NRMSE        R2  \\\n",
       "vf_tg_6       3.575952  0.744125  0.960576  0.268621  0.156694   \n",
       "\n",
       "         Std of residuals  Avg of residuals  Coverage  \n",
       "vf_tg_6          0.960589         -0.006063  0.998557  "
      ]
     },
     "metadata": {},
     "output_type": "display_data"
    },
    {
     "name": "stdout",
     "output_type": "stream",
     "text": [
      "Warning: 19 (0.13%) of ratings has no prediction\n",
      "vf_tg_7\n"
     ]
    },
    {
     "data": {
      "text/html": [
       "<div>\n",
       "<style scoped>\n",
       "    .dataframe tbody tr th:only-of-type {\n",
       "        vertical-align: middle;\n",
       "    }\n",
       "\n",
       "    .dataframe tbody tr th {\n",
       "        vertical-align: top;\n",
       "    }\n",
       "\n",
       "    .dataframe thead th {\n",
       "        text-align: right;\n",
       "    }\n",
       "</style>\n",
       "<table border=\"1\" class=\"dataframe\">\n",
       "  <thead>\n",
       "    <tr style=\"text-align: right;\">\n",
       "      <th></th>\n",
       "      <th>Average Score</th>\n",
       "      <th>MAE</th>\n",
       "      <th>RMSE</th>\n",
       "      <th>NRMSE</th>\n",
       "      <th>R2</th>\n",
       "      <th>Std of residuals</th>\n",
       "      <th>Avg of residuals</th>\n",
       "      <th>Coverage</th>\n",
       "    </tr>\n",
       "  </thead>\n",
       "  <tbody>\n",
       "    <tr>\n",
       "      <th>vf_tg_7</th>\n",
       "      <td>3.575907</td>\n",
       "      <td>0.743414</td>\n",
       "      <td>0.95949</td>\n",
       "      <td>0.268321</td>\n",
       "      <td>0.15866</td>\n",
       "      <td>0.959502</td>\n",
       "      <td>-0.006295</td>\n",
       "      <td>0.998694</td>\n",
       "    </tr>\n",
       "  </tbody>\n",
       "</table>\n",
       "</div>"
      ],
      "text/plain": [
       "         Average Score       MAE     RMSE     NRMSE       R2  \\\n",
       "vf_tg_7       3.575907  0.743414  0.95949  0.268321  0.15866   \n",
       "\n",
       "         Std of residuals  Avg of residuals  Coverage  \n",
       "vf_tg_7          0.959502         -0.006295  0.998694  "
      ]
     },
     "metadata": {},
     "output_type": "display_data"
    },
    {
     "name": "stdout",
     "output_type": "stream",
     "text": [
      "Warning: 16 (0.11%) of ratings has no prediction\n",
      "vf_tg_8\n"
     ]
    },
    {
     "data": {
      "text/html": [
       "<div>\n",
       "<style scoped>\n",
       "    .dataframe tbody tr th:only-of-type {\n",
       "        vertical-align: middle;\n",
       "    }\n",
       "\n",
       "    .dataframe tbody tr th {\n",
       "        vertical-align: top;\n",
       "    }\n",
       "\n",
       "    .dataframe thead th {\n",
       "        text-align: right;\n",
       "    }\n",
       "</style>\n",
       "<table border=\"1\" class=\"dataframe\">\n",
       "  <thead>\n",
       "    <tr style=\"text-align: right;\">\n",
       "      <th></th>\n",
       "      <th>Average Score</th>\n",
       "      <th>MAE</th>\n",
       "      <th>RMSE</th>\n",
       "      <th>NRMSE</th>\n",
       "      <th>R2</th>\n",
       "      <th>Std of residuals</th>\n",
       "      <th>Avg of residuals</th>\n",
       "      <th>Coverage</th>\n",
       "    </tr>\n",
       "  </thead>\n",
       "  <tbody>\n",
       "    <tr>\n",
       "      <th>vf_tg_8</th>\n",
       "      <td>3.575925</td>\n",
       "      <td>0.742774</td>\n",
       "      <td>0.958691</td>\n",
       "      <td>0.268096</td>\n",
       "      <td>0.16003</td>\n",
       "      <td>0.958709</td>\n",
       "      <td>-0.005278</td>\n",
       "      <td>0.9989</td>\n",
       "    </tr>\n",
       "  </tbody>\n",
       "</table>\n",
       "</div>"
      ],
      "text/plain": [
       "         Average Score       MAE      RMSE     NRMSE       R2  \\\n",
       "vf_tg_8       3.575925  0.742774  0.958691  0.268096  0.16003   \n",
       "\n",
       "         Std of residuals  Avg of residuals  Coverage  \n",
       "vf_tg_8          0.958709         -0.005278    0.9989  "
      ]
     },
     "metadata": {},
     "output_type": "display_data"
    },
    {
     "name": "stdout",
     "output_type": "stream",
     "text": [
      "Warning: 12 (0.08%) of ratings has no prediction\n",
      "vf_tg_9\n"
     ]
    },
    {
     "data": {
      "text/html": [
       "<div>\n",
       "<style scoped>\n",
       "    .dataframe tbody tr th:only-of-type {\n",
       "        vertical-align: middle;\n",
       "    }\n",
       "\n",
       "    .dataframe tbody tr th {\n",
       "        vertical-align: top;\n",
       "    }\n",
       "\n",
       "    .dataframe thead th {\n",
       "        text-align: right;\n",
       "    }\n",
       "</style>\n",
       "<table border=\"1\" class=\"dataframe\">\n",
       "  <thead>\n",
       "    <tr style=\"text-align: right;\">\n",
       "      <th></th>\n",
       "      <th>Average Score</th>\n",
       "      <th>MAE</th>\n",
       "      <th>RMSE</th>\n",
       "      <th>NRMSE</th>\n",
       "      <th>R2</th>\n",
       "      <th>Std of residuals</th>\n",
       "      <th>Avg of residuals</th>\n",
       "      <th>Coverage</th>\n",
       "    </tr>\n",
       "  </thead>\n",
       "  <tbody>\n",
       "    <tr>\n",
       "      <th>vf_tg_9</th>\n",
       "      <td>3.576076</td>\n",
       "      <td>0.742717</td>\n",
       "      <td>0.958202</td>\n",
       "      <td>0.267948</td>\n",
       "      <td>0.160781</td>\n",
       "      <td>0.958221</td>\n",
       "      <td>-0.005262</td>\n",
       "      <td>0.999175</td>\n",
       "    </tr>\n",
       "  </tbody>\n",
       "</table>\n",
       "</div>"
      ],
      "text/plain": [
       "         Average Score       MAE      RMSE     NRMSE        R2  \\\n",
       "vf_tg_9       3.576076  0.742717  0.958202  0.267948  0.160781   \n",
       "\n",
       "         Std of residuals  Avg of residuals  Coverage  \n",
       "vf_tg_9          0.958221         -0.005262  0.999175  "
      ]
     },
     "metadata": {},
     "output_type": "display_data"
    },
    {
     "name": "stdout",
     "output_type": "stream",
     "text": [
      "Warning: 9 (0.06%) of ratings has no prediction\n",
      "vf_tg_10\n"
     ]
    },
    {
     "data": {
      "text/html": [
       "<div>\n",
       "<style scoped>\n",
       "    .dataframe tbody tr th:only-of-type {\n",
       "        vertical-align: middle;\n",
       "    }\n",
       "\n",
       "    .dataframe tbody tr th {\n",
       "        vertical-align: top;\n",
       "    }\n",
       "\n",
       "    .dataframe thead th {\n",
       "        text-align: right;\n",
       "    }\n",
       "</style>\n",
       "<table border=\"1\" class=\"dataframe\">\n",
       "  <thead>\n",
       "    <tr style=\"text-align: right;\">\n",
       "      <th></th>\n",
       "      <th>Average Score</th>\n",
       "      <th>MAE</th>\n",
       "      <th>RMSE</th>\n",
       "      <th>NRMSE</th>\n",
       "      <th>R2</th>\n",
       "      <th>Std of residuals</th>\n",
       "      <th>Avg of residuals</th>\n",
       "      <th>Coverage</th>\n",
       "    </tr>\n",
       "  </thead>\n",
       "  <tbody>\n",
       "    <tr>\n",
       "      <th>vf_tg_10</th>\n",
       "      <td>3.576198</td>\n",
       "      <td>0.742603</td>\n",
       "      <td>0.958035</td>\n",
       "      <td>0.267892</td>\n",
       "      <td>0.16107</td>\n",
       "      <td>0.958045</td>\n",
       "      <td>-0.006575</td>\n",
       "      <td>0.999381</td>\n",
       "    </tr>\n",
       "  </tbody>\n",
       "</table>\n",
       "</div>"
      ],
      "text/plain": [
       "          Average Score       MAE      RMSE     NRMSE       R2  \\\n",
       "vf_tg_10       3.576198  0.742603  0.958035  0.267892  0.16107   \n",
       "\n",
       "          Std of residuals  Avg of residuals  Coverage  \n",
       "vf_tg_10          0.958045         -0.006575  0.999381  "
      ]
     },
     "metadata": {},
     "output_type": "display_data"
    },
    {
     "name": "stdout",
     "output_type": "stream",
     "text": [
      "\n"
     ]
    }
   ],
   "source": [
    "# for number_of_tag_per_movie in tqdm(range(1, 11), total=10):\n",
    "#     prediction_column_suffix=f'vf_tg_{number_of_tag_per_movie}'\n",
    "#     item_features_vf_tg = rpp.get_item_feature_from_tag_genome(df_predicted_tag_genome, number_of_tag_per_movie)\n",
    "#     item_features_train =\\\n",
    "#         item_features_vf_tg.get_item_feature_by_list_of_items(df_rating_train[config.movieId_col].unique())\n",
    "#     item_features_test =\\\n",
    "#         item_features_vf_tg.get_item_feature_by_list_of_items(df_rating_test[config.movieId_col].unique())\n",
    "#     recommend = item_based.ItemBasedColabCos()\n",
    "#     recommend.fit(df_rating_train, item_features_train)\n",
    "#     test_users = df_rating_test[config.userId_col].unique()\n",
    "#     recommendations = recommend.predict_on_list_of_users(test_users, df_rating_test, item_features_test, n_jobs=10)\n",
    "#     df_rating_test = rtools.prepare_recommendations_df(df_rating_test=df_rating_test,\n",
    "#                                                        recommendations=recommendations, \n",
    "#                                                        prediction_column_suffix=prediction_column_suffix)\n",
    "#     print(prediction_column_suffix)\n",
    "#     display(tools.performance_report(df_rating_test, prediction_column_suffix=prediction_column_suffix))\n",
    "# #     df_rating_test.to_csv(f'df_rating_test_tg_vf{number_of_tag_per_movie}.csv')\n",
    "# # rate_normalizer = rpp.RatingNormalizer()\n",
    "# # df_rating_train[config.rating_col] = rate_normalizer.fit_transform(df_rating_train)\n",
    "# # df_rating_test[config.rating_col] = rate_normalizer.transform(df_rating_test)"
   ]
  },
  {
   "cell_type": "code",
   "execution_count": null,
   "metadata": {
    "ExecuteTime": {
     "end_time": "2020-02-02T18:26:23.532381Z",
     "start_time": "2020-02-02T18:26:20.135Z"
    }
   },
   "outputs": [],
   "source": [
    "wait"
   ]
  },
  {
   "cell_type": "code",
   "execution_count": null,
   "metadata": {},
   "outputs": [],
   "source": []
  },
  {
   "cell_type": "markdown",
   "metadata": {},
   "source": [
    "# looking at the performance"
   ]
  },
  {
   "cell_type": "code",
   "execution_count": null,
   "metadata": {
    "ExecuteTime": {
     "end_time": "2020-02-02T18:26:23.533399Z",
     "start_time": "2020-02-02T18:26:20.160Z"
    }
   },
   "outputs": [],
   "source": [
    "df_rating_test.filter(regex='rating_predicted').hist()\n",
    "1"
   ]
  },
  {
   "cell_type": "code",
   "execution_count": null,
   "metadata": {
    "ExecuteTime": {
     "end_time": "2020-02-02T18:26:23.534398Z",
     "start_time": "2020-02-02T18:26:20.162Z"
    }
   },
   "outputs": [],
   "source": [
    "prediction_column_suffixes = []\n",
    "for c in df_rating_test.filter(regex='rating_predicted').columns:\n",
    "    c = c.replace('rating_predicted', '')\n",
    "    c = c[1:] if len(c) > 0 else c\n",
    "    prediction_column_suffixes.append(c)\n",
    "prediction_column_suffixes"
   ]
  },
  {
   "cell_type": "code",
   "execution_count": null,
   "metadata": {
    "ExecuteTime": {
     "end_time": "2020-02-02T18:26:23.535373Z",
     "start_time": "2020-02-02T18:26:20.163Z"
    }
   },
   "outputs": [],
   "source": [
    "reload()\n",
    "df_performance_report = pd.concat([tools.performance_report(df_rating_test, \n",
    "                                                           prediction_column_suffix=alg) \n",
    "                                  for alg in prediction_column_suffixes]).sort_values('RMSE')\n",
    "df_performance_report"
   ]
  },
  {
   "cell_type": "markdown",
   "metadata": {},
   "source": [
    "## performance table for copying into Latex"
   ]
  },
  {
   "cell_type": "code",
   "execution_count": null,
   "metadata": {
    "ExecuteTime": {
     "end_time": "2020-02-02T18:26:23.536377Z",
     "start_time": "2020-02-02T18:26:20.185Z"
    }
   },
   "outputs": [],
   "source": [
    "print(df_performance_report.to_latex())"
   ]
  },
  {
   "cell_type": "markdown",
   "metadata": {
    "ExecuteTime": {
     "start_time": "2020-01-04T18:56:35.444Z"
    }
   },
   "source": [
    "## Some plots"
   ]
  },
  {
   "cell_type": "code",
   "execution_count": null,
   "metadata": {
    "ExecuteTime": {
     "end_time": "2020-02-02T18:26:23.538391Z",
     "start_time": "2020-02-02T18:26:20.207Z"
    }
   },
   "outputs": [],
   "source": [
    "df_rating_test[config.rating_col].hist()"
   ]
  },
  {
   "cell_type": "code",
   "execution_count": null,
   "metadata": {
    "ExecuteTime": {
     "end_time": "2020-02-02T18:26:23.539376Z",
     "start_time": "2020-02-02T18:26:20.209Z"
    }
   },
   "outputs": [],
   "source": [
    "reload()\n",
    "_ = tools.plot_side_by_side(tools.plot_prediction_histogram,\n",
    "                            df_rating_pred=df_rating_test,\n",
    "                            prediction_column_suffixes=prediction_column_suffixes)"
   ]
  },
  {
   "cell_type": "code",
   "execution_count": null,
   "metadata": {
    "ExecuteTime": {
     "end_time": "2020-02-02T18:26:23.541397Z",
     "start_time": "2020-02-02T18:26:20.212Z"
    }
   },
   "outputs": [],
   "source": [
    "reload()\n",
    "_ = tools.plot_side_by_side(tools.plot_actual_vs_prediction,\n",
    "                            df_rating_pred=df_rating_test,\n",
    "                            prediction_column_suffixes=prediction_column_suffixes,\n",
    "                            alpha=.1)"
   ]
  },
  {
   "cell_type": "code",
   "execution_count": null,
   "metadata": {
    "ExecuteTime": {
     "end_time": "2020-02-02T18:26:23.542391Z",
     "start_time": "2020-02-02T18:26:20.214Z"
    }
   },
   "outputs": [],
   "source": [
    "reload()\n",
    "_ = tools.plot_side_by_side(tools.plot_actual_vs_predicted_boxplot,\n",
    "                            df_rating_pred=df_rating_test,\n",
    "                            prediction_column_suffixes=prediction_column_suffixes)"
   ]
  },
  {
   "cell_type": "code",
   "execution_count": null,
   "metadata": {
    "ExecuteTime": {
     "end_time": "2020-02-02T18:26:23.543375Z",
     "start_time": "2020-02-02T18:26:20.216Z"
    }
   },
   "outputs": [],
   "source": [
    "reload()\n",
    "_ = tools.plot_side_by_side(tools.plot_residual_boxplot,\n",
    "                            df_rating_pred=df_rating_test,\n",
    "                            prediction_column_suffixes=prediction_column_suffixes)"
   ]
  },
  {
   "cell_type": "code",
   "execution_count": null,
   "metadata": {
    "ExecuteTime": {
     "end_time": "2020-02-02T18:26:23.544465Z",
     "start_time": "2020-02-02T18:26:20.220Z"
    }
   },
   "outputs": [],
   "source": [
    "reload()\n",
    "_ = tools.plot_side_by_side(tools.plot_absolute_residual_boxplot,\n",
    "                            df_rating_pred=df_rating_test,\n",
    "                            prediction_column_suffixes=prediction_column_suffixes)"
   ]
  },
  {
   "cell_type": "code",
   "execution_count": null,
   "metadata": {
    "ExecuteTime": {
     "end_time": "2020-02-02T18:26:23.545373Z",
     "start_time": "2020-02-02T18:26:20.222Z"
    }
   },
   "outputs": [],
   "source": [
    "# reload()\n",
    "# _ = tools.plot_side_by_side(tools.plot_actual_vs_predicted_violinplot,\n",
    "#                             df_rating_pred=df_rating_test,\n",
    "#                             prediction_column_suffixes=prediction_column_suffixes)"
   ]
  },
  {
   "cell_type": "markdown",
   "metadata": {},
   "source": [
    "# Save the current notebook into results folder and push to the repository"
   ]
  },
  {
   "cell_type": "code",
   "execution_count": null,
   "metadata": {
    "ExecuteTime": {
     "start_time": "2020-01-30T21:29:03.575Z"
    }
   },
   "outputs": [],
   "source": []
  },
  {
   "cell_type": "code",
   "execution_count": null,
   "metadata": {
    "ExecuteTime": {
     "end_time": "2020-02-02T18:26:23.546405Z",
     "start_time": "2020-02-02T18:26:20.246Z"
    }
   },
   "outputs": [],
   "source": [
    "%%javascript\n",
    "IPython.notebook.save_notebook()"
   ]
  },
  {
   "cell_type": "code",
   "execution_count": null,
   "metadata": {
    "ExecuteTime": {
     "end_time": "2020-02-02T18:26:23.547413Z",
     "start_time": "2020-02-02T18:26:20.248Z"
    }
   },
   "outputs": [],
   "source": [
    "from notebook import notebookapp\n",
    "import urllib\n",
    "import json\n",
    "import os\n",
    "import ipykernel\n",
    "\n",
    "currentTime = lambda : time.strftime('%Y-%m-%d-%H%M')\n",
    "def notebook_path():\n",
    "    \"\"\"Returns the absolute path of the Notebook or None if it cannot be determined\n",
    "    NOTE: works only when the security is token-based or there is also no password\n",
    "    \"\"\"\n",
    "    connection_file = os.path.basename(ipykernel.get_connection_file())\n",
    "    kernel_id = connection_file.split('-', 1)[1].split('.')[0]\n",
    "\n",
    "    for srv in notebookapp.list_running_servers():\n",
    "        try:\n",
    "            if srv['token']=='' and not srv['password']:  # No token and no password, ahem...\n",
    "                req = urllib.request.urlopen(srv['url']+'api/sessions')\n",
    "            else:\n",
    "                req = urllib.request.urlopen(srv['url']+'api/sessions?token='+srv['token'])\n",
    "            sessions = json.load(req)\n",
    "            for sess in sessions:\n",
    "                if sess['kernel']['id'] == kernel_id:\n",
    "                    return os.path.join(srv['notebook_dir'],sess['notebook']['path'])\n",
    "        except:\n",
    "            pass  # There may be stale entries in the runtime directory \n",
    "    return None\n",
    "\n",
    "notebook_dir, notebook_name = os.path.split(notebook_path())\n",
    "output = os.path.join(notebook_dir, 'output', f'{notebook_name}_{currentTime()}.ipynb')\n",
    "os.system(f'jupyter nbconvert --to ipynb {notebook_path()} --output {output}')\n",
    "os.system(f'git add {output}')\n",
    "os.system(f'git commit -m \"result computed on {currentTime()}\"')\n",
    "os.system('git push')"
   ]
  },
  {
   "cell_type": "code",
   "execution_count": null,
   "metadata": {
    "ExecuteTime": {
     "end_time": "2020-02-02T18:26:23.548002Z",
     "start_time": "2020-02-02T18:26:20.251Z"
    }
   },
   "outputs": [],
   "source": [
    "df_rating_test.to_csv(os.path.join(notebook_dir, 'output', f'{notebook_name}_{currentTime()}_df_rating_test.csv'))"
   ]
  },
  {
   "cell_type": "code",
   "execution_count": null,
   "metadata": {},
   "outputs": [],
   "source": []
  }
 ],
 "metadata": {
  "kernelspec": {
   "display_name": "Python 3",
   "language": "python",
   "name": "python3"
  },
  "language_info": {
   "codemirror_mode": {
    "name": "ipython",
    "version": 3
   },
   "file_extension": ".py",
   "mimetype": "text/x-python",
   "name": "python",
   "nbconvert_exporter": "python",
   "pygments_lexer": "ipython3",
   "version": "3.7.1"
  },
  "toc": {
   "base_numbering": 1,
   "nav_menu": {},
   "number_sections": true,
   "sideBar": true,
   "skip_h1_title": false,
   "title_cell": "Table of Contents",
   "title_sidebar": "Contents",
   "toc_cell": false,
   "toc_position": {},
   "toc_section_display": true,
   "toc_window_display": false
  }
 },
 "nbformat": 4,
 "nbformat_minor": 2
}

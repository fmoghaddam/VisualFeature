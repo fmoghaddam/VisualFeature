{
 "cells": [
  {
   "cell_type": "code",
   "execution_count": 1,
   "metadata": {
    "ExecuteTime": {
     "end_time": "2020-02-02T15:36:01.730276Z",
     "start_time": "2020-02-02T15:35:46.900667Z"
    }
   },
   "outputs": [],
   "source": [
    "import numpy as np\n",
    "import pandas as pd\n",
    "from scipy import sparse\n",
    "import os\n",
    "import gc\n",
    "import time\n",
    "import importlib\n",
    "import sklearn.preprocessing as pp\n",
    "import sklearn.model_selection as ms\n",
    "from sklearn import metrics\n",
    "import matplotlib.pyplot as plt\n",
    "import seaborn as sns\n",
    "from tqdm import tqdm_notebook as tqdm\n",
    "\n",
    "from recommender import item_based, dummy as dummy_recommender, preprocessing as rpp, model_selection as rms,\\\n",
    "    tools as rtools\n",
    "import tag_genome_builder as tg_builder\n",
    "from tag_genome_builder import model_selection as ms_tg_builder\n",
    "\n",
    "from lib import tools\n",
    "import config\n",
    "import config_tag_recommender\n",
    "def reload():\n",
    "    importlib.reload(item_based)\n",
    "    importlib.reload(dummy_recommender)\n",
    "    importlib.reload(config)\n",
    "    importlib.reload(tg_builder)\n",
    "    importlib.reload(rpp)\n",
    "    importlib.reload(rms)\n",
    "    importlib.reload(tools)\n",
    "    importlib.reload(config_tag_recommender)\n",
    "    importlib.reload(ms_tg_builder)\n",
    "    importlib.reload(rtools)\n",
    "    \n",
    "    "
   ]
  },
  {
   "cell_type": "markdown",
   "metadata": {},
   "source": [
    "# input params"
   ]
  },
  {
   "cell_type": "code",
   "execution_count": 2,
   "metadata": {
    "ExecuteTime": {
     "end_time": "2020-02-02T15:36:01.822748Z",
     "start_time": "2020-02-02T15:36:01.733236Z"
    }
   },
   "outputs": [],
   "source": [
    "reload()\n",
    "str_aggregated_path = config_tag_recommender.str_aggregated_path\n",
    "str_genome_scores = config_tag_recommender.str_genome_scores\n",
    "str_tags = config_tag_recommender.str_tags\n",
    "str_tag_ids = config_tag_recommender.str_tag_ids\n",
    "str_rating_path = config_tag_recommender.str_rating_path\n",
    "str_data_folder = config_tag_recommender.str_data_folder\n",
    "minimum_no_of_frames = config_tag_recommender.minimum_no_of_frames\n",
    "number_of_tag_per_movie = config_tag_recommender.number_of_tag_per_movie\n",
    "n_jobs = 8"
   ]
  },
  {
   "cell_type": "code",
   "execution_count": 3,
   "metadata": {
    "ExecuteTime": {
     "end_time": "2020-02-02T15:36:01.854264Z",
     "start_time": "2020-02-02T15:36:01.824263Z"
    }
   },
   "outputs": [
    {
     "name": "stdout",
     "output_type": "stream",
     "text": [
      "str_aggregated_path = C:\\Users\\shossein\\Dropbox\\Original Data\\Elahi LowLevel Features\\Mise-en-Scene Dataset_v1\\LLVisualFeatures13K_Log.csv\n",
      "str_genome_scores = ..\\..\\data\\ml-25m\\genome-scores.csv\n",
      "str_tags = ..\\..\\data\\ml-25m\\tags.csv\n",
      "str_tag_ids = ..\\..\\data\\ml-25m\\genome-tags.csv\n",
      "str_rating_path = ..\\..\\data\\ml-25m\\ratings.csv\n",
      "str_data_folder = ..\\..\\data\n",
      "str_aggregated_path = C:\\Users\\shossein\\Dropbox\\Original Data\\Elahi LowLevel Features\\Mise-en-Scene Dataset_v1\\LLVisualFeatures13K_Log.csv\n",
      "minimum_no_of_frames = 10\n",
      "number_of_tag_per_movie = 10\n"
     ]
    }
   ],
   "source": [
    "print('str_aggregated_path =', str_aggregated_path)\n",
    "print('str_genome_scores =', str_genome_scores)\n",
    "print('str_tags =', str_tags)\n",
    "print('str_tag_ids =', str_tag_ids)\n",
    "print('str_rating_path =', str_rating_path)\n",
    "print('str_data_folder =', str_data_folder)\n",
    "print('str_aggregated_path =', str_aggregated_path)\n",
    "print('minimum_no_of_frames =', minimum_no_of_frames)\n",
    "print('number_of_tag_per_movie =', number_of_tag_per_movie)"
   ]
  },
  {
   "cell_type": "markdown",
   "metadata": {},
   "source": [
    "# Read inputs"
   ]
  },
  {
   "cell_type": "code",
   "execution_count": 4,
   "metadata": {
    "ExecuteTime": {
     "end_time": "2020-02-02T15:36:01.866264Z",
     "start_time": "2020-02-02T15:36:01.858262Z"
    }
   },
   "outputs": [],
   "source": [
    "df_tag_ids = pd.read_csv(str_tag_ids, index_col=config.tagId_col)"
   ]
  },
  {
   "cell_type": "code",
   "execution_count": 5,
   "metadata": {
    "ExecuteTime": {
     "end_time": "2020-02-02T15:36:01.874264Z",
     "start_time": "2020-02-02T15:36:01.871263Z"
    }
   },
   "outputs": [],
   "source": [
    "# df_tag_ids.head()"
   ]
  },
  {
   "cell_type": "code",
   "execution_count": 6,
   "metadata": {
    "ExecuteTime": {
     "end_time": "2020-02-02T15:36:32.815529Z",
     "start_time": "2020-02-02T15:36:01.876263Z"
    }
   },
   "outputs": [],
   "source": [
    "df_genome = pd.read_csv(str_genome_scores)"
   ]
  },
  {
   "cell_type": "code",
   "execution_count": 7,
   "metadata": {
    "ExecuteTime": {
     "end_time": "2020-02-02T15:36:55.318350Z",
     "start_time": "2020-02-02T15:36:32.816528Z"
    }
   },
   "outputs": [],
   "source": [
    "df_ratings = pd.read_csv(str_rating_path)"
   ]
  },
  {
   "cell_type": "code",
   "execution_count": 8,
   "metadata": {
    "ExecuteTime": {
     "end_time": "2020-02-02T15:36:55.474867Z",
     "start_time": "2020-02-02T15:36:55.319352Z"
    }
   },
   "outputs": [],
   "source": [
    "# usecols = ['movieId', 'no_key_frames']\n",
    "# for i in range(1,11):\n",
    "#     usecols += [f'f{i}_median', f'f{i}_quartile1', f'f{i}_quartile3', f'f{i}_std'] \n",
    "# print(len(usecols))\n",
    "usecols = None\n",
    "\n",
    "\n",
    "df_agg = pd.read_csv(str_aggregated_path, nrows=None, usecols=usecols, index_col=config.movieId_col).sort_index()\n",
    "# df_agg = df_agg[df_agg['no_key_frames'] >= minimum_no_of_frames]\n",
    "df_agg.dropna(axis=1, thresh=len(df_agg) - 1000, inplace=True)"
   ]
  },
  {
   "cell_type": "code",
   "execution_count": 9,
   "metadata": {
    "ExecuteTime": {
     "end_time": "2020-02-02T15:37:02.227543Z",
     "start_time": "2020-02-02T15:36:55.476868Z"
    }
   },
   "outputs": [
    {
     "name": "stdout",
     "output_type": "stream",
     "text": [
      "The size of datasets before filtering to the same:\n",
      "VF: (13373, 7) Tag genome: 13816\n",
      "The size of datasets after filtering to the same:\n",
      "VF: (6359, 7) Tag genome: 6359\n"
     ]
    }
   ],
   "source": [
    "print('The size of datasets before filtering to the same:')\n",
    "print('VF:', df_agg.shape,'Tag genome:', df_genome[config.movieId_col].nunique())\n",
    "df_agg, df_genome = tg_builder.Base().filter_tag_and_vf_to_same(df_agg=df_agg, df_genome_scores=df_genome)\n",
    "print('The size of datasets after filtering to the same:')\n",
    "print('VF:', df_agg.shape,'Tag genome:', df_genome[config.movieId_col].nunique())"
   ]
  },
  {
   "cell_type": "code",
   "execution_count": 10,
   "metadata": {
    "ExecuteTime": {
     "end_time": "2020-02-02T15:37:02.236544Z",
     "start_time": "2020-02-02T15:37:02.230544Z"
    }
   },
   "outputs": [],
   "source": [
    "vf_item_features =rpp.ItemFeature()\n",
    "vf_item_features.from_dataframe(df_agg)"
   ]
  },
  {
   "cell_type": "code",
   "execution_count": 11,
   "metadata": {
    "ExecuteTime": {
     "end_time": "2020-02-02T15:37:18.458793Z",
     "start_time": "2020-02-02T15:37:02.238543Z"
    }
   },
   "outputs": [],
   "source": [
    "item_features = rpp.get_item_feature_from_tag_genome(df_genome, number_of_tag_per_movie)"
   ]
  },
  {
   "cell_type": "code",
   "execution_count": 12,
   "metadata": {
    "ExecuteTime": {
     "end_time": "2020-02-02T15:37:50.852213Z",
     "start_time": "2020-02-02T15:37:18.460794Z"
    }
   },
   "outputs": [],
   "source": [
    "df_ratings_filtered = df_ratings[df_ratings[config.movieId_col].isin(item_features.item_ids)]\n",
    "user_activities = df_ratings_filtered[config.userId_col].value_counts()\n",
    "df_ratings_filtered = df_ratings_filtered[df_ratings_filtered[config.userId_col].\\\n",
    "                                          isin(user_activities[user_activities > 1].index)]"
   ]
  },
  {
   "cell_type": "markdown",
   "metadata": {},
   "source": [
    "# Compute tag genome based on visual features"
   ]
  },
  {
   "cell_type": "code",
   "execution_count": 13,
   "metadata": {
    "ExecuteTime": {
     "end_time": "2020-02-02T15:37:50.858213Z",
     "start_time": "2020-02-02T15:37:50.853213Z"
    }
   },
   "outputs": [],
   "source": [
    "normalizer = pp.QuantileTransformer(output_distribution='normal')\n",
    "# normalizer = pp.StandardScaler()\n"
   ]
  },
  {
   "cell_type": "code",
   "execution_count": 14,
   "metadata": {
    "ExecuteTime": {
     "end_time": "2020-02-02T15:39:15.923639Z",
     "start_time": "2020-02-02T15:37:50.976225Z"
    }
   },
   "outputs": [
    {
     "data": {
      "application/vnd.jupyter.widget-view+json": {
       "model_id": "3088d991b8cb4664a4f04286d7eba65a",
       "version_major": 2,
       "version_minor": 0
      },
      "text/plain": [
       "HBox(children=(IntProgress(value=0, max=10), HTML(value='')))"
      ]
     },
     "metadata": {},
     "output_type": "display_data"
    },
    {
     "name": "stdout",
     "output_type": "stream",
     "text": [
      "\n",
      "Wall time: 1min 24s\n"
     ]
    }
   ],
   "source": [
    "%%time\n",
    "reload()\n",
    "df_predicted_tag_genome = ms_tg_builder.cross_val_predict(df_visual_features=df_agg,\n",
    "                                                          df_genome_scores=df_genome,\n",
    "                                                          normalizer_vf=normalizer,\n",
    "                                                          n_splits=10, \n",
    "                                                          n_jobs=n_jobs)"
   ]
  },
  {
   "cell_type": "code",
   "execution_count": 15,
   "metadata": {
    "ExecuteTime": {
     "end_time": "2020-02-02T15:39:33.133012Z",
     "start_time": "2020-02-02T15:39:15.925639Z"
    }
   },
   "outputs": [],
   "source": [
    "item_features_vf_tg = rpp.get_item_feature_from_tag_genome(df_predicted_tag_genome, number_of_tag_per_movie)"
   ]
  },
  {
   "cell_type": "markdown",
   "metadata": {},
   "source": [
    "# Train test split\n",
    "## rating dataset and tag item features"
   ]
  },
  {
   "cell_type": "code",
   "execution_count": 16,
   "metadata": {
    "ExecuteTime": {
     "end_time": "2020-02-02T15:40:13.325036Z",
     "start_time": "2020-02-02T15:39:33.135013Z"
    }
   },
   "outputs": [],
   "source": [
    "reload()\n",
    "df_rating_train, df_rating_test = \\\n",
    "    rms.train_test_split(df_ratings_filtered, item_features=None, strategy='sklearn', test_size=.25)"
   ]
  },
  {
   "cell_type": "code",
   "execution_count": 17,
   "metadata": {
    "ExecuteTime": {
     "end_time": "2020-02-02T15:40:14.166036Z",
     "start_time": "2020-02-02T15:40:13.327036Z"
    }
   },
   "outputs": [],
   "source": [
    "vf_normalizer = tg_builder.VisualFeatureNormalizer()\n",
    "normalizer = pp.StandardScaler()\n",
    "df_agg_train = df_agg.loc[df_rating_train[config.movieId_col].unique()]\n",
    "df_agg_train_normalized = vf_normalizer.fit_transform(df_agg_train, normalizer)\n",
    "df_agg_test = df_agg.loc[df_rating_test[config.movieId_col].unique()]\n",
    "df_agg_test_normalized = vf_normalizer.transform(df_agg_test)\n",
    "\n",
    "item_features_vf_train = rpp.ItemFeature()\n",
    "item_features_vf_train.from_dataframe(df_agg_train_normalized)\n",
    "item_features_vf_test = rpp.ItemFeature()\n",
    "item_features_vf_test.from_dataframe(df_agg_test_normalized)\n"
   ]
  },
  {
   "cell_type": "markdown",
   "metadata": {},
   "source": [
    "## tag genome computed using visual features"
   ]
  },
  {
   "cell_type": "code",
   "execution_count": 18,
   "metadata": {
    "ExecuteTime": {
     "end_time": "2020-02-02T15:40:16.465909Z",
     "start_time": "2020-02-02T15:40:14.276071Z"
    }
   },
   "outputs": [],
   "source": [
    "reload()\n",
    "item_features_vf_tg_train, item_features_vf_tg_test = \\\n",
    "(item_features_vf_tg.get_item_feature_by_list_of_items(df_rating_train[config.movieId_col].unique()),\n",
    "item_features_vf_tg.get_item_feature_by_list_of_items(df_rating_test[config.movieId_col].unique()))"
   ]
  },
  {
   "cell_type": "markdown",
   "metadata": {
    "ExecuteTime": {
     "end_time": "2020-02-01T17:56:42.598597Z",
     "start_time": "2020-02-01T17:56:42.596581Z"
    }
   },
   "source": [
    "# Computing rating on test data"
   ]
  },
  {
   "cell_type": "markdown",
   "metadata": {},
   "source": [
    "# Train the content based recommender and predict on test on VF tag genome"
   ]
  },
  {
   "cell_type": "code",
   "execution_count": null,
   "metadata": {
    "ExecuteTime": {
     "start_time": "2020-02-02T15:35:48.038Z"
    }
   },
   "outputs": [],
   "source": [
    "# recommend_vf_tg = item_based.ItemBasedColabCos()\n",
    "# recommend_vf_tg.fit(df_rating_train, item_features_vf_tg_train)"
   ]
  },
  {
   "cell_type": "code",
   "execution_count": null,
   "metadata": {
    "ExecuteTime": {
     "start_time": "2020-02-02T15:35:48.041Z"
    },
    "scrolled": true
   },
   "outputs": [],
   "source": [
    "# %%time\n",
    "# test_users_vf = df_rating_test[config.userId_col].unique()\n",
    "# recommendations_vf_tg = recommend_vf_tg.\\\n",
    "#     predict_on_list_of_users(test_users_vf, df_rating_test, item_features_vf_tg_test, n_jobs=n_jobs)"
   ]
  },
  {
   "cell_type": "code",
   "execution_count": null,
   "metadata": {
    "ExecuteTime": {
     "start_time": "2020-02-02T15:35:48.111Z"
    }
   },
   "outputs": [],
   "source": [
    "# df_rating_test = rtools.prepare_recommendations_df(df_rating_test=df_rating_test,\n",
    "#                                                    recommendations=recommendations_vf_tg, \n",
    "#                                                    prediction_column_suffix='vf_tg')"
   ]
  },
  {
   "cell_type": "markdown",
   "metadata": {},
   "source": [
    "## VF tags"
   ]
  },
  {
   "cell_type": "code",
   "execution_count": null,
   "metadata": {
    "ExecuteTime": {
     "start_time": "2020-02-02T15:35:48.232Z"
    }
   },
   "outputs": [
    {
     "data": {
      "application/vnd.jupyter.widget-view+json": {
       "model_id": "b81460f15a484fd0ae0fd7e437e8dd5c",
       "version_major": 2,
       "version_minor": 0
      },
      "text/plain": [
       "HBox(children=(IntProgress(value=0, max=10), HTML(value='')))"
      ]
     },
     "metadata": {},
     "output_type": "display_data"
    }
   ],
   "source": [
    "for number_of_tag_per_movie in tqdm(range(1, 11), total=10):\n",
    "    prediction_column_suffix=f'vf_tg_{number_of_tag_per_movie}'\n",
    "    item_features = rpp.get_item_feature_from_tag_genome(df_predicted_tag_genome, number_of_tag_per_movie)\n",
    "    item_features_train =\\\n",
    "        item_features_vf_tg.get_item_feature_by_list_of_items(df_rating_train[config.movieId_col].unique())\n",
    "    item_features_test =\\\n",
    "        item_features_vf_tg.get_item_feature_by_list_of_items(df_rating_test[config.movieId_col].unique())\n",
    "    recommend = item_based.ItemBasedColabCos()\n",
    "    recommend.fit(df_rating_train, item_features_train)\n",
    "    test_users = df_rating_test[config.userId_col].unique()\n",
    "    recommendations = recommend.predict_on_list_of_users(test_users, df_rating_test, item_features_test, n_jobs=n_jobs)\n",
    "    df_rating_test = rtools.prepare_recommendations_df(df_rating_test=df_rating_test,\n",
    "                                                       recommendations=recommendations, \n",
    "                                                       prediction_column_suffix=prediction_column_suffix)\n",
    "    print(prediction_column_suffix)\n",
    "    display(tools.performance_report(df_rating_test, prediction_column_suffix=prediction_column_suffix))\n",
    "    df_rating_test.to_csv(f'df_rating_test_tg_vf{number_of_tag_per_movie}.csv')\n",
    "# rate_normalizer = rpp.RatingNormalizer()\n",
    "# df_rating_train[config.rating_col] = rate_normalizer.fit_transform(df_rating_train)\n",
    "# df_rating_test[config.rating_col] = rate_normalizer.transform(df_rating_test)"
   ]
  },
  {
   "cell_type": "markdown",
   "metadata": {},
   "source": [
    "# looking at the performance"
   ]
  },
  {
   "cell_type": "code",
   "execution_count": null,
   "metadata": {
    "ExecuteTime": {
     "start_time": "2020-02-02T15:35:48.406Z"
    }
   },
   "outputs": [],
   "source": [
    "df_rating_test.filter(regex='rating_predicted').hist()\n",
    "1"
   ]
  },
  {
   "cell_type": "code",
   "execution_count": null,
   "metadata": {
    "ExecuteTime": {
     "start_time": "2020-02-02T15:35:48.409Z"
    }
   },
   "outputs": [],
   "source": [
    "prediction_column_suffixes = []\n",
    "for c in df_rating_test.filter(regex='rating_predicted').columns:\n",
    "    c = c.replace('rating_predicted', '')\n",
    "    c = c[1:] if len(c) > 0 else c\n",
    "    prediction_column_suffixes.append(c)\n",
    "prediction_column_suffixes"
   ]
  },
  {
   "cell_type": "code",
   "execution_count": null,
   "metadata": {
    "ExecuteTime": {
     "start_time": "2020-02-02T15:35:48.412Z"
    }
   },
   "outputs": [],
   "source": [
    "reload()\n",
    "df_performance_report = pd.concat([tools.performance_report(df_rating_test, \n",
    "                                                           prediction_column_suffix=alg) \n",
    "                                  for alg in prediction_column_suffixes]).sort_values('RMSE')\n",
    "df_performance_report"
   ]
  },
  {
   "cell_type": "markdown",
   "metadata": {},
   "source": [
    "## performance table for copying into Latex"
   ]
  },
  {
   "cell_type": "code",
   "execution_count": null,
   "metadata": {
    "ExecuteTime": {
     "start_time": "2020-02-02T15:35:48.494Z"
    }
   },
   "outputs": [],
   "source": [
    "print(df_performance_report.to_latex())"
   ]
  },
  {
   "cell_type": "markdown",
   "metadata": {
    "ExecuteTime": {
     "start_time": "2020-01-04T18:56:35.444Z"
    }
   },
   "source": [
    "## Some plots"
   ]
  },
  {
   "cell_type": "code",
   "execution_count": null,
   "metadata": {
    "ExecuteTime": {
     "start_time": "2020-02-02T15:35:48.602Z"
    }
   },
   "outputs": [],
   "source": [
    "df_rating_test[config.rating_col].hist()"
   ]
  },
  {
   "cell_type": "code",
   "execution_count": null,
   "metadata": {
    "ExecuteTime": {
     "start_time": "2020-02-02T15:35:48.605Z"
    }
   },
   "outputs": [],
   "source": [
    "reload()\n",
    "_ = tools.plot_side_by_side(tools.plot_prediction_histogram,\n",
    "                            df_rating_pred=df_rating_test,\n",
    "                            prediction_column_suffixes=prediction_column_suffixes)"
   ]
  },
  {
   "cell_type": "code",
   "execution_count": null,
   "metadata": {
    "ExecuteTime": {
     "start_time": "2020-02-02T15:35:48.608Z"
    }
   },
   "outputs": [],
   "source": [
    "reload()\n",
    "_ = tools.plot_side_by_side(tools.plot_actual_vs_prediction,\n",
    "                            df_rating_pred=df_rating_test,\n",
    "                            prediction_column_suffixes=prediction_column_suffixes,\n",
    "                            alpha=.1)"
   ]
  },
  {
   "cell_type": "code",
   "execution_count": null,
   "metadata": {
    "ExecuteTime": {
     "start_time": "2020-02-02T15:35:48.611Z"
    }
   },
   "outputs": [],
   "source": [
    "reload()\n",
    "_ = tools.plot_side_by_side(tools.plot_actual_vs_predicted_boxplot,\n",
    "                            df_rating_pred=df_rating_test,\n",
    "                            prediction_column_suffixes=prediction_column_suffixes)"
   ]
  },
  {
   "cell_type": "code",
   "execution_count": null,
   "metadata": {
    "ExecuteTime": {
     "start_time": "2020-02-02T15:35:48.615Z"
    }
   },
   "outputs": [],
   "source": [
    "reload()\n",
    "_ = tools.plot_side_by_side(tools.plot_residual_boxplot,\n",
    "                            df_rating_pred=df_rating_test,\n",
    "                            prediction_column_suffixes=prediction_column_suffixes)"
   ]
  },
  {
   "cell_type": "code",
   "execution_count": null,
   "metadata": {
    "ExecuteTime": {
     "start_time": "2020-02-02T15:35:48.690Z"
    }
   },
   "outputs": [],
   "source": [
    "reload()\n",
    "_ = tools.plot_side_by_side(tools.plot_absolute_residual_boxplot,\n",
    "                            df_rating_pred=df_rating_test,\n",
    "                            prediction_column_suffixes=prediction_column_suffixes)"
   ]
  },
  {
   "cell_type": "code",
   "execution_count": null,
   "metadata": {
    "ExecuteTime": {
     "start_time": "2020-02-02T15:35:48.692Z"
    }
   },
   "outputs": [],
   "source": [
    "# reload()\n",
    "# _ = tools.plot_side_by_side(tools.plot_actual_vs_predicted_violinplot,\n",
    "#                             df_rating_pred=df_rating_test,\n",
    "#                             prediction_column_suffixes=prediction_column_suffixes)"
   ]
  },
  {
   "cell_type": "markdown",
   "metadata": {},
   "source": [
    "# Save the current notebook into results folder and push to the repository"
   ]
  },
  {
   "cell_type": "code",
   "execution_count": null,
   "metadata": {
    "ExecuteTime": {
     "start_time": "2020-01-30T21:29:03.575Z"
    }
   },
   "outputs": [],
   "source": []
  },
  {
   "cell_type": "code",
   "execution_count": null,
   "metadata": {
    "ExecuteTime": {
     "start_time": "2020-02-02T15:35:48.780Z"
    }
   },
   "outputs": [],
   "source": [
    "%%javascript\n",
    "IPython.notebook.save_notebook()"
   ]
  },
  {
   "cell_type": "code",
   "execution_count": null,
   "metadata": {
    "ExecuteTime": {
     "start_time": "2020-02-02T15:35:48.783Z"
    }
   },
   "outputs": [],
   "source": [
    "from notebook import notebookapp\n",
    "import urllib\n",
    "import json\n",
    "import os\n",
    "import ipykernel\n",
    "\n",
    "currentTime = lambda : time.strftime('%Y-%m-%d-%H%M')\n",
    "def notebook_path():\n",
    "    \"\"\"Returns the absolute path of the Notebook or None if it cannot be determined\n",
    "    NOTE: works only when the security is token-based or there is also no password\n",
    "    \"\"\"\n",
    "    connection_file = os.path.basename(ipykernel.get_connection_file())\n",
    "    kernel_id = connection_file.split('-', 1)[1].split('.')[0]\n",
    "\n",
    "    for srv in notebookapp.list_running_servers():\n",
    "        try:\n",
    "            if srv['token']=='' and not srv['password']:  # No token and no password, ahem...\n",
    "                req = urllib.request.urlopen(srv['url']+'api/sessions')\n",
    "            else:\n",
    "                req = urllib.request.urlopen(srv['url']+'api/sessions?token='+srv['token'])\n",
    "            sessions = json.load(req)\n",
    "            for sess in sessions:\n",
    "                if sess['kernel']['id'] == kernel_id:\n",
    "                    return os.path.join(srv['notebook_dir'],sess['notebook']['path'])\n",
    "        except:\n",
    "            pass  # There may be stale entries in the runtime directory \n",
    "    return None\n",
    "\n",
    "notebook_dir, notebook_name = os.path.split(notebook_path())\n",
    "output = os.path.join(notebook_dir, 'output', f'{notebook_name}_{currentTime()}.ipynb')\n",
    "os.system(f'jupyter nbconvert --to ipynb {notebook_path()} --output {output}')\n",
    "os.system(f'git add {output}')\n",
    "os.system(f'git commit -m \"result computed on {currentTime()}\"')\n",
    "os.system('git push')"
   ]
  },
  {
   "cell_type": "code",
   "execution_count": null,
   "metadata": {
    "ExecuteTime": {
     "start_time": "2020-02-02T15:35:48.785Z"
    }
   },
   "outputs": [],
   "source": [
    "df_rating_test.to_csv(os.path.join(notebook_dir, 'output', f'{notebook_name}_{currentTime()}_df_rating_test.csv'))"
   ]
  },
  {
   "cell_type": "code",
   "execution_count": null,
   "metadata": {},
   "outputs": [],
   "source": []
  }
 ],
 "metadata": {
  "kernelspec": {
   "display_name": "Python 3",
   "language": "python",
   "name": "python3"
  },
  "language_info": {
   "codemirror_mode": {
    "name": "ipython",
    "version": 3
   },
   "file_extension": ".py",
   "mimetype": "text/x-python",
   "name": "python",
   "nbconvert_exporter": "python",
   "pygments_lexer": "ipython3",
   "version": "3.7.1"
  },
  "toc": {
   "base_numbering": 1,
   "nav_menu": {},
   "number_sections": true,
   "sideBar": true,
   "skip_h1_title": false,
   "title_cell": "Table of Contents",
   "title_sidebar": "Contents",
   "toc_cell": false,
   "toc_position": {},
   "toc_section_display": true,
   "toc_window_display": false
  }
 },
 "nbformat": 4,
 "nbformat_minor": 2
}

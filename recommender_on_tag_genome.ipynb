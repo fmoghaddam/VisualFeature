{
 "cells": [
  {
   "cell_type": "code",
   "execution_count": 1,
   "metadata": {
    "ExecuteTime": {
     "end_time": "2020-01-26T13:57:12.622361Z",
     "start_time": "2020-01-26T13:57:06.864230Z"
    }
   },
   "outputs": [],
   "source": [
    "import numpy as np\n",
    "import pandas as pd\n",
    "from scipy import sparse\n",
    "import os\n",
    "import gc\n",
    "import time\n",
    "import importlib\n",
    "import sklearn.preprocessing as pp\n",
    "import sklearn.model_selection as ms\n",
    "from sklearn import metrics\n",
    "import matplotlib.pyplot as plt\n",
    "import seaborn as sns\n",
    "\n",
    "from recommender import item_based, dummy as dummy_recommender, preprocessing as rpp, model_selection as rms,\\\n",
    "    tools as rtools\n",
    "import tag_genome_builder as tg_builder\n",
    "from tag_genome_builder import model_selection as ms_tg_builder\n",
    "\n",
    "from lib import tools\n",
    "import config\n",
    "import config_tag_recommender\n",
    "def reload():\n",
    "    importlib.reload(item_based)\n",
    "    importlib.reload(dummy_recommender)\n",
    "    importlib.reload(config)\n",
    "    importlib.reload(tg_builder)\n",
    "    importlib.reload(rpp)\n",
    "    importlib.reload(rms)\n",
    "    importlib.reload(tools)\n",
    "    importlib.reload(config_tag_recommender)\n",
    "    importlib.reload(ms_tg_builder)\n",
    "    importlib.reload(rtools)\n",
    "    \n",
    "    "
   ]
  },
  {
   "cell_type": "markdown",
   "metadata": {},
   "source": [
    "# input params"
   ]
  },
  {
   "cell_type": "code",
   "execution_count": 2,
   "metadata": {
    "ExecuteTime": {
     "end_time": "2020-01-26T13:57:12.634363Z",
     "start_time": "2020-01-26T13:57:12.624361Z"
    }
   },
   "outputs": [],
   "source": [
    "reload()\n",
    "str_aggregated_path = config_tag_recommender.str_aggregated_path\n",
    "str_genome_scores = config_tag_recommender.str_genome_scores\n",
    "str_tag_ids = config_tag_recommender.str_tag_ids\n",
    "str_rating_path = config_tag_recommender.str_rating_path\n",
    "str_data_folder = config_tag_recommender.str_data_folder\n",
    "minimum_no_of_frames = config_tag_recommender.minimum_no_of_frames\n",
    "number_of_tag_per_movie = config_tag_recommender.number_of_tag_per_movie\n",
    "n_jobs = 10"
   ]
  },
  {
   "cell_type": "code",
   "execution_count": 3,
   "metadata": {
    "ExecuteTime": {
     "end_time": "2020-01-26T13:57:12.655365Z",
     "start_time": "2020-01-26T13:57:12.636367Z"
    }
   },
   "outputs": [
    {
     "name": "stdout",
     "output_type": "stream",
     "text": [
      "str_aggregated_path = C:\\Users\\shossein\\Dropbox\\Original Data\\Elahi LowLevel Features\\Mise-en-Scene Dataset_v1\\LLVisualFeatures13K_Log.csv\n",
      "str_genome_scores = ..\\..\\data\\ml-25m\\genome-scores.csv\n",
      "str_tag_ids = ..\\..\\data\\ml-25m\\genome-tags.csv\n",
      "str_rating_path = ..\\..\\data\\ml-25m\\ratings.csv\n",
      "str_data_folder = ..\\..\\data\n",
      "str_aggregated_path = C:\\Users\\shossein\\Dropbox\\Original Data\\Elahi LowLevel Features\\Mise-en-Scene Dataset_v1\\LLVisualFeatures13K_Log.csv\n",
      "minimum_no_of_frames = 10\n",
      "number_of_tag_per_movie = 10\n"
     ]
    }
   ],
   "source": [
    "print('str_aggregated_path =', str_aggregated_path)\n",
    "print('str_genome_scores =', str_genome_scores)\n",
    "print('str_tag_ids =', str_tag_ids)\n",
    "print('str_rating_path =', str_rating_path)\n",
    "print('str_data_folder =', str_data_folder)\n",
    "print('str_aggregated_path =', str_aggregated_path)\n",
    "print('minimum_no_of_frames =', minimum_no_of_frames)\n",
    "print('number_of_tag_per_movie =', number_of_tag_per_movie)"
   ]
  },
  {
   "cell_type": "markdown",
   "metadata": {},
   "source": [
    "# Read inputs"
   ]
  },
  {
   "cell_type": "code",
   "execution_count": 4,
   "metadata": {
    "ExecuteTime": {
     "end_time": "2020-01-26T13:57:12.671362Z",
     "start_time": "2020-01-26T13:57:12.657363Z"
    }
   },
   "outputs": [],
   "source": [
    "df_tag_ids = pd.read_csv(str_tag_ids, index_col=config.tagId_col)"
   ]
  },
  {
   "cell_type": "code",
   "execution_count": 5,
   "metadata": {
    "ExecuteTime": {
     "end_time": "2020-01-26T13:57:17.642264Z",
     "start_time": "2020-01-26T13:57:17.639268Z"
    }
   },
   "outputs": [],
   "source": [
    "# df_tag_ids.head()"
   ]
  },
  {
   "cell_type": "code",
   "execution_count": 6,
   "metadata": {
    "ExecuteTime": {
     "end_time": "2020-01-26T13:57:21.218146Z",
     "start_time": "2020-01-26T13:57:18.379150Z"
    }
   },
   "outputs": [],
   "source": [
    "df_genome = pd.read_csv(str_genome_scores)"
   ]
  },
  {
   "cell_type": "code",
   "execution_count": 7,
   "metadata": {
    "ExecuteTime": {
     "end_time": "2020-01-26T13:57:26.304305Z",
     "start_time": "2020-01-26T13:57:21.221147Z"
    }
   },
   "outputs": [],
   "source": [
    "df_ratings = pd.read_csv(str_rating_path)"
   ]
  },
  {
   "cell_type": "code",
   "execution_count": 8,
   "metadata": {
    "ExecuteTime": {
     "end_time": "2020-01-26T13:57:26.718506Z",
     "start_time": "2020-01-26T13:57:26.306302Z"
    }
   },
   "outputs": [],
   "source": [
    "# usecols = ['movieId', 'no_key_frames']\n",
    "# for i in range(1,11):\n",
    "#     usecols += [f'f{i}_median', f'f{i}_quartile1', f'f{i}_quartile3', f'f{i}_std'] \n",
    "# print(len(usecols))\n",
    "usecols = None\n",
    "\n",
    "\n",
    "df_agg = pd.read_csv(str_aggregated_path, nrows=None, usecols=usecols, index_col=config.movieId_col).sort_index()\n",
    "# df_agg = df_agg[df_agg['no_key_frames'] >= minimum_no_of_frames]\n",
    "df_agg.dropna(axis=1, thresh=len(df_agg) - 1000, inplace=True)"
   ]
  },
  {
   "cell_type": "code",
   "execution_count": 9,
   "metadata": {
    "ExecuteTime": {
     "end_time": "2020-01-26T13:57:27.874989Z",
     "start_time": "2020-01-26T13:57:26.721302Z"
    }
   },
   "outputs": [
    {
     "name": "stdout",
     "output_type": "stream",
     "text": [
      "The size of datasets before filtering to the same:\n",
      "VF: (13373, 7) Tag genome: 13816\n",
      "The size of datasets after filtering to the same:\n",
      "VF: (6359, 7) Tag genome: 6359\n"
     ]
    }
   ],
   "source": [
    "print('The size of datasets before filtering to the same:')\n",
    "print('VF:', df_agg.shape,'Tag genome:', df_genome[config.movieId_col].nunique())\n",
    "df_agg, df_genome = tg_builder.Base().filter_tag_and_vf_to_same(df_agg=df_agg, df_genome_scores=df_genome)\n",
    "print('The size of datasets after filtering to the same:')\n",
    "print('VF:', df_agg.shape,'Tag genome:', df_genome[config.movieId_col].nunique())"
   ]
  },
  {
   "cell_type": "code",
   "execution_count": 10,
   "metadata": {
    "ExecuteTime": {
     "end_time": "2020-01-26T13:57:27.884988Z",
     "start_time": "2020-01-26T13:57:27.876990Z"
    }
   },
   "outputs": [],
   "source": [
    "vf_item_features =rpp.ItemFeature()\n",
    "vf_item_features.from_dataframe(df_agg)"
   ]
  },
  {
   "cell_type": "code",
   "execution_count": 11,
   "metadata": {
    "ExecuteTime": {
     "end_time": "2020-01-26T13:57:30.497327Z",
     "start_time": "2020-01-26T13:57:27.887988Z"
    }
   },
   "outputs": [],
   "source": [
    "item_features = rpp.get_item_feature_from_tag_genome(df_genome, number_of_tag_per_movie)"
   ]
  },
  {
   "cell_type": "code",
   "execution_count": 12,
   "metadata": {
    "ExecuteTime": {
     "end_time": "2020-01-26T13:57:35.944076Z",
     "start_time": "2020-01-26T13:57:30.498361Z"
    }
   },
   "outputs": [],
   "source": [
    "df_ratings_filtered = df_ratings[df_ratings[config.movieId_col].isin(item_features.item_ids)]\n",
    "user_activities = df_ratings_filtered[config.userId_col].value_counts()\n",
    "df_ratings_filtered = df_ratings_filtered[df_ratings_filtered[config.userId_col].\\\n",
    "                                          isin(user_activities[user_activities > 1].index)]"
   ]
  },
  {
   "cell_type": "markdown",
   "metadata": {},
   "source": [
    "# Compute tag genome based on visual features"
   ]
  },
  {
   "cell_type": "code",
   "execution_count": 13,
   "metadata": {
    "ExecuteTime": {
     "end_time": "2020-01-26T13:57:35.951888Z",
     "start_time": "2020-01-26T13:57:35.947885Z"
    }
   },
   "outputs": [],
   "source": [
    "normalizer = pp.QuantileTransformer(output_distribution='normal')\n",
    "# normalizer = pp.StandardScaler()\n"
   ]
  },
  {
   "cell_type": "code",
   "execution_count": 14,
   "metadata": {
    "ExecuteTime": {
     "end_time": "2020-01-26T13:57:56.454602Z",
     "start_time": "2020-01-26T13:57:35.954884Z"
    }
   },
   "outputs": [
    {
     "data": {
      "application/vnd.jupyter.widget-view+json": {
       "model_id": "c308744139af435a9269c586bc47c73e",
       "version_major": 2,
       "version_minor": 0
      },
      "text/plain": [
       "HBox(children=(IntProgress(value=0, max=10), HTML(value='')))"
      ]
     },
     "metadata": {},
     "output_type": "display_data"
    },
    {
     "name": "stdout",
     "output_type": "stream",
     "text": [
      "\n",
      "Wall time: 20.5 s\n"
     ]
    }
   ],
   "source": [
    "%%time\n",
    "reload()\n",
    "df_predicted_tag_genome = ms_tg_builder.cross_val_predict(df_visual_features=df_agg,\n",
    "                                                          df_genome_scores=df_genome,\n",
    "                                                          normalizer_vf=normalizer,\n",
    "                                                          n_splits=10, \n",
    "                                                          n_jobs=n_jobs)"
   ]
  },
  {
   "cell_type": "code",
   "execution_count": 15,
   "metadata": {
    "ExecuteTime": {
     "end_time": "2020-01-26T13:57:59.448957Z",
     "start_time": "2020-01-26T13:57:56.455602Z"
    }
   },
   "outputs": [],
   "source": [
    "item_features_vf_tg = rpp.get_item_feature_from_tag_genome(df_predicted_tag_genome, number_of_tag_per_movie)"
   ]
  },
  {
   "cell_type": "markdown",
   "metadata": {},
   "source": [
    "# Dump to disk"
   ]
  },
  {
   "cell_type": "code",
   "execution_count": 16,
   "metadata": {
    "ExecuteTime": {
     "end_time": "2020-01-26T13:57:59.452715Z",
     "start_time": "2020-01-26T13:57:59.449928Z"
    }
   },
   "outputs": [],
   "source": [
    "# vf_normalizer0 = tg_builder.VisualFeatureNormalizer()\n",
    "# normalizer0 = pp.QuantileTransformer()\n",
    "# df_agg_norm = vf_normalizer0.fit_transform(df_agg, normalizer0)"
   ]
  },
  {
   "cell_type": "code",
   "execution_count": 17,
   "metadata": {
    "ExecuteTime": {
     "end_time": "2020-01-26T13:57:59.467033Z",
     "start_time": "2020-01-26T13:57:59.453899Z"
    }
   },
   "outputs": [],
   "source": [
    "# df_agg_norm.to_csv('./output/processed_data/df_aggregated_vf_normalized.csv')\n",
    "\n",
    "# df_ratings_filtered.to_csv('./output/processed_data/df_rating_filtered.csv', index=False)\n",
    "\n",
    "# df_predicted_tag_genome.to_csv('./output/processed_data/df_predicted_tag_genome.csv', index=False)\n",
    "\n",
    "# df_tag_features = pd.DataFrame(item_features.feature_matrix.toarray(),\n",
    "#                               index=item_features.item_ids,\n",
    "#                               columns=item_features.feature_names)\n",
    "# df_tag_features.index.name = config.movieId_col\n",
    "\n",
    "# df_tag_features.to_csv('./output/processed_data/df_movie_tag_features.csv')"
   ]
  },
  {
   "cell_type": "code",
   "execution_count": null,
   "metadata": {},
   "outputs": [],
   "source": []
  },
  {
   "cell_type": "markdown",
   "metadata": {},
   "source": [
    "# Train test split\n",
    "## rating dataset and tag item features"
   ]
  },
  {
   "cell_type": "code",
   "execution_count": 18,
   "metadata": {
    "ExecuteTime": {
     "end_time": "2020-01-26T13:58:08.263446Z",
     "start_time": "2020-01-26T13:57:59.469996Z"
    }
   },
   "outputs": [],
   "source": [
    "reload()\n",
    "df_rating_train, df_rating_test, item_features_train, item_features_test = \\\n",
    "    rms.train_test_split(df_ratings_filtered, item_features, strategy='sklearn', test_size=.25)\n",
    "\n",
    "# rate_normalizer = rpp.RatingNormalizer()\n",
    "# df_rating_train[config.rating_col] = rate_normalizer.fit_transform(df_rating_train)\n",
    "# df_rating_test[config.rating_col] = rate_normalizer.transform(df_rating_test)"
   ]
  },
  {
   "cell_type": "markdown",
   "metadata": {},
   "source": [
    "## tag genome computed using visual features"
   ]
  },
  {
   "cell_type": "code",
   "execution_count": 19,
   "metadata": {
    "ExecuteTime": {
     "end_time": "2020-01-26T13:58:08.579237Z",
     "start_time": "2020-01-26T13:58:08.265269Z"
    }
   },
   "outputs": [],
   "source": [
    "reload()\n",
    "item_features_vf_tg_train, item_features_vf_tg_test = \\\n",
    "(item_features_vf_tg.get_item_feature_by_list_of_items(df_rating_train[config.movieId_col].unique()),\n",
    "item_features_vf_tg.get_item_feature_by_list_of_items(df_rating_test[config.movieId_col].unique()))"
   ]
  },
  {
   "cell_type": "markdown",
   "metadata": {},
   "source": [
    "## Visual features"
   ]
  },
  {
   "cell_type": "code",
   "execution_count": 20,
   "metadata": {
    "ExecuteTime": {
     "end_time": "2020-01-26T13:58:08.702852Z",
     "start_time": "2020-01-26T13:58:08.580230Z"
    }
   },
   "outputs": [],
   "source": [
    "vf_normalizer = tg_builder.VisualFeatureNormalizer()\n",
    "normalizer = pp.StandardScaler()\n",
    "df_agg_train = df_agg.loc[df_rating_train[config.movieId_col].unique()]\n",
    "df_agg_train_normalized = vf_normalizer.fit_transform(df_agg_train, normalizer)\n",
    "df_agg_test = df_agg.loc[df_rating_test[config.movieId_col].unique()]\n",
    "df_agg_test_normalized = vf_normalizer.transform(df_agg_test)\n",
    "\n",
    "item_features_vf_train = rpp.ItemFeature()\n",
    "item_features_vf_train.from_dataframe(df_agg_train_normalized)\n",
    "item_features_vf_test = rpp.ItemFeature()\n",
    "item_features_vf_test.from_dataframe(df_agg_test_normalized)\n"
   ]
  },
  {
   "cell_type": "code",
   "execution_count": 21,
   "metadata": {
    "ExecuteTime": {
     "end_time": "2020-01-26T13:58:08.707788Z",
     "start_time": "2020-01-26T13:58:08.703819Z"
    }
   },
   "outputs": [
    {
     "data": {
      "text/plain": [
       "(6359, 6359)"
      ]
     },
     "execution_count": 21,
     "metadata": {},
     "output_type": "execute_result"
    }
   ],
   "source": [
    "len(df_agg_test), len(df_agg_train)"
   ]
  },
  {
   "cell_type": "code",
   "execution_count": 22,
   "metadata": {
    "ExecuteTime": {
     "end_time": "2020-01-26T13:58:08.716786Z",
     "start_time": "2020-01-26T13:58:08.709789Z"
    }
   },
   "outputs": [
    {
     "data": {
      "text/plain": [
       "(6359, 6359)"
      ]
     },
     "execution_count": 22,
     "metadata": {},
     "output_type": "execute_result"
    }
   ],
   "source": [
    "len(df_agg_test_normalized), len(df_agg_train_normalized)"
   ]
  },
  {
   "cell_type": "markdown",
   "metadata": {},
   "source": [
    "# Explore"
   ]
  },
  {
   "cell_type": "code",
   "execution_count": 23,
   "metadata": {
    "ExecuteTime": {
     "end_time": "2020-01-26T13:58:28.401677Z",
     "start_time": "2020-01-26T13:58:27.649598Z"
    }
   },
   "outputs": [
    {
     "data": {
      "text/plain": [
       "1"
      ]
     },
     "execution_count": 23,
     "metadata": {},
     "output_type": "execute_result"
    },
    {
     "data": {
      "image/png": "[encoded data removed]",
      "text/plain": [
       "<Figure size 720x1080 with 9 Axes>"
      ]
     },
     "metadata": {
      "needs_background": "light"
     },
     "output_type": "display_data"
    }
   ],
   "source": [
    "df_agg.hist(figsize=(10, 15))\n",
    "1"
   ]
  },
  {
   "cell_type": "code",
   "execution_count": 24,
   "metadata": {
    "ExecuteTime": {
     "end_time": "2020-01-26T13:58:29.271775Z",
     "start_time": "2020-01-26T13:58:28.625444Z"
    }
   },
   "outputs": [
    {
     "data": {
      "text/plain": [
       "1"
      ]
     },
     "execution_count": 24,
     "metadata": {},
     "output_type": "execute_result"
    },
    {
     "data": {
      "image/png": "[encoded data removed]",
      "text/plain": [
       "<Figure size 720x720 with 9 Axes>"
      ]
     },
     "metadata": {
      "needs_background": "light"
     },
     "output_type": "display_data"
    }
   ],
   "source": [
    "item_features_vf_train.to_dataframe().hist(figsize=(10, 10))\n",
    "1"
   ]
  },
  {
   "cell_type": "code",
   "execution_count": 25,
   "metadata": {
    "ExecuteTime": {
     "end_time": "2020-01-26T13:58:29.929775Z",
     "start_time": "2020-01-26T13:58:29.273794Z"
    }
   },
   "outputs": [
    {
     "data": {
      "text/plain": [
       "1"
      ]
     },
     "execution_count": 25,
     "metadata": {},
     "output_type": "execute_result"
    },
    {
     "data": {
      "image/png": "[encoded data removed]",
      "text/plain": [
       "<Figure size 720x720 with 9 Axes>"
      ]
     },
     "metadata": {
      "needs_background": "light"
     },
     "output_type": "display_data"
    }
   ],
   "source": [
    "item_features_vf_test.to_dataframe().hist(figsize=(10, 10))\n",
    "1"
   ]
  },
  {
   "cell_type": "code",
   "execution_count": 26,
   "metadata": {
    "ExecuteTime": {
     "end_time": "2020-01-26T13:58:35.330197Z",
     "start_time": "2020-01-26T13:58:34.515326Z"
    }
   },
   "outputs": [],
   "source": [
    "similarities_vf = metrics.pairwise.cosine_similarity(item_features_vf_test.feature_matrix)"
   ]
  },
  {
   "cell_type": "code",
   "execution_count": 27,
   "metadata": {
    "ExecuteTime": {
     "end_time": "2020-01-26T13:58:35.974512Z",
     "start_time": "2020-01-26T13:58:35.332144Z"
    },
    "scrolled": false
   },
   "outputs": [
    {
     "data": {
      "text/plain": [
       "1"
      ]
     },
     "execution_count": 27,
     "metadata": {},
     "output_type": "execute_result"
    },
    {
     "data": {
      "image/png": "[encoded data removed]",
      "text/plain": [
       "<Figure size 432x288 with 1 Axes>"
      ]
     },
     "metadata": {
      "needs_background": "light"
     },
     "output_type": "display_data"
    }
   ],
   "source": [
    "plt.hist(similarities_vf.ravel())\n",
    "1"
   ]
  },
  {
   "cell_type": "markdown",
   "metadata": {},
   "source": [
    "# Dump train and tests to disk"
   ]
  },
  {
   "cell_type": "code",
   "execution_count": 28,
   "metadata": {
    "ExecuteTime": {
     "end_time": "2020-01-26T13:59:23.107910Z",
     "start_time": "2020-01-26T13:59:23.104496Z"
    }
   },
   "outputs": [],
   "source": [
    "# df_agg_train_normalized.to_csv('./output/processed_data/df_aggregated_vf_train_normalized.csv')\n",
    "# df_agg_test_normalized.to_csv('./output/processed_data/df_aggregated_vf_test_normalized.csv')"
   ]
  },
  {
   "cell_type": "code",
   "execution_count": 29,
   "metadata": {
    "ExecuteTime": {
     "end_time": "2020-01-26T13:59:23.337061Z",
     "start_time": "2020-01-26T13:59:23.333076Z"
    }
   },
   "outputs": [],
   "source": [
    "# df_rating_train.to_csv('./output/processed_data/df_rating_train.csv', index=False)\n",
    "# df_rating_test.to_csv('./output/processed_data/df_rating_test.csv', index=False)"
   ]
  },
  {
   "cell_type": "code",
   "execution_count": 30,
   "metadata": {
    "ExecuteTime": {
     "end_time": "2020-01-26T13:59:23.590610Z",
     "start_time": "2020-01-26T13:59:23.587167Z"
    }
   },
   "outputs": [],
   "source": [
    "# item_features_vf_tg_train.to_dataframe().to_csv('./output/processed_data/df_predicted_tag_genome_features_train.csv')\n",
    "# item_features_vf_tg_test.to_dataframe().to_csv('./output/processed_data/df_predicted_tag_genome_features_test.csv')\n",
    "\n",
    "# # df_predicted_tag_genome.to_csv('./output/processed_data/df_predicted_tag_genome.csv', index=False)"
   ]
  },
  {
   "cell_type": "code",
   "execution_count": 31,
   "metadata": {
    "ExecuteTime": {
     "end_time": "2020-01-26T13:59:23.934279Z",
     "start_time": "2020-01-26T13:59:23.931731Z"
    }
   },
   "outputs": [],
   "source": [
    "# item_features_train.to_dataframe().to_csv('./output/processed_data/df_movie_tag_features_train.csv')\n",
    "# item_features_test.to_dataframe().to_csv('./output/processed_data/df_movie_tag_features_test.csv')"
   ]
  },
  {
   "cell_type": "markdown",
   "metadata": {},
   "source": [
    "# Train the content based recommender and predict on test on VF"
   ]
  },
  {
   "cell_type": "code",
   "execution_count": 32,
   "metadata": {
    "ExecuteTime": {
     "end_time": "2020-01-26T13:59:58.043484Z",
     "start_time": "2020-01-26T13:59:28.281492Z"
    }
   },
   "outputs": [
    {
     "data": {
      "text/plain": [
       "<recommender.item_based.ItemBasedColabCos at 0x24e07afadd8>"
      ]
     },
     "execution_count": 32,
     "metadata": {},
     "output_type": "execute_result"
    }
   ],
   "source": [
    "reload()\n",
    "recommend_vf = item_based.ItemBasedColabCos()\n",
    "recommend_vf.fit(df_rating_train, item_features_vf_train)"
   ]
  },
  {
   "cell_type": "code",
   "execution_count": 33,
   "metadata": {
    "ExecuteTime": {
     "end_time": "2020-01-26T13:59:58.102048Z",
     "start_time": "2020-01-26T13:59:58.046507Z"
    }
   },
   "outputs": [],
   "source": [
    "test_users = df_rating_test[config.userId_col].unique()"
   ]
  },
  {
   "cell_type": "code",
   "execution_count": 34,
   "metadata": {
    "ExecuteTime": {
     "end_time": "2020-01-26T13:59:58.107994Z",
     "start_time": "2020-01-26T13:59:58.102981Z"
    }
   },
   "outputs": [
    {
     "name": "stdout",
     "output_type": "stream",
     "text": [
      "162490\n"
     ]
    }
   ],
   "source": [
    "print(len(test_users))"
   ]
  },
  {
   "cell_type": "code",
   "execution_count": null,
   "metadata": {},
   "outputs": [],
   "source": []
  },
  {
   "cell_type": "markdown",
   "metadata": {},
   "source": [
    "## Explore "
   ]
  },
  {
   "cell_type": "code",
   "execution_count": 41,
   "metadata": {
    "ExecuteTime": {
     "end_time": "2020-01-26T14:02:04.850572Z",
     "start_time": "2020-01-26T14:02:04.846744Z"
    }
   },
   "outputs": [],
   "source": [
    "sample_test_users = np.random.choice(test_users, 5)\n"
   ]
  },
  {
   "cell_type": "code",
   "execution_count": 78,
   "metadata": {
    "ExecuteTime": {
     "end_time": "2020-01-26T14:20:26.314477Z",
     "start_time": "2020-01-26T14:20:26.310824Z"
    }
   },
   "outputs": [],
   "source": [
    "from scipy.stats import shapiro\n",
    "from scipy.stats import normaltest\n",
    "from tqdm import tqdm_notebook as tqdm"
   ]
  },
  {
   "cell_type": "code",
   "execution_count": 91,
   "metadata": {
    "ExecuteTime": {
     "end_time": "2020-01-26T14:35:24.624821Z",
     "start_time": "2020-01-26T14:35:24.619835Z"
    }
   },
   "outputs": [],
   "source": [
    "def get_normality_stats(sample_user):\n",
    "    \"\"\"returns [0, 25, 50, 75, 100] percentile of similarities and p value of normltest\"\"\"\n",
    "    user_info = recommend_vf.dict_user_ratings.get(sample_user)\n",
    "    similarities = metrics.pairwise.cosine_similarity(recommend_vf.get_user_matrix(user_info))\n",
    "    similarities = similarities.ravel()\n",
    "    try:\n",
    "        stat, p = normaltest(similarities)\n",
    "    except ValueError:\n",
    "        p = np.nan\n",
    "    return np.append(np.percentile(similarities, [0, 25, 50, 75, 100]), [p])"
   ]
  },
  {
   "cell_type": "code",
   "execution_count": 92,
   "metadata": {
    "ExecuteTime": {
     "end_time": "2020-01-26T14:49:13.942847Z",
     "start_time": "2020-01-26T14:35:25.775712Z"
    },
    "scrolled": true
   },
   "outputs": [
    {
     "data": {
      "application/vnd.jupyter.widget-view+json": {
       "model_id": "bb1fb6ecf31d48d0a04ff75118b6f12e",
       "version_major": 2,
       "version_minor": 0
      },
      "text/plain": [
       "HBox(children=(IntProgress(value=0, max=162490), HTML(value='')))"
      ]
     },
     "metadata": {},
     "output_type": "display_data"
    },
    {
     "name": "stderr",
     "output_type": "stream",
     "text": [
      "C:\\ProgramData\\Anaconda3\\lib\\site-packages\\scipy\\stats\\stats.py:1394: UserWarning: kurtosistest only valid for n>=20 ... continuing anyway, n=16\n",
      "  \"anyway, n=%i\" % int(n))\n",
      "C:\\ProgramData\\Anaconda3\\lib\\site-packages\\scipy\\stats\\stats.py:1394: UserWarning: kurtosistest only valid for n>=20 ... continuing anyway, n=16\n",
      "  \"anyway, n=%i\" % int(n))\n",
      "C:\\ProgramData\\Anaconda3\\lib\\site-packages\\scipy\\stats\\stats.py:1394: UserWarning: kurtosistest only valid for n>=20 ... continuing anyway, n=9\n",
      "  \"anyway, n=%i\" % int(n))\n",
      "C:\\ProgramData\\Anaconda3\\lib\\site-packages\\scipy\\stats\\stats.py:1394: UserWarning: kurtosistest only valid for n>=20 ... continuing anyway, n=16\n",
      "  \"anyway, n=%i\" % int(n))\n",
      "C:\\ProgramData\\Anaconda3\\lib\\site-packages\\scipy\\stats\\stats.py:1394: UserWarning: kurtosistest only valid for n>=20 ... continuing anyway, n=9\n",
      "  \"anyway, n=%i\" % int(n))\n",
      "C:\\ProgramData\\Anaconda3\\lib\\site-packages\\scipy\\stats\\stats.py:1394: UserWarning: kurtosistest only valid for n>=20 ... continuing anyway, n=9\n",
      "  \"anyway, n=%i\" % int(n))\n",
      "C:\\ProgramData\\Anaconda3\\lib\\site-packages\\scipy\\stats\\stats.py:1394: UserWarning: kurtosistest only valid for n>=20 ... continuing anyway, n=16\n",
      "  \"anyway, n=%i\" % int(n))\n",
      "C:\\ProgramData\\Anaconda3\\lib\\site-packages\\scipy\\stats\\stats.py:1394: UserWarning: kurtosistest only valid for n>=20 ... continuing anyway, n=9\n",
      "  \"anyway, n=%i\" % int(n))\n",
      "C:\\ProgramData\\Anaconda3\\lib\\site-packages\\scipy\\stats\\stats.py:1394: UserWarning: kurtosistest only valid for n>=20 ... continuing anyway, n=16\n",
      "  \"anyway, n=%i\" % int(n))\n",
      "C:\\ProgramData\\Anaconda3\\lib\\site-packages\\scipy\\stats\\stats.py:1394: UserWarning: kurtosistest only valid for n>=20 ... continuing anyway, n=16\n",
      "  \"anyway, n=%i\" % int(n))\n",
      "C:\\ProgramData\\Anaconda3\\lib\\site-packages\\scipy\\stats\\stats.py:1394: UserWarning: kurtosistest only valid for n>=20 ... continuing anyway, n=9\n",
      "  \"anyway, n=%i\" % int(n))\n",
      "C:\\ProgramData\\Anaconda3\\lib\\site-packages\\scipy\\stats\\stats.py:1394: UserWarning: kurtosistest only valid for n>=20 ... continuing anyway, n=16\n",
      "  \"anyway, n=%i\" % int(n))\n",
      "C:\\ProgramData\\Anaconda3\\lib\\site-packages\\scipy\\stats\\stats.py:1394: UserWarning: kurtosistest only valid for n>=20 ... continuing anyway, n=16\n",
      "  \"anyway, n=%i\" % int(n))\n",
      "C:\\ProgramData\\Anaconda3\\lib\\site-packages\\scipy\\stats\\stats.py:1394: UserWarning: kurtosistest only valid for n>=20 ... continuing anyway, n=16\n",
      "  \"anyway, n=%i\" % int(n))\n",
      "C:\\ProgramData\\Anaconda3\\lib\\site-packages\\scipy\\stats\\stats.py:1394: UserWarning: kurtosistest only valid for n>=20 ... continuing anyway, n=9\n",
      "  \"anyway, n=%i\" % int(n))\n",
      "C:\\ProgramData\\Anaconda3\\lib\\site-packages\\scipy\\stats\\stats.py:1394: UserWarning: kurtosistest only valid for n>=20 ... continuing anyway, n=16\n",
      "  \"anyway, n=%i\" % int(n))\n",
      "C:\\ProgramData\\Anaconda3\\lib\\site-packages\\scipy\\stats\\stats.py:1394: UserWarning: kurtosistest only valid for n>=20 ... continuing anyway, n=16\n",
      "  \"anyway, n=%i\" % int(n))\n",
      "C:\\ProgramData\\Anaconda3\\lib\\site-packages\\scipy\\stats\\stats.py:1394: UserWarning: kurtosistest only valid for n>=20 ... continuing anyway, n=16\n",
      "  \"anyway, n=%i\" % int(n))\n",
      "C:\\ProgramData\\Anaconda3\\lib\\site-packages\\scipy\\stats\\stats.py:1394: UserWarning: kurtosistest only valid for n>=20 ... continuing anyway, n=9\n",
      "  \"anyway, n=%i\" % int(n))\n",
      "C:\\ProgramData\\Anaconda3\\lib\\site-packages\\scipy\\stats\\stats.py:1394: UserWarning: kurtosistest only valid for n>=20 ... continuing anyway, n=16\n",
      "  \"anyway, n=%i\" % int(n))\n",
      "C:\\ProgramData\\Anaconda3\\lib\\site-packages\\scipy\\stats\\stats.py:1394: UserWarning: kurtosistest only valid for n>=20 ... continuing anyway, n=16\n",
      "  \"anyway, n=%i\" % int(n))\n",
      "C:\\ProgramData\\Anaconda3\\lib\\site-packages\\scipy\\stats\\stats.py:1394: UserWarning: kurtosistest only valid for n>=20 ... continuing anyway, n=16\n",
      "  \"anyway, n=%i\" % int(n))\n",
      "C:\\ProgramData\\Anaconda3\\lib\\site-packages\\scipy\\stats\\stats.py:1394: UserWarning: kurtosistest only valid for n>=20 ... continuing anyway, n=9\n",
      "  \"anyway, n=%i\" % int(n))\n",
      "C:\\ProgramData\\Anaconda3\\lib\\site-packages\\scipy\\stats\\stats.py:1394: UserWarning: kurtosistest only valid for n>=20 ... continuing anyway, n=16\n",
      "  \"anyway, n=%i\" % int(n))\n",
      "C:\\ProgramData\\Anaconda3\\lib\\site-packages\\scipy\\stats\\stats.py:1394: UserWarning: kurtosistest only valid for n>=20 ... continuing anyway, n=16\n",
      "  \"anyway, n=%i\" % int(n))\n",
      "C:\\ProgramData\\Anaconda3\\lib\\site-packages\\scipy\\stats\\stats.py:1394: UserWarning: kurtosistest only valid for n>=20 ... continuing anyway, n=16\n",
      "  \"anyway, n=%i\" % int(n))\n",
      "C:\\ProgramData\\Anaconda3\\lib\\site-packages\\scipy\\stats\\stats.py:1394: UserWarning: kurtosistest only valid for n>=20 ... continuing anyway, n=16\n",
      "  \"anyway, n=%i\" % int(n))\n",
      "C:\\ProgramData\\Anaconda3\\lib\\site-packages\\scipy\\stats\\stats.py:1394: UserWarning: kurtosistest only valid for n>=20 ... continuing anyway, n=9\n",
      "  \"anyway, n=%i\" % int(n))\n",
      "C:\\ProgramData\\Anaconda3\\lib\\site-packages\\scipy\\stats\\stats.py:1394: UserWarning: kurtosistest only valid for n>=20 ... continuing anyway, n=16\n",
      "  \"anyway, n=%i\" % int(n))\n",
      "C:\\ProgramData\\Anaconda3\\lib\\site-packages\\scipy\\stats\\stats.py:1394: UserWarning: kurtosistest only valid for n>=20 ... continuing anyway, n=16\n",
      "  \"anyway, n=%i\" % int(n))\n",
      "C:\\ProgramData\\Anaconda3\\lib\\site-packages\\scipy\\stats\\stats.py:1394: UserWarning: kurtosistest only valid for n>=20 ... continuing anyway, n=16\n",
      "  \"anyway, n=%i\" % int(n))\n",
      "C:\\ProgramData\\Anaconda3\\lib\\site-packages\\scipy\\stats\\stats.py:1394: UserWarning: kurtosistest only valid for n>=20 ... continuing anyway, n=9\n",
      "  \"anyway, n=%i\" % int(n))\n",
      "C:\\ProgramData\\Anaconda3\\lib\\site-packages\\scipy\\stats\\stats.py:1394: UserWarning: kurtosistest only valid for n>=20 ... continuing anyway, n=9\n",
      "  \"anyway, n=%i\" % int(n))\n",
      "C:\\ProgramData\\Anaconda3\\lib\\site-packages\\scipy\\stats\\stats.py:1394: UserWarning: kurtosistest only valid for n>=20 ... continuing anyway, n=16\n",
      "  \"anyway, n=%i\" % int(n))\n",
      "C:\\ProgramData\\Anaconda3\\lib\\site-packages\\scipy\\stats\\stats.py:1394: UserWarning: kurtosistest only valid for n>=20 ... continuing anyway, n=9\n",
      "  \"anyway, n=%i\" % int(n))\n",
      "C:\\ProgramData\\Anaconda3\\lib\\site-packages\\scipy\\stats\\stats.py:1394: UserWarning: kurtosistest only valid for n>=20 ... continuing anyway, n=16\n",
      "  \"anyway, n=%i\" % int(n))\n",
      "C:\\ProgramData\\Anaconda3\\lib\\site-packages\\scipy\\stats\\stats.py:1394: UserWarning: kurtosistest only valid for n>=20 ... continuing anyway, n=16\n",
      "  \"anyway, n=%i\" % int(n))\n",
      "C:\\ProgramData\\Anaconda3\\lib\\site-packages\\scipy\\stats\\stats.py:1394: UserWarning: kurtosistest only valid for n>=20 ... continuing anyway, n=9\n",
      "  \"anyway, n=%i\" % int(n))\n",
      "C:\\ProgramData\\Anaconda3\\lib\\site-packages\\scipy\\stats\\stats.py:1394: UserWarning: kurtosistest only valid for n>=20 ... continuing anyway, n=16\n",
      "  \"anyway, n=%i\" % int(n))\n",
      "C:\\ProgramData\\Anaconda3\\lib\\site-packages\\scipy\\stats\\stats.py:1394: UserWarning: kurtosistest only valid for n>=20 ... continuing anyway, n=16\n",
      "  \"anyway, n=%i\" % int(n))\n",
      "C:\\ProgramData\\Anaconda3\\lib\\site-packages\\scipy\\stats\\stats.py:1394: UserWarning: kurtosistest only valid for n>=20 ... continuing anyway, n=16\n",
      "  \"anyway, n=%i\" % int(n))\n",
      "C:\\ProgramData\\Anaconda3\\lib\\site-packages\\scipy\\stats\\stats.py:1394: UserWarning: kurtosistest only valid for n>=20 ... continuing anyway, n=16\n",
      "  \"anyway, n=%i\" % int(n))\n",
      "C:\\ProgramData\\Anaconda3\\lib\\site-packages\\scipy\\stats\\stats.py:1394: UserWarning: kurtosistest only valid for n>=20 ... continuing anyway, n=9\n",
      "  \"anyway, n=%i\" % int(n))\n",
      "C:\\ProgramData\\Anaconda3\\lib\\site-packages\\scipy\\stats\\stats.py:1394: UserWarning: kurtosistest only valid for n>=20 ... continuing anyway, n=16\n",
      "  \"anyway, n=%i\" % int(n))\n",
      "C:\\ProgramData\\Anaconda3\\lib\\site-packages\\scipy\\stats\\stats.py:1394: UserWarning: kurtosistest only valid for n>=20 ... continuing anyway, n=9\n",
      "  \"anyway, n=%i\" % int(n))\n",
      "C:\\ProgramData\\Anaconda3\\lib\\site-packages\\scipy\\stats\\stats.py:1394: UserWarning: kurtosistest only valid for n>=20 ... continuing anyway, n=16\n",
      "  \"anyway, n=%i\" % int(n))\n",
      "C:\\ProgramData\\Anaconda3\\lib\\site-packages\\scipy\\stats\\stats.py:1394: UserWarning: kurtosistest only valid for n>=20 ... continuing anyway, n=9\n",
      "  \"anyway, n=%i\" % int(n))\n",
      "C:\\ProgramData\\Anaconda3\\lib\\site-packages\\scipy\\stats\\stats.py:1394: UserWarning: kurtosistest only valid for n>=20 ... continuing anyway, n=16\n",
      "  \"anyway, n=%i\" % int(n))\n"
     ]
    },
    {
     "name": "stderr",
     "output_type": "stream",
     "text": [
      "C:\\ProgramData\\Anaconda3\\lib\\site-packages\\scipy\\stats\\stats.py:1394: UserWarning: kurtosistest only valid for n>=20 ... continuing anyway, n=16\n",
      "  \"anyway, n=%i\" % int(n))\n",
      "C:\\ProgramData\\Anaconda3\\lib\\site-packages\\scipy\\stats\\stats.py:1394: UserWarning: kurtosistest only valid for n>=20 ... continuing anyway, n=16\n",
      "  \"anyway, n=%i\" % int(n))\n",
      "C:\\ProgramData\\Anaconda3\\lib\\site-packages\\scipy\\stats\\stats.py:1394: UserWarning: kurtosistest only valid for n>=20 ... continuing anyway, n=16\n",
      "  \"anyway, n=%i\" % int(n))\n",
      "C:\\ProgramData\\Anaconda3\\lib\\site-packages\\scipy\\stats\\stats.py:1394: UserWarning: kurtosistest only valid for n>=20 ... continuing anyway, n=16\n",
      "  \"anyway, n=%i\" % int(n))\n",
      "C:\\ProgramData\\Anaconda3\\lib\\site-packages\\scipy\\stats\\stats.py:1394: UserWarning: kurtosistest only valid for n>=20 ... continuing anyway, n=9\n",
      "  \"anyway, n=%i\" % int(n))\n",
      "C:\\ProgramData\\Anaconda3\\lib\\site-packages\\scipy\\stats\\stats.py:1394: UserWarning: kurtosistest only valid for n>=20 ... continuing anyway, n=16\n",
      "  \"anyway, n=%i\" % int(n))\n",
      "C:\\ProgramData\\Anaconda3\\lib\\site-packages\\scipy\\stats\\stats.py:1394: UserWarning: kurtosistest only valid for n>=20 ... continuing anyway, n=16\n",
      "  \"anyway, n=%i\" % int(n))\n",
      "C:\\ProgramData\\Anaconda3\\lib\\site-packages\\scipy\\stats\\stats.py:1394: UserWarning: kurtosistest only valid for n>=20 ... continuing anyway, n=16\n",
      "  \"anyway, n=%i\" % int(n))\n",
      "C:\\ProgramData\\Anaconda3\\lib\\site-packages\\scipy\\stats\\stats.py:1394: UserWarning: kurtosistest only valid for n>=20 ... continuing anyway, n=16\n",
      "  \"anyway, n=%i\" % int(n))\n",
      "C:\\ProgramData\\Anaconda3\\lib\\site-packages\\scipy\\stats\\stats.py:1394: UserWarning: kurtosistest only valid for n>=20 ... continuing anyway, n=16\n",
      "  \"anyway, n=%i\" % int(n))\n",
      "C:\\ProgramData\\Anaconda3\\lib\\site-packages\\scipy\\stats\\stats.py:1394: UserWarning: kurtosistest only valid for n>=20 ... continuing anyway, n=16\n",
      "  \"anyway, n=%i\" % int(n))\n",
      "C:\\ProgramData\\Anaconda3\\lib\\site-packages\\scipy\\stats\\stats.py:1394: UserWarning: kurtosistest only valid for n>=20 ... continuing anyway, n=9\n",
      "  \"anyway, n=%i\" % int(n))\n",
      "C:\\ProgramData\\Anaconda3\\lib\\site-packages\\scipy\\stats\\stats.py:1394: UserWarning: kurtosistest only valid for n>=20 ... continuing anyway, n=9\n",
      "  \"anyway, n=%i\" % int(n))\n",
      "C:\\ProgramData\\Anaconda3\\lib\\site-packages\\scipy\\stats\\stats.py:1394: UserWarning: kurtosistest only valid for n>=20 ... continuing anyway, n=16\n",
      "  \"anyway, n=%i\" % int(n))\n",
      "C:\\ProgramData\\Anaconda3\\lib\\site-packages\\scipy\\stats\\stats.py:1394: UserWarning: kurtosistest only valid for n>=20 ... continuing anyway, n=9\n",
      "  \"anyway, n=%i\" % int(n))\n",
      "C:\\ProgramData\\Anaconda3\\lib\\site-packages\\scipy\\stats\\stats.py:1394: UserWarning: kurtosistest only valid for n>=20 ... continuing anyway, n=9\n",
      "  \"anyway, n=%i\" % int(n))\n",
      "C:\\ProgramData\\Anaconda3\\lib\\site-packages\\scipy\\stats\\stats.py:1394: UserWarning: kurtosistest only valid for n>=20 ... continuing anyway, n=16\n",
      "  \"anyway, n=%i\" % int(n))\n",
      "C:\\ProgramData\\Anaconda3\\lib\\site-packages\\scipy\\stats\\stats.py:1394: UserWarning: kurtosistest only valid for n>=20 ... continuing anyway, n=16\n",
      "  \"anyway, n=%i\" % int(n))\n",
      "C:\\ProgramData\\Anaconda3\\lib\\site-packages\\scipy\\stats\\stats.py:1394: UserWarning: kurtosistest only valid for n>=20 ... continuing anyway, n=9\n",
      "  \"anyway, n=%i\" % int(n))\n",
      "C:\\ProgramData\\Anaconda3\\lib\\site-packages\\scipy\\stats\\stats.py:1394: UserWarning: kurtosistest only valid for n>=20 ... continuing anyway, n=9\n",
      "  \"anyway, n=%i\" % int(n))\n",
      "C:\\ProgramData\\Anaconda3\\lib\\site-packages\\scipy\\stats\\stats.py:1394: UserWarning: kurtosistest only valid for n>=20 ... continuing anyway, n=16\n",
      "  \"anyway, n=%i\" % int(n))\n",
      "C:\\ProgramData\\Anaconda3\\lib\\site-packages\\scipy\\stats\\stats.py:1394: UserWarning: kurtosistest only valid for n>=20 ... continuing anyway, n=16\n",
      "  \"anyway, n=%i\" % int(n))\n",
      "C:\\ProgramData\\Anaconda3\\lib\\site-packages\\scipy\\stats\\stats.py:1394: UserWarning: kurtosistest only valid for n>=20 ... continuing anyway, n=16\n",
      "  \"anyway, n=%i\" % int(n))\n",
      "C:\\ProgramData\\Anaconda3\\lib\\site-packages\\scipy\\stats\\stats.py:1394: UserWarning: kurtosistest only valid for n>=20 ... continuing anyway, n=9\n",
      "  \"anyway, n=%i\" % int(n))\n",
      "C:\\ProgramData\\Anaconda3\\lib\\site-packages\\scipy\\stats\\stats.py:1394: UserWarning: kurtosistest only valid for n>=20 ... continuing anyway, n=16\n",
      "  \"anyway, n=%i\" % int(n))\n",
      "C:\\ProgramData\\Anaconda3\\lib\\site-packages\\scipy\\stats\\stats.py:1394: UserWarning: kurtosistest only valid for n>=20 ... continuing anyway, n=16\n",
      "  \"anyway, n=%i\" % int(n))\n",
      "C:\\ProgramData\\Anaconda3\\lib\\site-packages\\scipy\\stats\\stats.py:1394: UserWarning: kurtosistest only valid for n>=20 ... continuing anyway, n=9\n",
      "  \"anyway, n=%i\" % int(n))\n",
      "C:\\ProgramData\\Anaconda3\\lib\\site-packages\\scipy\\stats\\stats.py:1394: UserWarning: kurtosistest only valid for n>=20 ... continuing anyway, n=9\n",
      "  \"anyway, n=%i\" % int(n))\n",
      "C:\\ProgramData\\Anaconda3\\lib\\site-packages\\scipy\\stats\\stats.py:1394: UserWarning: kurtosistest only valid for n>=20 ... continuing anyway, n=9\n",
      "  \"anyway, n=%i\" % int(n))\n",
      "C:\\ProgramData\\Anaconda3\\lib\\site-packages\\scipy\\stats\\stats.py:1394: UserWarning: kurtosistest only valid for n>=20 ... continuing anyway, n=16\n",
      "  \"anyway, n=%i\" % int(n))\n",
      "C:\\ProgramData\\Anaconda3\\lib\\site-packages\\scipy\\stats\\stats.py:1394: UserWarning: kurtosistest only valid for n>=20 ... continuing anyway, n=16\n",
      "  \"anyway, n=%i\" % int(n))\n",
      "C:\\ProgramData\\Anaconda3\\lib\\site-packages\\scipy\\stats\\stats.py:1394: UserWarning: kurtosistest only valid for n>=20 ... continuing anyway, n=16\n",
      "  \"anyway, n=%i\" % int(n))\n",
      "C:\\ProgramData\\Anaconda3\\lib\\site-packages\\scipy\\stats\\stats.py:1394: UserWarning: kurtosistest only valid for n>=20 ... continuing anyway, n=9\n",
      "  \"anyway, n=%i\" % int(n))\n",
      "C:\\ProgramData\\Anaconda3\\lib\\site-packages\\scipy\\stats\\stats.py:1394: UserWarning: kurtosistest only valid for n>=20 ... continuing anyway, n=16\n",
      "  \"anyway, n=%i\" % int(n))\n",
      "C:\\ProgramData\\Anaconda3\\lib\\site-packages\\scipy\\stats\\stats.py:1394: UserWarning: kurtosistest only valid for n>=20 ... continuing anyway, n=16\n",
      "  \"anyway, n=%i\" % int(n))\n",
      "C:\\ProgramData\\Anaconda3\\lib\\site-packages\\scipy\\stats\\stats.py:1394: UserWarning: kurtosistest only valid for n>=20 ... continuing anyway, n=16\n",
      "  \"anyway, n=%i\" % int(n))\n",
      "C:\\ProgramData\\Anaconda3\\lib\\site-packages\\scipy\\stats\\stats.py:1394: UserWarning: kurtosistest only valid for n>=20 ... continuing anyway, n=16\n",
      "  \"anyway, n=%i\" % int(n))\n",
      "C:\\ProgramData\\Anaconda3\\lib\\site-packages\\scipy\\stats\\stats.py:1394: UserWarning: kurtosistest only valid for n>=20 ... continuing anyway, n=16\n",
      "  \"anyway, n=%i\" % int(n))\n",
      "C:\\ProgramData\\Anaconda3\\lib\\site-packages\\scipy\\stats\\stats.py:1394: UserWarning: kurtosistest only valid for n>=20 ... continuing anyway, n=16\n",
      "  \"anyway, n=%i\" % int(n))\n",
      "C:\\ProgramData\\Anaconda3\\lib\\site-packages\\scipy\\stats\\stats.py:1394: UserWarning: kurtosistest only valid for n>=20 ... continuing anyway, n=16\n",
      "  \"anyway, n=%i\" % int(n))\n",
      "C:\\ProgramData\\Anaconda3\\lib\\site-packages\\scipy\\stats\\stats.py:1394: UserWarning: kurtosistest only valid for n>=20 ... continuing anyway, n=9\n",
      "  \"anyway, n=%i\" % int(n))\n",
      "C:\\ProgramData\\Anaconda3\\lib\\site-packages\\scipy\\stats\\stats.py:1394: UserWarning: kurtosistest only valid for n>=20 ... continuing anyway, n=16\n",
      "  \"anyway, n=%i\" % int(n))\n",
      "C:\\ProgramData\\Anaconda3\\lib\\site-packages\\scipy\\stats\\stats.py:1394: UserWarning: kurtosistest only valid for n>=20 ... continuing anyway, n=16\n",
      "  \"anyway, n=%i\" % int(n))\n",
      "C:\\ProgramData\\Anaconda3\\lib\\site-packages\\scipy\\stats\\stats.py:1394: UserWarning: kurtosistest only valid for n>=20 ... continuing anyway, n=9\n",
      "  \"anyway, n=%i\" % int(n))\n",
      "C:\\ProgramData\\Anaconda3\\lib\\site-packages\\scipy\\stats\\stats.py:1394: UserWarning: kurtosistest only valid for n>=20 ... continuing anyway, n=16\n",
      "  \"anyway, n=%i\" % int(n))\n",
      "C:\\ProgramData\\Anaconda3\\lib\\site-packages\\scipy\\stats\\stats.py:1394: UserWarning: kurtosistest only valid for n>=20 ... continuing anyway, n=9\n",
      "  \"anyway, n=%i\" % int(n))\n",
      "C:\\ProgramData\\Anaconda3\\lib\\site-packages\\scipy\\stats\\stats.py:1394: UserWarning: kurtosistest only valid for n>=20 ... continuing anyway, n=9\n",
      "  \"anyway, n=%i\" % int(n))\n",
      "C:\\ProgramData\\Anaconda3\\lib\\site-packages\\scipy\\stats\\stats.py:1394: UserWarning: kurtosistest only valid for n>=20 ... continuing anyway, n=9\n",
      "  \"anyway, n=%i\" % int(n))\n"
     ]
    },
    {
     "name": "stderr",
     "output_type": "stream",
     "text": [
      "C:\\ProgramData\\Anaconda3\\lib\\site-packages\\scipy\\stats\\stats.py:1394: UserWarning: kurtosistest only valid for n>=20 ... continuing anyway, n=16\n",
      "  \"anyway, n=%i\" % int(n))\n",
      "C:\\ProgramData\\Anaconda3\\lib\\site-packages\\scipy\\stats\\stats.py:1394: UserWarning: kurtosistest only valid for n>=20 ... continuing anyway, n=16\n",
      "  \"anyway, n=%i\" % int(n))\n",
      "C:\\ProgramData\\Anaconda3\\lib\\site-packages\\scipy\\stats\\stats.py:1394: UserWarning: kurtosistest only valid for n>=20 ... continuing anyway, n=16\n",
      "  \"anyway, n=%i\" % int(n))\n",
      "C:\\ProgramData\\Anaconda3\\lib\\site-packages\\scipy\\stats\\stats.py:1394: UserWarning: kurtosistest only valid for n>=20 ... continuing anyway, n=16\n",
      "  \"anyway, n=%i\" % int(n))\n",
      "C:\\ProgramData\\Anaconda3\\lib\\site-packages\\scipy\\stats\\stats.py:1394: UserWarning: kurtosistest only valid for n>=20 ... continuing anyway, n=9\n",
      "  \"anyway, n=%i\" % int(n))\n",
      "C:\\ProgramData\\Anaconda3\\lib\\site-packages\\scipy\\stats\\stats.py:1394: UserWarning: kurtosistest only valid for n>=20 ... continuing anyway, n=9\n",
      "  \"anyway, n=%i\" % int(n))\n",
      "C:\\ProgramData\\Anaconda3\\lib\\site-packages\\scipy\\stats\\stats.py:1394: UserWarning: kurtosistest only valid for n>=20 ... continuing anyway, n=9\n",
      "  \"anyway, n=%i\" % int(n))\n",
      "C:\\ProgramData\\Anaconda3\\lib\\site-packages\\scipy\\stats\\stats.py:1394: UserWarning: kurtosistest only valid for n>=20 ... continuing anyway, n=9\n",
      "  \"anyway, n=%i\" % int(n))\n",
      "C:\\ProgramData\\Anaconda3\\lib\\site-packages\\scipy\\stats\\stats.py:1394: UserWarning: kurtosistest only valid for n>=20 ... continuing anyway, n=16\n",
      "  \"anyway, n=%i\" % int(n))\n",
      "C:\\ProgramData\\Anaconda3\\lib\\site-packages\\scipy\\stats\\stats.py:1394: UserWarning: kurtosistest only valid for n>=20 ... continuing anyway, n=16\n",
      "  \"anyway, n=%i\" % int(n))\n",
      "C:\\ProgramData\\Anaconda3\\lib\\site-packages\\scipy\\stats\\stats.py:1394: UserWarning: kurtosistest only valid for n>=20 ... continuing anyway, n=16\n",
      "  \"anyway, n=%i\" % int(n))\n",
      "C:\\ProgramData\\Anaconda3\\lib\\site-packages\\scipy\\stats\\stats.py:1394: UserWarning: kurtosistest only valid for n>=20 ... continuing anyway, n=16\n",
      "  \"anyway, n=%i\" % int(n))\n",
      "C:\\ProgramData\\Anaconda3\\lib\\site-packages\\scipy\\stats\\stats.py:1394: UserWarning: kurtosistest only valid for n>=20 ... continuing anyway, n=16\n",
      "  \"anyway, n=%i\" % int(n))\n",
      "C:\\ProgramData\\Anaconda3\\lib\\site-packages\\scipy\\stats\\stats.py:1394: UserWarning: kurtosistest only valid for n>=20 ... continuing anyway, n=9\n",
      "  \"anyway, n=%i\" % int(n))\n",
      "C:\\ProgramData\\Anaconda3\\lib\\site-packages\\scipy\\stats\\stats.py:1394: UserWarning: kurtosistest only valid for n>=20 ... continuing anyway, n=9\n",
      "  \"anyway, n=%i\" % int(n))\n",
      "C:\\ProgramData\\Anaconda3\\lib\\site-packages\\scipy\\stats\\stats.py:1394: UserWarning: kurtosistest only valid for n>=20 ... continuing anyway, n=9\n",
      "  \"anyway, n=%i\" % int(n))\n",
      "C:\\ProgramData\\Anaconda3\\lib\\site-packages\\scipy\\stats\\stats.py:1394: UserWarning: kurtosistest only valid for n>=20 ... continuing anyway, n=9\n",
      "  \"anyway, n=%i\" % int(n))\n",
      "C:\\ProgramData\\Anaconda3\\lib\\site-packages\\scipy\\stats\\stats.py:1394: UserWarning: kurtosistest only valid for n>=20 ... continuing anyway, n=9\n",
      "  \"anyway, n=%i\" % int(n))\n",
      "C:\\ProgramData\\Anaconda3\\lib\\site-packages\\scipy\\stats\\stats.py:1394: UserWarning: kurtosistest only valid for n>=20 ... continuing anyway, n=16\n",
      "  \"anyway, n=%i\" % int(n))\n",
      "C:\\ProgramData\\Anaconda3\\lib\\site-packages\\scipy\\stats\\stats.py:1394: UserWarning: kurtosistest only valid for n>=20 ... continuing anyway, n=9\n",
      "  \"anyway, n=%i\" % int(n))\n",
      "C:\\ProgramData\\Anaconda3\\lib\\site-packages\\scipy\\stats\\stats.py:1394: UserWarning: kurtosistest only valid for n>=20 ... continuing anyway, n=9\n",
      "  \"anyway, n=%i\" % int(n))\n",
      "C:\\ProgramData\\Anaconda3\\lib\\site-packages\\scipy\\stats\\stats.py:1394: UserWarning: kurtosistest only valid for n>=20 ... continuing anyway, n=16\n",
      "  \"anyway, n=%i\" % int(n))\n",
      "C:\\ProgramData\\Anaconda3\\lib\\site-packages\\scipy\\stats\\stats.py:1394: UserWarning: kurtosistest only valid for n>=20 ... continuing anyway, n=16\n",
      "  \"anyway, n=%i\" % int(n))\n",
      "C:\\ProgramData\\Anaconda3\\lib\\site-packages\\scipy\\stats\\stats.py:1394: UserWarning: kurtosistest only valid for n>=20 ... continuing anyway, n=16\n",
      "  \"anyway, n=%i\" % int(n))\n",
      "C:\\ProgramData\\Anaconda3\\lib\\site-packages\\scipy\\stats\\stats.py:1394: UserWarning: kurtosistest only valid for n>=20 ... continuing anyway, n=16\n",
      "  \"anyway, n=%i\" % int(n))\n",
      "C:\\ProgramData\\Anaconda3\\lib\\site-packages\\scipy\\stats\\stats.py:1394: UserWarning: kurtosistest only valid for n>=20 ... continuing anyway, n=16\n",
      "  \"anyway, n=%i\" % int(n))\n",
      "C:\\ProgramData\\Anaconda3\\lib\\site-packages\\scipy\\stats\\stats.py:1394: UserWarning: kurtosistest only valid for n>=20 ... continuing anyway, n=16\n",
      "  \"anyway, n=%i\" % int(n))\n",
      "C:\\ProgramData\\Anaconda3\\lib\\site-packages\\scipy\\stats\\stats.py:1394: UserWarning: kurtosistest only valid for n>=20 ... continuing anyway, n=16\n",
      "  \"anyway, n=%i\" % int(n))\n",
      "C:\\ProgramData\\Anaconda3\\lib\\site-packages\\scipy\\stats\\stats.py:1394: UserWarning: kurtosistest only valid for n>=20 ... continuing anyway, n=16\n",
      "  \"anyway, n=%i\" % int(n))\n",
      "C:\\ProgramData\\Anaconda3\\lib\\site-packages\\scipy\\stats\\stats.py:1394: UserWarning: kurtosistest only valid for n>=20 ... continuing anyway, n=9\n",
      "  \"anyway, n=%i\" % int(n))\n",
      "C:\\ProgramData\\Anaconda3\\lib\\site-packages\\scipy\\stats\\stats.py:1394: UserWarning: kurtosistest only valid for n>=20 ... continuing anyway, n=9\n",
      "  \"anyway, n=%i\" % int(n))\n",
      "C:\\ProgramData\\Anaconda3\\lib\\site-packages\\scipy\\stats\\stats.py:1394: UserWarning: kurtosistest only valid for n>=20 ... continuing anyway, n=16\n",
      "  \"anyway, n=%i\" % int(n))\n",
      "C:\\ProgramData\\Anaconda3\\lib\\site-packages\\scipy\\stats\\stats.py:1394: UserWarning: kurtosistest only valid for n>=20 ... continuing anyway, n=16\n",
      "  \"anyway, n=%i\" % int(n))\n",
      "C:\\ProgramData\\Anaconda3\\lib\\site-packages\\scipy\\stats\\stats.py:1394: UserWarning: kurtosistest only valid for n>=20 ... continuing anyway, n=16\n",
      "  \"anyway, n=%i\" % int(n))\n",
      "C:\\ProgramData\\Anaconda3\\lib\\site-packages\\scipy\\stats\\stats.py:1394: UserWarning: kurtosistest only valid for n>=20 ... continuing anyway, n=9\n",
      "  \"anyway, n=%i\" % int(n))\n",
      "C:\\ProgramData\\Anaconda3\\lib\\site-packages\\scipy\\stats\\stats.py:1394: UserWarning: kurtosistest only valid for n>=20 ... continuing anyway, n=16\n",
      "  \"anyway, n=%i\" % int(n))\n",
      "C:\\ProgramData\\Anaconda3\\lib\\site-packages\\scipy\\stats\\stats.py:1394: UserWarning: kurtosistest only valid for n>=20 ... continuing anyway, n=16\n",
      "  \"anyway, n=%i\" % int(n))\n",
      "C:\\ProgramData\\Anaconda3\\lib\\site-packages\\scipy\\stats\\stats.py:1394: UserWarning: kurtosistest only valid for n>=20 ... continuing anyway, n=16\n",
      "  \"anyway, n=%i\" % int(n))\n",
      "C:\\ProgramData\\Anaconda3\\lib\\site-packages\\scipy\\stats\\stats.py:1394: UserWarning: kurtosistest only valid for n>=20 ... continuing anyway, n=16\n",
      "  \"anyway, n=%i\" % int(n))\n",
      "C:\\ProgramData\\Anaconda3\\lib\\site-packages\\scipy\\stats\\stats.py:1394: UserWarning: kurtosistest only valid for n>=20 ... continuing anyway, n=16\n",
      "  \"anyway, n=%i\" % int(n))\n",
      "C:\\ProgramData\\Anaconda3\\lib\\site-packages\\scipy\\stats\\stats.py:1394: UserWarning: kurtosistest only valid for n>=20 ... continuing anyway, n=16\n",
      "  \"anyway, n=%i\" % int(n))\n",
      "C:\\ProgramData\\Anaconda3\\lib\\site-packages\\scipy\\stats\\stats.py:1394: UserWarning: kurtosistest only valid for n>=20 ... continuing anyway, n=9\n",
      "  \"anyway, n=%i\" % int(n))\n",
      "C:\\ProgramData\\Anaconda3\\lib\\site-packages\\scipy\\stats\\stats.py:1394: UserWarning: kurtosistest only valid for n>=20 ... continuing anyway, n=16\n",
      "  \"anyway, n=%i\" % int(n))\n",
      "C:\\ProgramData\\Anaconda3\\lib\\site-packages\\scipy\\stats\\stats.py:1394: UserWarning: kurtosistest only valid for n>=20 ... continuing anyway, n=16\n",
      "  \"anyway, n=%i\" % int(n))\n",
      "C:\\ProgramData\\Anaconda3\\lib\\site-packages\\scipy\\stats\\stats.py:1394: UserWarning: kurtosistest only valid for n>=20 ... continuing anyway, n=16\n",
      "  \"anyway, n=%i\" % int(n))\n",
      "C:\\ProgramData\\Anaconda3\\lib\\site-packages\\scipy\\stats\\stats.py:1394: UserWarning: kurtosistest only valid for n>=20 ... continuing anyway, n=9\n",
      "  \"anyway, n=%i\" % int(n))\n",
      "C:\\ProgramData\\Anaconda3\\lib\\site-packages\\scipy\\stats\\stats.py:1394: UserWarning: kurtosistest only valid for n>=20 ... continuing anyway, n=16\n",
      "  \"anyway, n=%i\" % int(n))\n",
      "C:\\ProgramData\\Anaconda3\\lib\\site-packages\\scipy\\stats\\stats.py:1394: UserWarning: kurtosistest only valid for n>=20 ... continuing anyway, n=16\n",
      "  \"anyway, n=%i\" % int(n))\n"
     ]
    },
    {
     "name": "stderr",
     "output_type": "stream",
     "text": [
      "C:\\ProgramData\\Anaconda3\\lib\\site-packages\\scipy\\stats\\stats.py:1394: UserWarning: kurtosistest only valid for n>=20 ... continuing anyway, n=9\n",
      "  \"anyway, n=%i\" % int(n))\n",
      "C:\\ProgramData\\Anaconda3\\lib\\site-packages\\scipy\\stats\\stats.py:1394: UserWarning: kurtosistest only valid for n>=20 ... continuing anyway, n=9\n",
      "  \"anyway, n=%i\" % int(n))\n",
      "C:\\ProgramData\\Anaconda3\\lib\\site-packages\\scipy\\stats\\stats.py:1394: UserWarning: kurtosistest only valid for n>=20 ... continuing anyway, n=16\n",
      "  \"anyway, n=%i\" % int(n))\n",
      "C:\\ProgramData\\Anaconda3\\lib\\site-packages\\scipy\\stats\\stats.py:1394: UserWarning: kurtosistest only valid for n>=20 ... continuing anyway, n=9\n",
      "  \"anyway, n=%i\" % int(n))\n",
      "C:\\ProgramData\\Anaconda3\\lib\\site-packages\\scipy\\stats\\stats.py:1394: UserWarning: kurtosistest only valid for n>=20 ... continuing anyway, n=9\n",
      "  \"anyway, n=%i\" % int(n))\n",
      "C:\\ProgramData\\Anaconda3\\lib\\site-packages\\scipy\\stats\\stats.py:1394: UserWarning: kurtosistest only valid for n>=20 ... continuing anyway, n=9\n",
      "  \"anyway, n=%i\" % int(n))\n",
      "C:\\ProgramData\\Anaconda3\\lib\\site-packages\\scipy\\stats\\stats.py:1394: UserWarning: kurtosistest only valid for n>=20 ... continuing anyway, n=16\n",
      "  \"anyway, n=%i\" % int(n))\n",
      "C:\\ProgramData\\Anaconda3\\lib\\site-packages\\scipy\\stats\\stats.py:1394: UserWarning: kurtosistest only valid for n>=20 ... continuing anyway, n=16\n",
      "  \"anyway, n=%i\" % int(n))\n",
      "C:\\ProgramData\\Anaconda3\\lib\\site-packages\\scipy\\stats\\stats.py:1394: UserWarning: kurtosistest only valid for n>=20 ... continuing anyway, n=16\n",
      "  \"anyway, n=%i\" % int(n))\n",
      "C:\\ProgramData\\Anaconda3\\lib\\site-packages\\scipy\\stats\\stats.py:1394: UserWarning: kurtosistest only valid for n>=20 ... continuing anyway, n=16\n",
      "  \"anyway, n=%i\" % int(n))\n"
     ]
    }
   ],
   "source": [
    "normalities = []\n",
    "for sample_user in tqdm(test_users, total=len(test_users)):\n",
    "    normalities.append(get_normality_stats(sample_user))\n",
    "df_normalities = pd.DataFrame(normalities, columns=['min', 'p25', 'p50', 'p75', 'max', 'p_value'])"
   ]
  },
  {
   "cell_type": "code",
   "execution_count": 93,
   "metadata": {
    "ExecuteTime": {
     "end_time": "2020-01-26T14:49:14.003723Z",
     "start_time": "2020-01-26T14:49:13.945845Z"
    }
   },
   "outputs": [
    {
     "data": {
      "text/html": [
       "<div>\n",
       "<style scoped>\n",
       "    .dataframe tbody tr th:only-of-type {\n",
       "        vertical-align: middle;\n",
       "    }\n",
       "\n",
       "    .dataframe tbody tr th {\n",
       "        vertical-align: top;\n",
       "    }\n",
       "\n",
       "    .dataframe thead th {\n",
       "        text-align: right;\n",
       "    }\n",
       "</style>\n",
       "<table border=\"1\" class=\"dataframe\">\n",
       "  <thead>\n",
       "    <tr style=\"text-align: right;\">\n",
       "      <th></th>\n",
       "      <th>min</th>\n",
       "      <th>p25</th>\n",
       "      <th>p50</th>\n",
       "      <th>p75</th>\n",
       "      <th>max</th>\n",
       "      <th>p_value</th>\n",
       "    </tr>\n",
       "  </thead>\n",
       "  <tbody>\n",
       "    <tr>\n",
       "      <th>count</th>\n",
       "      <td>162490.000000</td>\n",
       "      <td>162490.000000</td>\n",
       "      <td>162490.000000</td>\n",
       "      <td>162490.000000</td>\n",
       "      <td>1.624900e+05</td>\n",
       "      <td>1.624700e+05</td>\n",
       "    </tr>\n",
       "    <tr>\n",
       "      <th>mean</th>\n",
       "      <td>-0.932460</td>\n",
       "      <td>-0.317715</td>\n",
       "      <td>0.079322</td>\n",
       "      <td>0.492546</td>\n",
       "      <td>1.000000e+00</td>\n",
       "      <td>6.532185e-03</td>\n",
       "    </tr>\n",
       "    <tr>\n",
       "      <th>std</th>\n",
       "      <td>0.076740</td>\n",
       "      <td>0.089607</td>\n",
       "      <td>0.089031</td>\n",
       "      <td>0.081570</td>\n",
       "      <td>3.372102e-16</td>\n",
       "      <td>4.520544e-02</td>\n",
       "    </tr>\n",
       "    <tr>\n",
       "      <th>min</th>\n",
       "      <td>-0.999346</td>\n",
       "      <td>-0.875730</td>\n",
       "      <td>-0.356005</td>\n",
       "      <td>0.108667</td>\n",
       "      <td>1.000000e+00</td>\n",
       "      <td>0.000000e+00</td>\n",
       "    </tr>\n",
       "    <tr>\n",
       "      <th>25%</th>\n",
       "      <td>-0.978638</td>\n",
       "      <td>-0.373213</td>\n",
       "      <td>0.019775</td>\n",
       "      <td>0.432849</td>\n",
       "      <td>1.000000e+00</td>\n",
       "      <td>1.505974e-229</td>\n",
       "    </tr>\n",
       "    <tr>\n",
       "      <th>50%</th>\n",
       "      <td>-0.955031</td>\n",
       "      <td>-0.340092</td>\n",
       "      <td>0.057480</td>\n",
       "      <td>0.474388</td>\n",
       "      <td>1.000000e+00</td>\n",
       "      <td>1.655885e-40</td>\n",
       "    </tr>\n",
       "    <tr>\n",
       "      <th>75%</th>\n",
       "      <td>-0.910476</td>\n",
       "      <td>-0.281478</td>\n",
       "      <td>0.114687</td>\n",
       "      <td>0.531339</td>\n",
       "      <td>1.000000e+00</td>\n",
       "      <td>6.281687e-10</td>\n",
       "    </tr>\n",
       "    <tr>\n",
       "      <th>max</th>\n",
       "      <td>0.721809</td>\n",
       "      <td>0.800972</td>\n",
       "      <td>0.960090</td>\n",
       "      <td>1.000000</td>\n",
       "      <td>1.000000e+00</td>\n",
       "      <td>9.994044e-01</td>\n",
       "    </tr>\n",
       "  </tbody>\n",
       "</table>\n",
       "</div>"
      ],
      "text/plain": [
       "                 min            p25            p50            p75  \\\n",
       "count  162490.000000  162490.000000  162490.000000  162490.000000   \n",
       "mean       -0.932460      -0.317715       0.079322       0.492546   \n",
       "std         0.076740       0.089607       0.089031       0.081570   \n",
       "min        -0.999346      -0.875730      -0.356005       0.108667   \n",
       "25%        -0.978638      -0.373213       0.019775       0.432849   \n",
       "50%        -0.955031      -0.340092       0.057480       0.474388   \n",
       "75%        -0.910476      -0.281478       0.114687       0.531339   \n",
       "max         0.721809       0.800972       0.960090       1.000000   \n",
       "\n",
       "                max        p_value  \n",
       "count  1.624900e+05   1.624700e+05  \n",
       "mean   1.000000e+00   6.532185e-03  \n",
       "std    3.372102e-16   4.520544e-02  \n",
       "min    1.000000e+00   0.000000e+00  \n",
       "25%    1.000000e+00  1.505974e-229  \n",
       "50%    1.000000e+00   1.655885e-40  \n",
       "75%    1.000000e+00   6.281687e-10  \n",
       "max    1.000000e+00   9.994044e-01  "
      ]
     },
     "execution_count": 93,
     "metadata": {},
     "output_type": "execute_result"
    }
   ],
   "source": [
    "df_normalities.describe()"
   ]
  },
  {
   "cell_type": "code",
   "execution_count": 95,
   "metadata": {
    "ExecuteTime": {
     "end_time": "2020-01-26T14:50:28.380539Z",
     "start_time": "2020-01-26T14:50:27.665359Z"
    }
   },
   "outputs": [
    {
     "data": {
      "text/plain": [
       "1"
      ]
     },
     "execution_count": 95,
     "metadata": {},
     "output_type": "execute_result"
    },
    {
     "data": {
      "image/png": "[encoded data removed]",
      "text/plain": [
       "<Figure size 720x720 with 6 Axes>"
      ]
     },
     "metadata": {
      "needs_background": "light"
     },
     "output_type": "display_data"
    }
   ],
   "source": [
    "df_normalities.hist(figsize=(10,10), log=False)\n",
    "1"
   ]
  },
  {
   "cell_type": "code",
   "execution_count": 97,
   "metadata": {
    "ExecuteTime": {
     "end_time": "2020-01-26T15:18:34.015460Z",
     "start_time": "2020-01-26T15:18:33.660268Z"
    }
   },
   "outputs": [
    {
     "data": {
      "text/plain": [
       "<matplotlib.axes._subplots.AxesSubplot at 0x24ec1e743c8>"
      ]
     },
     "execution_count": 97,
     "metadata": {},
     "output_type": "execute_result"
    },
    {
     "data": {
      "image/png": "[encoded data removed]",
      "text/plain": [
       "<Figure size 432x288 with 1 Axes>"
      ]
     },
     "metadata": {
      "needs_background": "light"
     },
     "output_type": "display_data"
    }
   ],
   "source": [
    "df_normalities.p_value.hist(bins=100)"
   ]
  },
  {
   "cell_type": "code",
   "execution_count": 103,
   "metadata": {
    "ExecuteTime": {
     "end_time": "2020-01-26T15:20:38.236292Z",
     "start_time": "2020-01-26T15:20:37.480713Z"
    }
   },
   "outputs": [
    {
     "data": {
      "text/plain": [
       "array([[<matplotlib.axes._subplots.AxesSubplot object at 0x0000024EC27C6710>,\n",
       "        <matplotlib.axes._subplots.AxesSubplot object at 0x0000024EC3478710>],\n",
       "       [<matplotlib.axes._subplots.AxesSubplot object at 0x0000024EC2752E48>,\n",
       "        <matplotlib.axes._subplots.AxesSubplot object at 0x0000024EC27540F0>],\n",
       "       [<matplotlib.axes._subplots.AxesSubplot object at 0x0000024EC33B1358>,\n",
       "        <matplotlib.axes._subplots.AxesSubplot object at 0x0000024EC288D550>]],\n",
       "      dtype=object)"
      ]
     },
     "execution_count": 103,
     "metadata": {},
     "output_type": "execute_result"
    },
    {
     "data": {
      "image/png": "[encoded data removed]",
      "text/plain": [
       "<Figure size 720x720 with 6 Axes>"
      ]
     },
     "metadata": {
      "needs_background": "light"
     },
     "output_type": "display_data"
    }
   ],
   "source": [
    "df_normalities[(df_normalities.p_value < .05) & (df_normalities['min'] > -.8)].hist(figsize=(10,10))"
   ]
  },
  {
   "cell_type": "code",
   "execution_count": null,
   "metadata": {},
   "outputs": [],
   "source": []
  },
  {
   "cell_type": "code",
   "execution_count": null,
   "metadata": {},
   "outputs": [],
   "source": []
  },
  {
   "cell_type": "markdown",
   "metadata": {},
   "source": [
    "## Predict"
   ]
  },
  {
   "cell_type": "code",
   "execution_count": 35,
   "metadata": {
    "ExecuteTime": {
     "end_time": "2020-01-18T14:38:20.162537Z",
     "start_time": "2020-01-18T14:38:20.158537Z"
    }
   },
   "outputs": [],
   "source": [
    "# %%time\n",
    "# df_recommendation_vf_list = recommend_vf.predict_on_list_of_users_vectorize(users=test_users,\n",
    "#                                                                             new_items=item_features_vf_test)"
   ]
  },
  {
   "cell_type": "code",
   "execution_count": 36,
   "metadata": {
    "ExecuteTime": {
     "end_time": "2020-01-18T15:15:56.092411Z",
     "start_time": "2020-01-18T14:38:20.164537Z"
    },
    "scrolled": true
   },
   "outputs": [
    {
     "data": {
      "application/vnd.jupyter.widget-view+json": {
       "model_id": "49e4e4082cc14381b82e0e0cbda786d1",
       "version_major": 2,
       "version_minor": 0
      },
      "text/plain": [
       "HBox(children=(IntProgress(value=0, max=162490), HTML(value='')))"
      ]
     },
     "metadata": {},
     "output_type": "display_data"
    },
    {
     "name": "stderr",
     "output_type": "stream",
     "text": [
      "C:\\Users\\shossein\\Documents\\personal\\research\\visual_features\\src\\recommender\\item_based.py:64: RuntimeWarning: invalid value encountered in true_divide\n",
      "  new_ratings = similarities_weighted.sum(axis=1) / abs(similarities).sum(axis=1)\n"
     ]
    },
    {
     "name": "stdout",
     "output_type": "stream",
     "text": [
      "\n",
      "Wall time: 37min 35s\n"
     ]
    }
   ],
   "source": [
    "%%time\n",
    "recommendations_vf = recommend_vf.predict_on_list_of_users(test_users, \n",
    "                                                           df_rating_test, \n",
    "                                                           item_features_vf_test, \n",
    "                                                           n_jobs=1,\n",
    "                                                           min_similarity=.6)"
   ]
  },
  {
   "cell_type": "code",
   "execution_count": 37,
   "metadata": {
    "ExecuteTime": {
     "end_time": "2020-01-18T15:15:58.401735Z",
     "start_time": "2020-01-18T15:15:56.095446Z"
    }
   },
   "outputs": [
    {
     "name": "stdout",
     "output_type": "stream",
     "text": [
      "Warning: 42347 (1.17%) of ratings has no prediction\n"
     ]
    }
   ],
   "source": [
    "reload()\n",
    "df_rating_test = rtools.prepare_recommendations_df(df_rating_test=df_rating_test,\n",
    "                                                   recommendations=recommendations_vf, \n",
    "                                                   prediction_column_suffix='vf')"
   ]
  },
  {
   "cell_type": "code",
   "execution_count": 38,
   "metadata": {
    "ExecuteTime": {
     "end_time": "2020-01-18T15:15:58.422734Z",
     "start_time": "2020-01-18T15:15:58.403740Z"
    }
   },
   "outputs": [
    {
     "data": {
      "text/plain": [
       "{1: 0.8701298701298701,\n",
       " 2: 0.8451548451548452,\n",
       " 3: 0.8210583742498636,\n",
       " 4: 0.8546238244514106,\n",
       " 5: 0.860969387755102,\n",
       " 6: 0.9333333333333333,\n",
       " 7: 0.9642857142857143,\n",
       " 8: 0.8517333333333333,\n",
       " 9: 0.8482603092783505,\n",
       " 10: 0.8376068376068376,\n",
       " 11: 0.9230769230769231,\n",
       " 12: 0.8532608695652174,\n",
       " 13: 0.8396542827657378,\n",
       " 14: 0.9629629629629629,\n",
       " 15: 0.8611111111111112,\n",
       " 16: 0.8863636363636364,\n",
       " 17: 0.7954545454545454,\n",
       " 18: 0.8711734693877551,\n",
       " 19: 0.8531081081081081,\n",
       " 20: 0.8663101604278075,\n",
       " 21: 0.8333333333333334,\n",
       " 22: 0.8846153846153846,\n",
       " 23: 0.8604182413706223,\n",
       " 24: 0.875,\n",
       " 25: 0.8414634146341463,\n",
       " 26: 0.8529411764705882,\n",
       " 27: 0.8663101604278075,\n",
       " 28: 0.8888888888888888,\n",
       " 29: 0.8428571428571429,\n",
       " 30: 0.803921568627451,\n",
       " 31: 0.8554671562627499,\n",
       " 32: 0.8269230769230769,\n",
       " 33: 0.8518518518518519,\n",
       " 34: 0.8611111111111112,\n",
       " 35: 0.8888888888888888,\n",
       " 36: 0.8717647058823529,\n",
       " 37: 0.8385416666666666,\n",
       " 38: 0.8536883991429446,\n",
       " 39: 0.696969696969697,\n",
       " 40: 0.8744939271255061,\n",
       " 41: 0.8420902341519132,\n",
       " 42: 0.8571428571428571,\n",
       " 43: 0.8595213319458896,\n",
       " 44: 0.7278911564625851,\n",
       " 45: 0.7959183673469388,\n",
       " 46: 0.8468809073724007,\n",
       " 47: 0.8761904761904762,\n",
       " 48: 0.8148148148148148,\n",
       " 49: 0.9,\n",
       " 50: 0.8504901960784313,\n",
       " 51: 1.0,\n",
       " 52: 0.8,\n",
       " 53: 0.9066666666666666,\n",
       " 54: 0.84,\n",
       " 55: 0.8881987577639752,\n",
       " 56: 0.8461538461538461,\n",
       " 57: 0.8366013071895425,\n",
       " 58: 0.8521739130434782,\n",
       " 59: 0.8551083591331269,\n",
       " 60: 0.8247863247863247,\n",
       " 61: 0.8591867469879518,\n",
       " 62: 0.8067129629629629,\n",
       " 63: 0.8461538461538461,\n",
       " 64: 0.8695652173913043,\n",
       " 65: 0.75,\n",
       " 66: 0.8490990990990991,\n",
       " 67: 0.8258741258741259,\n",
       " 68: 0.8235294117647058,\n",
       " 69: 0.8511904761904762,\n",
       " 70: 0.8815415821501014,\n",
       " 71: 0.8392857142857143,\n",
       " 72: 0.8596633506343714,\n",
       " 73: 0.8928571428571429,\n",
       " 74: 0.8484848484848485,\n",
       " 75: 0.8446428571428571,\n",
       " 76: 0.8650137741046832,\n",
       " 77: 0.8636363636363636,\n",
       " 78: 0.832258064516129,\n",
       " 79: 0.9090909090909091,\n",
       " 80: 0.8399722093561834,\n",
       " 81: 0.8888888888888888,\n",
       " 82: 0.8726708074534162,\n",
       " 83: 0.875,\n",
       " 84: 0.8503177733946965,\n",
       " 85: 0.8214285714285714,\n",
       " 86: 0.8509485094850948,\n",
       " 87: 0.8148148148148148,\n",
       " 88: 0.7708333333333334,\n",
       " 89: 0.8565918653576438,\n",
       " 90: 0.8125,\n",
       " 91: 0.8146551724137931,\n",
       " 92: 0.8295218295218295,\n",
       " 93: 0.8877551020408163,\n",
       " 94: 0.8675213675213675,\n",
       " 95: 0.8490740740740741,\n",
       " 96: 0.8020833333333334,\n",
       " 97: 0.8582375478927203,\n",
       " 98: 0.8489583333333334,\n",
       " 99: 0.8544698544698545,\n",
       " 100: 0.8735632183908046,\n",
       " 101: 0.8315217391304348,\n",
       " 102: 0.8630952380952381,\n",
       " 103: 0.9176470588235294,\n",
       " 104: 0.8421052631578947,\n",
       " 105: 0.7954545454545454,\n",
       " 106: 0.8571428571428571,\n",
       " 107: 0.8598251028806584,\n",
       " 108: 0.7733333333333333,\n",
       " 109: 0.8499876022811803,\n",
       " 110: 0.8245614035087719,\n",
       " 111: 0.9259259259259259,\n",
       " 112: 0.8622377622377623,\n",
       " 113: 0.8642533936651584,\n",
       " 114: 0.8414634146341463,\n",
       " 115: 0.92,\n",
       " 116: 0.7395833333333334,\n",
       " 117: 0.8639455782312925,\n",
       " 118: 0.8627450980392157,\n",
       " 119: 0.8125,\n",
       " 120: 0.8663257852447042,\n",
       " 121: 0.8686224489795918,\n",
       " 122: 0.8333333333333334,\n",
       " 123: 0.8385416666666666,\n",
       " 124: 0.8503401360544217,\n",
       " 125: 0.8477576711250984,\n",
       " 126: 0.7884615384615384,\n",
       " 127: 0.8461538461538461,\n",
       " 128: 0.6666666666666666,\n",
       " 129: 0.8636363636363636,\n",
       " 130: 0.8064516129032258,\n",
       " 131: 0.8532608695652174,\n",
       " 132: 0.8531045751633987,\n",
       " 133: 0.8457300275482094,\n",
       " 134: 0.8835227272727273,\n",
       " 135: 0.7954545454545454,\n",
       " 136: 0.87,\n",
       " 137: 0.8380952380952381,\n",
       " 138: 0.8725490196078431,\n",
       " 139: 0.8544034090909091,\n",
       " 140: 0.8636363636363636,\n",
       " 141: 0.8588039867109635,\n",
       " 142: 0.8433566433566434,\n",
       " 143: 0.8055555555555556,\n",
       " 144: 0.8710801393728222,\n",
       " 145: 0.9122807017543859,\n",
       " 146: 0.8333333333333334,\n",
       " 147: 0.8625509609784507,\n",
       " 148: 0.7985948477751756,\n",
       " 149: 0.8285714285714286,\n",
       " 150: 0.7291666666666666,\n",
       " 151: 0.7777777777777778,\n",
       " 152: 0.8128898128898129,\n",
       " 153: 0.75,\n",
       " 154: 0.8509316770186336,\n",
       " 155: 0.8579881656804734,\n",
       " 156: 0.8365384615384616,\n",
       " 157: 0.8714285714285714,\n",
       " 158: 0.8342245989304813,\n",
       " 159: 0.842512908777969,\n",
       " 160: 0.8384353741496599,\n",
       " 161: 0.8678500986193294,\n",
       " 162: 0.8600427350427351,\n",
       " 163: 0.8043478260869565,\n",
       " 164: 0.8423529411764706,\n",
       " 165: 0.7965517241379311,\n",
       " 166: 0.8473176612417119,\n",
       " 167: 0.8468045112781954,\n",
       " 168: 0.8666666666666667,\n",
       " 169: 0.8434175531914894,\n",
       " 170: 0.8333333333333334,\n",
       " 171: 0.8570691434468525,\n",
       " 172: 0.7801724137931034,\n",
       " 173: 0.9259259259259259,\n",
       " 174: 0.8448673587081892,\n",
       " 175: 0.8557193557193558,\n",
       " 176: 0.8416666666666667,\n",
       " 177: 0.8145905420991926,\n",
       " 178: 0.8125,\n",
       " 179: 0.8412698412698413,\n",
       " 180: 0.625,\n",
       " 181: 0.8472139599444775,\n",
       " 182: 0.8181818181818182,\n",
       " 183: 0.782312925170068,\n",
       " 184: 0.8483870967741935,\n",
       " 185: 0.8661016949152542,\n",
       " 186: 0.8519021739130435,\n",
       " 187: 0.8263254113345521,\n",
       " 188: 0.8342785129174544,\n",
       " 189: 0.857736240913811,\n",
       " 190: 0.8594104308390023,\n",
       " 191: 0.7666666666666667,\n",
       " 192: 0.7916666666666666,\n",
       " 193: 0.8571428571428571,\n",
       " 194: 0.7407407407407407,\n",
       " 195: 0.8380952380952381,\n",
       " 196: 0.8489042675893888,\n",
       " 197: 0.8480392156862745,\n",
       " 198: 0.8436213991769548,\n",
       " 199: 0.8643724696356275,\n",
       " 200: 0.875,\n",
       " 201: 0.8612,\n",
       " 202: 0.8802083333333334,\n",
       " 203: 0.75,\n",
       " 204: 0.8379351740696278,\n",
       " 205: 0.7916666666666666,\n",
       " 206: 0.8666666666666667,\n",
       " 207: 0.7475434618291761,\n",
       " 208: 0.8495475113122172,\n",
       " 209: 0.8071428571428572,\n",
       " 210: 0.7,\n",
       " 211: 0.8571428571428571,\n",
       " 212: 0.7946916471506635,\n",
       " 213: 0.8440256615878108,\n",
       " 214: 0.8,\n",
       " 215: 0.8344764517604024,\n",
       " 216: 0.8423128827987127,\n",
       " 217: 0.8468424479166666,\n",
       " 218: 0.8205128205128205,\n",
       " 219: 0.9230769230769231,\n",
       " 220: 0.811965811965812,\n",
       " 221: 0.8693181818181818,\n",
       " 222: 0.7857142857142857,\n",
       " 223: 0.8504273504273504,\n",
       " 224: 0.8232142857142857,\n",
       " 225: 0.8461538461538461,\n",
       " 226: 0.84874968786787,\n",
       " 227: 0.8576388888888888,\n",
       " 228: 0.8519392033542977,\n",
       " 229: 0.8285714285714286,\n",
       " 230: 0.8581536613043188,\n",
       " 231: 0.8382352941176471,\n",
       " 232: 0.8636363636363636,\n",
       " 233: 0.8563049853372434,\n",
       " 234: 0.86,\n",
       " 235: 0.8579059829059829,\n",
       " 236: 0.8352370074243289,\n",
       " 237: 0.8232142857142857,\n",
       " 238: 0.84,\n",
       " 239: 0.7884615384615384,\n",
       " 240: 0.8404312668463612,\n",
       " 241: 0.9393939393939394,\n",
       " 242: 0.8778538812785388,\n",
       " 243: 0.8497406639004149,\n",
       " 244: 0.8347457627118644,\n",
       " 245: 0.8701298701298701,\n",
       " 246: 0.9166666666666666,\n",
       " 247: 0.8629213483146068,\n",
       " 248: 0.834108527131783,\n",
       " 249: 0.867513611615245,\n",
       " 250: 0.8181818181818182,\n",
       " 251: 0.8011363636363636,\n",
       " 252: 0.9019607843137255,\n",
       " 253: 0.8636363636363636,\n",
       " 254: 0.8641975308641975,\n",
       " 255: 0.8705234159779615,\n",
       " 256: 0.8351776354105999,\n",
       " 257: 0.88125,\n",
       " 258: 0.8387096774193549,\n",
       " 259: 0.871504157218443,\n",
       " 260: 0.8177083333333334,\n",
       " 261: 0.8779049601109955,\n",
       " 262: 0.8310344827586207,\n",
       " 263: 0.7988980716253443,\n",
       " 264: 0.875,\n",
       " 265: 0.8606271777003485,\n",
       " 266: 0.8503401360544217,\n",
       " 267: 0.8773584905660378,\n",
       " 268: 0.8641304347826086,\n",
       " 269: 0.8333333333333334,\n",
       " 270: 0.8171296296296297,\n",
       " 271: 0.8641304347826086,\n",
       " 272: 0.8642857142857143,\n",
       " 273: 0.8352941176470589,\n",
       " 274: 0.9,\n",
       " 275: 0.8605769230769231,\n",
       " 276: 0.8632478632478633,\n",
       " 277: 0.7665886026541764,\n",
       " 278: 0.8506944444444444,\n",
       " 279: 0.8783783783783784,\n",
       " 280: 0.8329903978052127,\n",
       " 281: 0.858678955453149,\n",
       " 282: 0.7045454545454546,\n",
       " 283: 0.75,\n",
       " 284: 0.8599041054839677,\n",
       " 285: 0.8566521337032633,\n",
       " 286: 0.7878787878787878,\n",
       " 287: 0.8738738738738738,\n",
       " 288: 0.8070175438596491,\n",
       " 289: 1.0,\n",
       " 290: 0.8733333333333333,\n",
       " 291: 0.6875,\n",
       " 292: 0.8426573426573427,\n",
       " 293: 0.8541666666666666,\n",
       " 294: 0.818470075307174,\n",
       " 295: 0.8981481481481481,\n",
       " 296: 0.8564499484004128,\n",
       " 297: 0.8133333333333334,\n",
       " 298: 0.6666666666666666,\n",
       " 299: 0.8653846153846154,\n",
       " 300: 0.814968814968815,\n",
       " 301: 0.8619528619528619,\n",
       " 302: 0.8457446808510638,\n",
       " 303: 0.8333333333333334,\n",
       " 304: 0.8621674876847291,\n",
       " 305: 0.825,\n",
       " 306: 0.7466666666666667,\n",
       " 307: 0.8967391304347826,\n",
       " 308: 0.7272727272727273,\n",
       " 309: 0.827331486611265,\n",
       " 310: 0.8666666666666667,\n",
       " 311: 0.9423076923076923,\n",
       " 312: 0.890625,\n",
       " 313: 0.8382352941176471,\n",
       " 314: 0.8509316770186336,\n",
       " 315: 0.8571428571428571,\n",
       " 316: 0.75,\n",
       " 317: 0.8181818181818182,\n",
       " 318: 0.8654187192118227,\n",
       " 319: 0.834319526627219,\n",
       " 320: 0.8643724696356275,\n",
       " 321: 0.8439965483234714,\n",
       " 322: 0.7979041916167665,\n",
       " 323: 0.8744228993536473,\n",
       " 324: 0.8380681818181818,\n",
       " 325: 0.8580729166666666,\n",
       " 326: 0.8506493506493507,\n",
       " 327: 0.7333333333333333,\n",
       " 328: 0.8186274509803921,\n",
       " 329: 0.8509316770186336,\n",
       " 330: 0.7954545454545454,\n",
       " 331: 0.8072916666666666,\n",
       " 332: 0.8681818181818182,\n",
       " 333: 0.8616383616383616,\n",
       " 334: 0.85,\n",
       " 335: 0.7692307692307693,\n",
       " 336: 0.925,\n",
       " 337: 0.7333333333333333,\n",
       " 338: 0.8588235294117647,\n",
       " 339: 0.9629629629629629,\n",
       " 340: 0.7083333333333334,\n",
       " 341: 0.7857142857142857,\n",
       " 342: 0.8701923076923077,\n",
       " 343: 0.8527383367139959,\n",
       " 344: 0.7857142857142857,\n",
       " 345: 0.8592814371257484,\n",
       " 346: 0.8636363636363636,\n",
       " 347: 0.8350340136054422,\n",
       " 348: 0.8505747126436781,\n",
       " 349: 0.8,\n",
       " 350: 0.8877551020408163,\n",
       " 351: 0.825,\n",
       " 352: 0.8666666666666667,\n",
       " 353: 0.9259259259259259,\n",
       " 354: 0.76,\n",
       " 355: 0.7921487603305785,\n",
       " 356: 0.8571428571428571,\n",
       " 357: 0.8470812875068194,\n",
       " 358: 0.85,\n",
       " 359: 0.84812734082397,\n",
       " 360: 0.8504901960784313,\n",
       " 361: 0.8117647058823529,\n",
       " 362: 0.7619047619047619,\n",
       " 363: 0.8666666666666667,\n",
       " 364: 0.8441644562334217,\n",
       " 365: 0.8,\n",
       " 366: 0.8547008547008547,\n",
       " 367: 0.6428571428571429,\n",
       " 368: 0.8487470704885524,\n",
       " 369: 0.8431372549019608,\n",
       " 370: 0.8569837380262865,\n",
       " 371: 0.8188914910226386,\n",
       " 372: 0.9090909090909091,\n",
       " 373: 0.8314176245210728,\n",
       " 374: 0.8431372549019608,\n",
       " 375: 0.8057692307692308,\n",
       " 376: 0.8148148148148148,\n",
       " 377: 0.8933333333333333,\n",
       " 378: 0.8522622345337026,\n",
       " 379: 0.8632546981207517,\n",
       " 380: 0.9375,\n",
       " 381: 0.875,\n",
       " 382: 0.8065476190476191,\n",
       " 383: 0.8571428571428571,\n",
       " 384: 0.9142857142857143,\n",
       " 385: 0.7692307692307693,\n",
       " 386: 0.8494318181818182,\n",
       " 387: 0.8463541666666666,\n",
       " 388: 0.8521262886597938,\n",
       " 389: 0.8541666666666666,\n",
       " 390: 0.8632478632478633,\n",
       " 391: 0.9019607843137255,\n",
       " 392: 0.8833333333333333,\n",
       " 393: 0.8571428571428571,\n",
       " 394: 0.8238866396761133,\n",
       " 395: 0.8483723586521987,\n",
       " 396: 0.851667939903234,\n",
       " 397: 0.8387096774193549,\n",
       " 398: 0.8600543478260869,\n",
       " 399: 0.8538205980066446,\n",
       " 400: 0.825836216839677,\n",
       " 401: 0.8888888888888888,\n",
       " 402: 0.8565295169946333,\n",
       " 403: 0.8583333333333333,\n",
       " 404: 0.8645833333333334,\n",
       " 405: 0.8035714285714286,\n",
       " 406: 0.8126721763085399,\n",
       " 407: 0.8726851851851852,\n",
       " 408: 0.8442594519597642,\n",
       " 409: 0.8514819587628866,\n",
       " 410: 0.8573369565217391,\n",
       " 411: 0.8689655172413793,\n",
       " 412: 0.825,\n",
       " 413: 0.8076923076923077,\n",
       " 414: 0.8457993619283942,\n",
       " 415: 0.875,\n",
       " 416: 0.8663003663003663,\n",
       " 417: 0.8828828828828829,\n",
       " 418: 0.8635593220338983,\n",
       " 419: 0.8532608695652174,\n",
       " 420: 0.8393939393939394,\n",
       " 421: 0.8621700879765396,\n",
       " 422: 0.825,\n",
       " 423: 0.8260869565217391,\n",
       " 424: 0.8357142857142857,\n",
       " 425: 0.8181818181818182,\n",
       " 426: 0.8558894349704786,\n",
       " 427: 0.8450854700854701,\n",
       " 428: 0.8449477351916377,\n",
       " 429: 0.7878787878787878,\n",
       " 430: 0.828125,\n",
       " 431: 0.8620957491879678,\n",
       " 432: 0.8933333333333333,\n",
       " 433: 0.8070175438596491,\n",
       " 434: 0.8606770833333334,\n",
       " 435: 0.8633202955236854,\n",
       " 436: 0.785,\n",
       " 437: 0.8576254826254827,\n",
       " 438: 0.8181818181818182,\n",
       " 439: 0.8486111111111111,\n",
       " 440: 0.8481572481572481,\n",
       " 441: 0.8608333333333333,\n",
       " 442: 0.8631452581032413,\n",
       " 443: 0.848318462594372,\n",
       " 444: 0.9393939393939394,\n",
       " 445: 0.8565333333333334,\n",
       " 446: 0.8579919739532066,\n",
       " 447: 0.8193548387096774,\n",
       " 448: 0.8125,\n",
       " 449: 0.8410138248847926,\n",
       " 450: 0.8429519071310116,\n",
       " 451: 0.9545454545454546,\n",
       " 452: 0.9166666666666666,\n",
       " 453: 0.8367346938775511,\n",
       " 454: 0.8428571428571429,\n",
       " 455: 0.8581081081081081,\n",
       " 456: 0.8571428571428571,\n",
       " 457: 0.8888888888888888,\n",
       " 458: 0.8165680473372781,\n",
       " 459: 0.8481012658227848,\n",
       " 460: 0.7979867622724766,\n",
       " 461: 0.8941441441441441,\n",
       " 462: 0.8568922305764411,\n",
       " 463: 0.875,\n",
       " 464: 0.8125,\n",
       " 465: 0.8709677419354839,\n",
       " 466: 0.8823529411764706,\n",
       " 467: 0.8666666666666667,\n",
       " 468: 0.8767340467697186,\n",
       " 469: 0.8405797101449275,\n",
       " 470: 0.7,\n",
       " 471: 0.8181818181818182,\n",
       " 472: 0.8638985005767013,\n",
       " 473: 0.8571428571428571,\n",
       " 474: 0.8888888888888888,\n",
       " 475: 0.7807017543859649,\n",
       " 476: 0.9230769230769231,\n",
       " 477: 0.8317769596839364,\n",
       " 478: 0.8071428571428572,\n",
       " 479: 0.8859649122807017,\n",
       " 480: 0.8125,\n",
       " 481: 0.8137860082304527,\n",
       " 482: 0.8476190476190476,\n",
       " 483: 0.83125,\n",
       " 484: 0.9393939393939394,\n",
       " 485: 0.8,\n",
       " 486: 0.8245614035087719,\n",
       " 487: 0.8571428571428571,\n",
       " 488: 0.8515625,\n",
       " 489: 0.7802265074992347,\n",
       " 490: 0.8611111111111112,\n",
       " 491: 0.8329554043839759,\n",
       " 492: 0.8181818181818182,\n",
       " 493: 0.8231292517006803,\n",
       " 494: 0.819155264723379,\n",
       " 495: 0.7792207792207793,\n",
       " 496: 0.8787878787878788,\n",
       " 497: 0.8845238095238095,\n",
       " 498: 0.8508771929824561,\n",
       " 499: 0.925,\n",
       " 500: 0.9642857142857143,\n",
       " 501: 0.8586545729402872,\n",
       " 502: 0.8557692307692307,\n",
       " 503: 0.7407407407407407,\n",
       " 504: 0.8653846153846154,\n",
       " 505: 0.75,\n",
       " 506: 0.8333333333333334,\n",
       " 507: 0.7941176470588235,\n",
       " 508: 0.9090909090909091,\n",
       " 509: 0.8928571428571429,\n",
       " 510: 0.875,\n",
       " 511: 0.8537234042553191,\n",
       " 512: 0.9322916666666666,\n",
       " 513: 0.8137254901960784,\n",
       " 514: 0.8548553719008265,\n",
       " 515: 0.8121052631578948,\n",
       " 516: 0.8705882352941177,\n",
       " 517: 0.7115384615384616,\n",
       " 518: 0.8425925925925926,\n",
       " 519: 0.8600945264099125,\n",
       " 520: 0.8,\n",
       " 521: 0.8440890919474586,\n",
       " 522: 0.8705882352941177,\n",
       " 523: 0.8572884811416922,\n",
       " 524: 0.9285714285714286,\n",
       " 525: 0.8409090909090909,\n",
       " 526: 0.8329988851727982,\n",
       " 527: 0.8192546583850931,\n",
       " 528: 0.8566666666666667,\n",
       " 529: 0.9285714285714286,\n",
       " 530: 0.8266666666666667,\n",
       " 531: 0.8356589147286821,\n",
       " 532: 0.8508771929824561,\n",
       " 533: 0.7692307692307693,\n",
       " 534: 0.8490990990990991,\n",
       " 535: 0.8741935483870967,\n",
       " 536: 0.8701298701298701,\n",
       " 537: 0.8285714285714286,\n",
       " 538: 0.8411184210526316,\n",
       " 539: 0.8529411764705882,\n",
       " 540: 0.8133333333333334,\n",
       " 541: 0.8556843094268712,\n",
       " 542: 0.7611764705882353,\n",
       " 543: 0.8571428571428571,\n",
       " 544: 0.8533333333333334,\n",
       " 545: 0.8632478632478633,\n",
       " 546: 0.8142857142857143,\n",
       " 547: 0.8526077097505669,\n",
       " 548: 0.818953413866536,\n",
       " 549: 0.8600823045267489,\n",
       " 550: 0.8404452690166976,\n",
       " 551: 0.8629783858814198,\n",
       " 552: 0.8476190476190476,\n",
       " 553: 0.75,\n",
       " 554: 0.831764705882353,\n",
       " 555: 0.8409090909090909,\n",
       " 556: 0.8198757763975155,\n",
       " 557: 0.8695652173913043,\n",
       " 558: 0.8435374149659864,\n",
       " 559: 0.7989130434782609,\n",
       " 560: 0.8730769230769231,\n",
       " 561: 0.8617237275082266,\n",
       " 562: 0.8928571428571429,\n",
       " 563: 0.8326923076923077,\n",
       " 564: 0.8642857142857143,\n",
       " 565: 0.8396656534954408,\n",
       " 566: 0.8451351351351352,\n",
       " 567: 0.8449197860962567,\n",
       " 568: 0.8352490421455939,\n",
       " 569: 0.8333333333333334,\n",
       " 570: 0.8571428571428571,\n",
       " 571: 0.86,\n",
       " 572: 0.8671468144044321,\n",
       " 573: 0.9333333333333333,\n",
       " 574: 0.9090909090909091,\n",
       " 575: 0.8464611872146118,\n",
       " 576: 0.8663101604278075,\n",
       " 577: 0.8928571428571429,\n",
       " 578: 0.8299595141700404,\n",
       " 579: 0.7916666666666666,\n",
       " 580: 0.87,\n",
       " 581: 0.8569078947368421,\n",
       " 582: 0.7878787878787878,\n",
       " 583: 0.7867647058823529,\n",
       " 584: 0.8639455782312925,\n",
       " 585: 0.8958333333333334,\n",
       " 586: 0.8269230769230769,\n",
       " 587: 0.8235045742434906,\n",
       " 588: 0.8592592592592593,\n",
       " 589: 0.42857142857142855,\n",
       " 590: 0.9126984126984127,\n",
       " 591: 0.8626700680272109,\n",
       " 592: 0.842153451748764,\n",
       " 593: 0.7916666666666666,\n",
       " 594: 0.8160919540229885,\n",
       " 595: 0.7941176470588235,\n",
       " 596: 0.86,\n",
       " 597: 0.8532214870825456,\n",
       " 598: 0.8144957983193277,\n",
       " 599: 0.8367346938775511,\n",
       " 600: 0.8870967741935484,\n",
       " 601: 0.8565217391304348,\n",
       " 602: 0.8571428571428571,\n",
       " 603: 0.8653846153846154,\n",
       " 604: 0.75,\n",
       " 605: 0.8536036036036037,\n",
       " 606: 0.8344789356984479,\n",
       " 607: 0.8548168249660787,\n",
       " 608: 0.8445339681377038,\n",
       " 609: 0.8633540372670807,\n",
       " 610: 0.860730593607306,\n",
       " 611: 0.8587081891580162,\n",
       " 612: 0.8333333333333334,\n",
       " 613: 0.8452285485164395,\n",
       " 614: 0.8375,\n",
       " 615: 0.8245614035087719,\n",
       " 616: 0.8714285714285714,\n",
       " 617: 0.8379629629629629,\n",
       " 618: 0.8533333333333334,\n",
       " 619: 0.7989041095890411,\n",
       " 620: 0.775,\n",
       " 621: 0.8518518518518519,\n",
       " 622: 0.8705882352941177,\n",
       " 623: 0.8596491228070176,\n",
       " 624: 0.8542976939203354,\n",
       " 625: 0.8896103896103896,\n",
       " 626: 0.8588488765774084,\n",
       " 627: 0.7058823529411765,\n",
       " 628: 0.8077481840193704,\n",
       " 629: 0.7666666666666667,\n",
       " 630: 0.8527929901423877,\n",
       " 631: 0.7916666666666666,\n",
       " 632: 0.7892857142857143,\n",
       " 633: 0.875,\n",
       " 634: 0.8357771260997068,\n",
       " 635: 0.7833333333333333,\n",
       " 636: 0.8323471400394478,\n",
       " 637: 0.7272727272727273,\n",
       " 638: 0.8214285714285714,\n",
       " 639: 0.8158347676419966,\n",
       " 640: 0.7407407407407407,\n",
       " 641: 0.8559670781893004,\n",
       " 642: 0.8476190476190476,\n",
       " 643: 0.8333333333333334,\n",
       " 644: 0.8421052631578947,\n",
       " 645: 0.8642857142857143,\n",
       " 646: 0.8961038961038961,\n",
       " 647: 0.8266846361185984,\n",
       " 648: 0.84529047319745,\n",
       " 649: 0.8527049873203719,\n",
       " 650: 0.875,\n",
       " 651: 0.92,\n",
       " 652: 0.8914728682170543,\n",
       " 653: 0.8589476606969318,\n",
       " 654: 0.8333333333333334,\n",
       " 655: 0.8571428571428571,\n",
       " 656: 0.9166666666666666,\n",
       " 657: 0.8333333333333334,\n",
       " 658: 0.8449612403100775,\n",
       " 659: 0.87,\n",
       " 660: 0.9319727891156463,\n",
       " 661: 0.7857142857142857,\n",
       " 662: 0.8863636363636364,\n",
       " 663: 0.8482142857142857,\n",
       " 664: 0.8125,\n",
       " 665: 0.8636363636363636,\n",
       " 666: 0.82,\n",
       " 667: 0.8787878787878788,\n",
       " 668: 0.7857142857142857,\n",
       " 669: 0.83,\n",
       " 670: 0.795,\n",
       " 671: 0.8279352226720648,\n",
       " 672: 0.8523908523908524,\n",
       " 673: 0.8636363636363636,\n",
       " 674: 0.876984126984127,\n",
       " 675: 0.8344017094017094,\n",
       " 676: 0.861864406779661,\n",
       " 677: 0.8480620155038759,\n",
       " 678: 0.8409090909090909,\n",
       " 679: 0.7928571428571428,\n",
       " 680: 0.8288461538461539,\n",
       " 681: 0.8461538461538461,\n",
       " 682: 0.7642857142857142,\n",
       " 683: 0.9166666666666666,\n",
       " 684: 0.8461538461538461,\n",
       " 685: 0.7583333333333333,\n",
       " 686: 0.8697478991596639,\n",
       " 687: 0.9038461538461539,\n",
       " 688: 0.8235294117647058,\n",
       " 689: 0.775,\n",
       " 690: 0.7976190476190477,\n",
       " 691: 0.8785714285714286,\n",
       " 692: 0.8541666666666666,\n",
       " 693: 0.8625,\n",
       " 694: 0.8499449675920264,\n",
       " 695: 0.8505321443981015,\n",
       " 696: 0.8567493112947658,\n",
       " 697: 0.8395618556701031,\n",
       " 698: 0.8472222222222222,\n",
       " 699: 0.8163265306122449,\n",
       " 700: 0.818870523415978,\n",
       " 701: 0.7625,\n",
       " 702: 0.8284412955465587,\n",
       " 703: 0.8122605363984674,\n",
       " 704: 0.825,\n",
       " 705: 0.850830078125,\n",
       " 706: 0.8533333333333334,\n",
       " 707: 0.8530737335496665,\n",
       " 708: 0.8154269972451791,\n",
       " 709: 0.8216065377715767,\n",
       " 710: 0.8645833333333334,\n",
       " 711: 0.8857142857142857,\n",
       " 712: 0.8138655462184874,\n",
       " 713: 0.8466101694915255,\n",
       " 714: 0.83046781287485,\n",
       " 715: 0.83,\n",
       " 716: 0.8941176470588236,\n",
       " 717: 0.8260869565217391,\n",
       " 718: 0.8615056818181818,\n",
       " 719: 0.8696581196581197,\n",
       " 720: 0.8639455782312925,\n",
       " 721: 0.8595238095238096,\n",
       " 722: 0.8656716417910447,\n",
       " 723: 0.8480083857442348,\n",
       " 724: 0.8636363636363636,\n",
       " 725: 0.8833333333333333,\n",
       " 726: 0.8928571428571429,\n",
       " 727: 0.8583252190847127,\n",
       " 728: 0.8148148148148148,\n",
       " 729: 0.9259259259259259,\n",
       " 730: 0.8,\n",
       " 731: 0.8588850174216028,\n",
       " 732: 0.8535414165666266,\n",
       " 733: 0.7777777777777778,\n",
       " 734: 0.8511161307467446,\n",
       " 735: 0.8481781376518218,\n",
       " 736: 0.8574168797953964,\n",
       " 737: 0.8858695652173914,\n",
       " 738: 0.851271186440678,\n",
       " 739: 0.8284313725490197,\n",
       " 740: 0.8203038791274085,\n",
       " 741: 0.8526698350573106,\n",
       " 742: 0.8787878787878788,\n",
       " 743: 0.8322981366459627,\n",
       " 744: 0.8193548387096774,\n",
       " 745: 0.8285714285714286,\n",
       " 746: 0.8725490196078431,\n",
       " 747: 0.8425925925925926,\n",
       " 748: 0.8503401360544217,\n",
       " 749: 0.8920454545454546,\n",
       " 750: 0.8333333333333334,\n",
       " 751: 0.8604651162790697,\n",
       " 752: 0.8745901639344262,\n",
       " 753: 0.7407407407407407,\n",
       " 754: 0.8266666666666667,\n",
       " 755: 0.8418604651162791,\n",
       " 756: 0.8519924098671727,\n",
       " 757: 0.8622031122031122,\n",
       " 758: 0.9166666666666666,\n",
       " 759: 0.8269230769230769,\n",
       " 760: 0.8478260869565217,\n",
       " 761: 0.8409090909090909,\n",
       " 762: 0.8533333333333334,\n",
       " 763: 0.782608695652174,\n",
       " 764: 0.8509615384615384,\n",
       " 765: 0.8441814595660749,\n",
       " 766: 0.7866666666666666,\n",
       " 767: 0.8666666666666667,\n",
       " 768: 0.8415026833631485,\n",
       " 769: 0.8333333333333334,\n",
       " 770: 0.8732993197278912,\n",
       " 771: 0.844017094017094,\n",
       " 772: 0.846500920810313,\n",
       " 773: 0.7954545454545454,\n",
       " 774: 0.8,\n",
       " 775: 0.8414351851851852,\n",
       " 776: 0.8541666666666666,\n",
       " 777: 0.8714285714285714,\n",
       " 778: 0.7954545454545454,\n",
       " 779: 0.8466666666666667,\n",
       " 780: 0.7766666666666666,\n",
       " 781: 0.8639455782312925,\n",
       " 782: 0.8571428571428571,\n",
       " 783: 0.8642857142857143,\n",
       " 784: 0.9629629629629629,\n",
       " 785: 0.8628048780487805,\n",
       " 786: 0.8709677419354839,\n",
       " 787: 0.8594833018273472,\n",
       " 788: 0.8798076923076923,\n",
       " 789: 0.8435374149659864,\n",
       " 790: 0.788235294117647,\n",
       " 791: 0.8142857142857143,\n",
       " 792: 0.8015873015873016,\n",
       " 793: 0.8536290931039686,\n",
       " 794: 0.8533333333333334,\n",
       " 795: 0.8431341883015326,\n",
       " 796: 0.7272727272727273,\n",
       " 797: 0.8469387755102041,\n",
       " 798: 0.8289473684210527,\n",
       " 799: 0.875,\n",
       " 800: 0.8333333333333334,\n",
       " 801: 0.8444610434382901,\n",
       " 802: 0.8,\n",
       " 803: 0.8584309463430343,\n",
       " 804: 0.8611111111111112,\n",
       " 805: 0.8541154791154791,\n",
       " 806: 0.8921568627450981,\n",
       " 807: 0.8333333333333334,\n",
       " 808: 0.8701923076923077,\n",
       " 809: 0.75,\n",
       " 810: 0.8506666666666667,\n",
       " 811: 1.0,\n",
       " 812: 0.8921568627450981,\n",
       " 813: 0.8875,\n",
       " 814: 0.8571428571428571,\n",
       " 815: 0.8425503355704698,\n",
       " 816: 0.8,\n",
       " 817: 0.8229166666666666,\n",
       " 818: 0.9142857142857143,\n",
       " 819: 0.8095238095238095,\n",
       " 820: 0.9583333333333334,\n",
       " 821: 0.855036855036855,\n",
       " 822: 0.8321234119782214,\n",
       " 823: 0.8061224489795918,\n",
       " 824: 0.84472049689441,\n",
       " 825: 0.88,\n",
       " 826: 0.8835534213685474,\n",
       " 827: 0.7333333333333333,\n",
       " 828: 0.8623931623931624,\n",
       " 829: 0.7745098039215687,\n",
       " 830: 0.8602739726027397,\n",
       " 831: 0.9393939393939394,\n",
       " 832: 0.828669331810394,\n",
       " 833: 0.8475499092558983,\n",
       " 834: 0.8477366255144033,\n",
       " 835: 0.8695652173913043,\n",
       " 836: 0.8623485388453315,\n",
       " 837: 0.8555399719495091,\n",
       " 838: 0.8787878787878788,\n",
       " 839: 0.7982456140350878,\n",
       " 840: 0.8338741077222582,\n",
       " 841: 0.825,\n",
       " 842: 0.8206896551724138,\n",
       " 843: 0.875,\n",
       " 844: 0.8459357277882797,\n",
       " 845: 0.8269230769230769,\n",
       " 846: 0.8577704837821859,\n",
       " 847: 0.8576558719794795,\n",
       " 848: 0.8458511465215701,\n",
       " 849: 0.840080971659919,\n",
       " 850: 0.6060606060606061,\n",
       " 851: 0.865625,\n",
       " 852: 0.875,\n",
       " 853: 0.7647058823529411,\n",
       " 854: 0.8478260869565217,\n",
       " 855: 0.8559423769507803,\n",
       " 856: 0.8666666666666667,\n",
       " 857: 0.8498427672955975,\n",
       " 858: 0.8568894145476049,\n",
       " 859: 0.8595166837896994,\n",
       " 860: 0.8582533799925104,\n",
       " 861: 0.862,\n",
       " 862: 0.8823529411764706,\n",
       " 863: 0.8625,\n",
       " 864: 0.8472490347490348,\n",
       " 865: 0.8385478863147838,\n",
       " 866: 0.8538461538461538,\n",
       " 867: 0.7857142857142857,\n",
       " 868: 0.8913043478260869,\n",
       " 869: 0.8636363636363636,\n",
       " 870: 0.7625,\n",
       " 871: 0.8041982869569076,\n",
       " 872: 0.8273109243697478,\n",
       " 873: 0.8333333333333334,\n",
       " 874: 0.8541666666666666,\n",
       " 875: 0.8539823008849557,\n",
       " 876: 0.8536209553158706,\n",
       " 877: 0.8467078189300411,\n",
       " 878: 0.6875,\n",
       " 879: 0.8209366391184573,\n",
       " 880: 0.8076923076923077,\n",
       " 881: 0.9,\n",
       " 882: 0.865,\n",
       " 883: 0.8928571428571429,\n",
       " 884: 0.7045454545454546,\n",
       " 885: 0.7916666666666666,\n",
       " 886: 0.870613257710032,\n",
       " 887: 0.7142857142857143,\n",
       " 888: 0.8511530398322851,\n",
       " 889: 0.7884615384615384,\n",
       " 890: 0.8484848484848485,\n",
       " 891: 0.8602853745541023,\n",
       " 892: 0.8528911564625851,\n",
       " 893: 0.8823529411764706,\n",
       " 894: 0.8628537834887041,\n",
       " 895: 0.8196428571428571,\n",
       " 896: 0.8378828655645265,\n",
       " 897: 0.8511530398322851,\n",
       " 898: 0.8311688311688312,\n",
       " 899: 0.8448275862068966,\n",
       " 900: 0.8341176470588235,\n",
       " 901: 0.8357121805397667,\n",
       " 902: 0.865034965034965,\n",
       " 903: 0.840625,\n",
       " 904: 0.8418719211822661,\n",
       " 905: 0.8730343622597554,\n",
       " 906: 0.8004629629629629,\n",
       " 907: 0.8819875776397516,\n",
       " 908: 0.9038461538461539,\n",
       " 909: 0.8572719060523939,\n",
       " 910: 0.8188798554652214,\n",
       " 911: 0.8896396396396397,\n",
       " 912: 0.854043392504931,\n",
       " 913: 0.8506493506493507,\n",
       " 914: 0.7954545454545454,\n",
       " 915: 0.7714285714285715,\n",
       " 916: 0.8387096774193549,\n",
       " 917: 0.8604236343366778,\n",
       " 918: 0.8484848484848485,\n",
       " 919: 0.8474801061007957,\n",
       " 920: 0.8451676528599605,\n",
       " 921: 0.8653846153846154,\n",
       " 922: 0.8402777777777778,\n",
       " 923: 0.8428571428571429,\n",
       " 924: 0.8357920032040584,\n",
       " 925: 0.8202764976958525,\n",
       " 926: 0.8390804597701149,\n",
       " 927: 0.8591735537190083,\n",
       " 928: 0.8571428571428571,\n",
       " 929: 0.9090909090909091,\n",
       " 930: 0.8605769230769231,\n",
       " 931: 0.7875,\n",
       " 932: 0.8,\n",
       " 933: 0.8647058823529412,\n",
       " 934: 0.8375,\n",
       " 935: 0.863905325443787,\n",
       " 936: 0.88,\n",
       " 937: 0.8888888888888888,\n",
       " 938: 0.8602540834845736,\n",
       " 939: 0.8549737133370227,\n",
       " 940: 0.8846153846153846,\n",
       " 941: 1.0,\n",
       " 942: 0.8538411458333334,\n",
       " 943: 0.7701863354037267,\n",
       " 944: 0.8366445916114791,\n",
       " 945: 0.8958333333333334,\n",
       " 946: 0.8,\n",
       " 947: 0.844608756404285,\n",
       " 948: 0.8598001700680272,\n",
       " 949: 0.8431372549019608,\n",
       " 950: 0.8333333333333334,\n",
       " 951: 0.8192592592592592,\n",
       " 952: 0.8243243243243243,\n",
       " 953: 0.8472222222222222,\n",
       " 954: 0.8235294117647058,\n",
       " 955: 0.867109634551495,\n",
       " 956: 0.8490990990990991,\n",
       " 957: 0.8785714285714286,\n",
       " 958: 0.838421052631579,\n",
       " 959: 0.8541666666666666,\n",
       " 960: 0.8571322492017525,\n",
       " 961: 0.8334956183057449,\n",
       " 962: 0.8406862745098039,\n",
       " 963: 0.8263888888888888,\n",
       " 964: 0.8598639455782313,\n",
       " 965: 0.8484848484848485,\n",
       " 966: 0.8545618789521229,\n",
       " 967: 0.8480243161094225,\n",
       " 968: 0.8512147276293949,\n",
       " 969: 0.8611111111111112,\n",
       " 970: 0.9166666666666666,\n",
       " 971: 0.8541666666666666,\n",
       " 972: 0.85,\n",
       " 973: 0.834504293520687,\n",
       " 974: 0.8429591174561972,\n",
       " 975: 0.8586206896551725,\n",
       " 976: 0.8035714285714286,\n",
       " 977: 0.8875,\n",
       " 978: 0.8797653958944281,\n",
       " 979: 0.8426573426573427,\n",
       " 980: 0.839572192513369,\n",
       " 981: 0.796875,\n",
       " 982: 0.8376623376623377,\n",
       " 983: 0.8397255108966142,\n",
       " 984: 0.8486486486486486,\n",
       " 985: 0.8711018711018711,\n",
       " 986: 0.8459507042253521,\n",
       " 987: 0.8696808510638298,\n",
       " 988: 0.8267045454545454,\n",
       " 989: 1.0,\n",
       " 990: 0.9375,\n",
       " 991: 0.8636363636363636,\n",
       " 992: 0.8646616541353384,\n",
       " 993: 0.8516483516483516,\n",
       " 994: 0.8269230769230769,\n",
       " 995: 0.8209085614443797,\n",
       " 996: 0.8466898954703833,\n",
       " 997: 0.8376440312856915,\n",
       " 998: 0.8148148148148148,\n",
       " 999: 0.8622038187255578,\n",
       " 1000: 0.8667570009033424,\n",
       " ...}"
      ]
     },
     "execution_count": 38,
     "metadata": {},
     "output_type": "execute_result"
    }
   ],
   "source": [
    "recommend_vf.dict_sat_to_zero"
   ]
  },
  {
   "cell_type": "code",
   "execution_count": 39,
   "metadata": {
    "ExecuteTime": {
     "end_time": "2020-01-18T15:15:58.811416Z",
     "start_time": "2020-01-18T15:15:58.424734Z"
    }
   },
   "outputs": [
    {
     "ename": "NameError",
     "evalue": "name 'wait' is not defined",
     "output_type": "error",
     "traceback": [
      "\u001b[1;31m---------------------------------------------------------------------------\u001b[0m",
      "\u001b[1;31mNameError\u001b[0m                                 Traceback (most recent call last)",
      "\u001b[1;32m<ipython-input-39-cc92d94c96b0>\u001b[0m in \u001b[0;36m<module>\u001b[1;34m\u001b[0m\n\u001b[1;32m----> 1\u001b[1;33m \u001b[0mwait\u001b[0m\u001b[1;33m\u001b[0m\u001b[1;33m\u001b[0m\u001b[0m\n\u001b[0m",
      "\u001b[1;31mNameError\u001b[0m: name 'wait' is not defined"
     ]
    }
   ],
   "source": [
    "wait"
   ]
  },
  {
   "cell_type": "markdown",
   "metadata": {},
   "source": [
    "# Train the content based recommender and predict on test on original tag genome"
   ]
  },
  {
   "cell_type": "code",
   "execution_count": null,
   "metadata": {
    "ExecuteTime": {
     "end_time": "2020-01-18T15:15:58.814396Z",
     "start_time": "2020-01-18T14:36:46.906Z"
    }
   },
   "outputs": [],
   "source": [
    "reload()"
   ]
  },
  {
   "cell_type": "code",
   "execution_count": null,
   "metadata": {
    "ExecuteTime": {
     "end_time": "2020-01-18T15:15:58.815394Z",
     "start_time": "2020-01-18T14:36:46.909Z"
    }
   },
   "outputs": [],
   "source": [
    "recommend = item_based.ItemBasedColabCos()\n",
    "recommend.fit(df_rating_train, item_features_train)"
   ]
  },
  {
   "cell_type": "code",
   "execution_count": null,
   "metadata": {
    "ExecuteTime": {
     "end_time": "2020-01-18T15:15:58.817394Z",
     "start_time": "2020-01-18T14:36:46.914Z"
    },
    "scrolled": true
   },
   "outputs": [],
   "source": [
    "%%time\n",
    "test_users = df_rating_test[config.userId_col].unique()\n",
    "recommendations = recommend.predict_on_list_of_users(test_users, df_rating_test, item_features_test, n_jobs=n_jobs)"
   ]
  },
  {
   "cell_type": "code",
   "execution_count": null,
   "metadata": {
    "ExecuteTime": {
     "end_time": "2020-01-18T15:15:58.819393Z",
     "start_time": "2020-01-18T14:36:46.917Z"
    }
   },
   "outputs": [],
   "source": [
    "df_rating_test = rtools.prepare_recommendations_df(df_rating_test=df_rating_test,\n",
    "                                                    recommendations=recommendations, \n",
    "                                                    prediction_column_suffix='tg')"
   ]
  },
  {
   "cell_type": "markdown",
   "metadata": {},
   "source": [
    "# Train the content based recommender and predict on test on VF tag genome"
   ]
  },
  {
   "cell_type": "code",
   "execution_count": null,
   "metadata": {
    "ExecuteTime": {
     "end_time": "2020-01-18T15:15:58.821399Z",
     "start_time": "2020-01-18T14:36:46.949Z"
    }
   },
   "outputs": [],
   "source": [
    "recommend_vf_tg = item_based.ItemBasedColabCos()\n",
    "recommend_vf_tg.fit(df_rating_train, item_features_vf_tg_train)"
   ]
  },
  {
   "cell_type": "code",
   "execution_count": null,
   "metadata": {
    "ExecuteTime": {
     "end_time": "2020-01-18T15:15:58.822420Z",
     "start_time": "2020-01-18T14:36:46.950Z"
    },
    "scrolled": true
   },
   "outputs": [],
   "source": [
    "%%time\n",
    "test_users_vf = df_rating_test[config.userId_col].unique()\n",
    "recommendations_vf_tg = recommend_vf_tg.\\\n",
    "    predict_on_list_of_users(test_users_vf, df_rating_test, item_features_vf_tg_test, n_jobs=n_jobs)"
   ]
  },
  {
   "cell_type": "code",
   "execution_count": null,
   "metadata": {
    "ExecuteTime": {
     "end_time": "2020-01-18T15:15:58.824393Z",
     "start_time": "2020-01-18T14:36:46.953Z"
    }
   },
   "outputs": [],
   "source": [
    "df_rating_test = rtools.prepare_recommendations_df(df_rating_test=df_rating_test,\n",
    "                                                   recommendations=recommendations_vf_tg, \n",
    "                                                   prediction_column_suffix='vf_tg')"
   ]
  },
  {
   "cell_type": "markdown",
   "metadata": {},
   "source": [
    "# Train the baseline recommender and predict on test"
   ]
  },
  {
   "cell_type": "code",
   "execution_count": null,
   "metadata": {
    "ExecuteTime": {
     "end_time": "2020-01-18T15:15:58.825393Z",
     "start_time": "2020-01-18T14:36:46.987Z"
    }
   },
   "outputs": [],
   "source": [
    "reload()\n",
    "recommend_dummy = dummy_recommender.DummyAverageUser()\n",
    "recommend_dummy.fit(df_rating_train, item_features_train)"
   ]
  },
  {
   "cell_type": "code",
   "execution_count": null,
   "metadata": {
    "ExecuteTime": {
     "end_time": "2020-01-18T15:15:58.827395Z",
     "start_time": "2020-01-18T14:36:46.990Z"
    },
    "scrolled": false
   },
   "outputs": [],
   "source": [
    "%%time\n",
    "recommendations_dummy = recommend_dummy.predict_on_list_of_users(test_users, \n",
    "                                                                 df_rating_test, \n",
    "                                                                 item_features_test, \n",
    "                                                                 n_jobs=n_jobs)\n"
   ]
  },
  {
   "cell_type": "code",
   "execution_count": null,
   "metadata": {
    "ExecuteTime": {
     "end_time": "2020-01-18T15:15:58.828394Z",
     "start_time": "2020-01-18T14:36:46.992Z"
    }
   },
   "outputs": [],
   "source": [
    "reload()\n",
    "df_rating_test = rtools.prepare_recommendations_df(df_rating_test=df_rating_test,\n",
    "                                                   recommendations=recommendations_dummy, \n",
    "                                                   prediction_column_suffix='average_user')"
   ]
  },
  {
   "cell_type": "markdown",
   "metadata": {},
   "source": [
    "# Train the 2nd baseline recommender and predict on test"
   ]
  },
  {
   "cell_type": "code",
   "execution_count": null,
   "metadata": {
    "ExecuteTime": {
     "end_time": "2020-01-18T15:15:58.830395Z",
     "start_time": "2020-01-18T14:36:47.026Z"
    }
   },
   "outputs": [],
   "source": [
    "reload()\n",
    "recommend_dummy2 = dummy_recommender.DummyAverageItem()\n",
    "recommend_dummy2.fit(df_rating_train, item_features_train)"
   ]
  },
  {
   "cell_type": "code",
   "execution_count": null,
   "metadata": {
    "ExecuteTime": {
     "end_time": "2020-01-18T15:15:58.831392Z",
     "start_time": "2020-01-18T14:36:47.028Z"
    },
    "scrolled": false
   },
   "outputs": [],
   "source": [
    "%%time\n",
    "recommendations_dummy2 = recommend_dummy2.predict_on_list_of_users(test_users, \n",
    "                                                                   df_rating_test, \n",
    "                                                                   item_features_test, \n",
    "                                                                   n_jobs=n_jobs)\n"
   ]
  },
  {
   "cell_type": "code",
   "execution_count": null,
   "metadata": {
    "ExecuteTime": {
     "end_time": "2020-01-18T15:15:58.833394Z",
     "start_time": "2020-01-18T14:36:47.031Z"
    }
   },
   "outputs": [],
   "source": [
    "reload()\n",
    "df_rating_test = rtools.prepare_recommendations_df(df_rating_test=df_rating_test,\n",
    "                                                   recommendations=recommendations_dummy2, \n",
    "                                                   prediction_column_suffix='average_item')"
   ]
  },
  {
   "cell_type": "markdown",
   "metadata": {},
   "source": [
    "# looking at the performance"
   ]
  },
  {
   "cell_type": "code",
   "execution_count": 40,
   "metadata": {
    "ExecuteTime": {
     "end_time": "2020-01-18T15:38:43.316002Z",
     "start_time": "2020-01-18T15:38:42.927918Z"
    }
   },
   "outputs": [
    {
     "data": {
      "text/plain": [
       "1"
      ]
     },
     "execution_count": 40,
     "metadata": {},
     "output_type": "execute_result"
    },
    {
     "data": {
      "image/png": "[encoded data removed]",
      "text/plain": [
       "<Figure size 432x288 with 1 Axes>"
      ]
     },
     "metadata": {
      "needs_background": "light"
     },
     "output_type": "display_data"
    }
   ],
   "source": [
    "df_rating_test.filter(regex='rating_predicted').hist()\n",
    "1"
   ]
  },
  {
   "cell_type": "code",
   "execution_count": 41,
   "metadata": {
    "ExecuteTime": {
     "end_time": "2020-01-18T15:38:48.972457Z",
     "start_time": "2020-01-18T15:38:48.947456Z"
    }
   },
   "outputs": [
    {
     "data": {
      "text/plain": [
       "['vf']"
      ]
     },
     "execution_count": 41,
     "metadata": {},
     "output_type": "execute_result"
    }
   ],
   "source": [
    "prediction_column_suffixes = []\n",
    "for c in df_rating_test.filter(regex='rating_predicted').columns:\n",
    "    c = c.replace('rating_predicted', '')\n",
    "    c = c[1:] if len(c) > 0 else c\n",
    "    prediction_column_suffixes.append(c)\n",
    "prediction_column_suffixes"
   ]
  },
  {
   "cell_type": "code",
   "execution_count": 42,
   "metadata": {
    "ExecuteTime": {
     "end_time": "2020-01-18T15:38:51.445597Z",
     "start_time": "2020-01-18T15:38:49.583344Z"
    }
   },
   "outputs": [
    {
     "data": {
      "text/html": [
       "<div>\n",
       "<style scoped>\n",
       "    .dataframe tbody tr th:only-of-type {\n",
       "        vertical-align: middle;\n",
       "    }\n",
       "\n",
       "    .dataframe tbody tr th {\n",
       "        vertical-align: top;\n",
       "    }\n",
       "\n",
       "    .dataframe thead th {\n",
       "        text-align: right;\n",
       "    }\n",
       "</style>\n",
       "<table border=\"1\" class=\"dataframe\">\n",
       "  <thead>\n",
       "    <tr style=\"text-align: right;\">\n",
       "      <th></th>\n",
       "      <th>Average Score</th>\n",
       "      <th>MAE</th>\n",
       "      <th>RMSE</th>\n",
       "      <th>NRMSE</th>\n",
       "      <th>R2</th>\n",
       "      <th>Std of residuals</th>\n",
       "      <th>Avg of residuals</th>\n",
       "    </tr>\n",
       "  </thead>\n",
       "  <tbody>\n",
       "    <tr>\n",
       "      <th>vf</th>\n",
       "      <td>3.528882</td>\n",
       "      <td>0.765757</td>\n",
       "      <td>0.996527</td>\n",
       "      <td>0.282392</td>\n",
       "      <td>0.118981</td>\n",
       "      <td>0.996524</td>\n",
       "      <td>0.002237</td>\n",
       "    </tr>\n",
       "  </tbody>\n",
       "</table>\n",
       "</div>"
      ],
      "text/plain": [
       "    Average Score       MAE      RMSE     NRMSE        R2  Std of residuals  \\\n",
       "vf       3.528882  0.765757  0.996527  0.282392  0.118981          0.996524   \n",
       "\n",
       "    Avg of residuals  \n",
       "vf          0.002237  "
      ]
     },
     "execution_count": 42,
     "metadata": {},
     "output_type": "execute_result"
    }
   ],
   "source": [
    "reload()\n",
    "df_performance_report = pd.concat([tools.performance_report(df_rating_test, \n",
    "                                                           prediction_column_suffix=alg) \n",
    "                                  for alg in prediction_column_suffixes]).sort_values('RMSE')\n",
    "df_performance_report"
   ]
  },
  {
   "cell_type": "markdown",
   "metadata": {},
   "source": [
    "## performance table for copying into Latex"
   ]
  },
  {
   "cell_type": "code",
   "execution_count": null,
   "metadata": {
    "ExecuteTime": {
     "end_time": "2020-01-18T15:15:58.840394Z",
     "start_time": "2020-01-18T14:36:47.107Z"
    }
   },
   "outputs": [],
   "source": [
    "print(df_performance_report.to_latex())"
   ]
  },
  {
   "cell_type": "markdown",
   "metadata": {
    "ExecuteTime": {
     "start_time": "2020-01-04T18:56:35.444Z"
    }
   },
   "source": [
    "## Some plots"
   ]
  },
  {
   "cell_type": "code",
   "execution_count": null,
   "metadata": {
    "ExecuteTime": {
     "end_time": "2020-01-18T15:15:58.841394Z",
     "start_time": "2020-01-18T14:36:47.143Z"
    }
   },
   "outputs": [],
   "source": [
    "df_rating_test[config.rating_col].hist()"
   ]
  },
  {
   "cell_type": "code",
   "execution_count": null,
   "metadata": {
    "ExecuteTime": {
     "end_time": "2020-01-18T15:15:58.842393Z",
     "start_time": "2020-01-18T14:36:47.145Z"
    }
   },
   "outputs": [],
   "source": [
    "reload()\n",
    "_ = tools.plot_side_by_side(tools.plot_prediction_histogram,\n",
    "                            df_rating_pred=df_rating_test,\n",
    "                            prediction_column_suffixes=prediction_column_suffixes)"
   ]
  },
  {
   "cell_type": "code",
   "execution_count": null,
   "metadata": {
    "ExecuteTime": {
     "end_time": "2020-01-18T15:15:58.844394Z",
     "start_time": "2020-01-18T14:36:47.147Z"
    }
   },
   "outputs": [],
   "source": [
    "reload()\n",
    "_ = tools.plot_side_by_side(tools.plot_actual_vs_prediction,\n",
    "                            df_rating_pred=df_rating_test,\n",
    "                            prediction_column_suffixes=prediction_column_suffixes,\n",
    "                            alpha=.1)"
   ]
  },
  {
   "cell_type": "code",
   "execution_count": null,
   "metadata": {
    "ExecuteTime": {
     "end_time": "2020-01-18T15:15:58.845394Z",
     "start_time": "2020-01-18T14:36:47.150Z"
    }
   },
   "outputs": [],
   "source": [
    "reload()\n",
    "_ = tools.plot_side_by_side(tools.plot_actual_vs_predicted_boxplot,\n",
    "                            df_rating_pred=df_rating_test,\n",
    "                            prediction_column_suffixes=prediction_column_suffixes)"
   ]
  },
  {
   "cell_type": "code",
   "execution_count": null,
   "metadata": {
    "ExecuteTime": {
     "end_time": "2020-01-18T15:15:58.846394Z",
     "start_time": "2020-01-18T14:36:47.152Z"
    }
   },
   "outputs": [],
   "source": [
    "reload()\n",
    "_ = tools.plot_side_by_side(tools.plot_residual_boxplot,\n",
    "                            df_rating_pred=df_rating_test,\n",
    "                            prediction_column_suffixes=prediction_column_suffixes)"
   ]
  },
  {
   "cell_type": "code",
   "execution_count": null,
   "metadata": {
    "ExecuteTime": {
     "end_time": "2020-01-18T15:15:58.847395Z",
     "start_time": "2020-01-18T14:36:47.154Z"
    }
   },
   "outputs": [],
   "source": [
    "reload()\n",
    "_ = tools.plot_side_by_side(tools.plot_absolute_residual_boxplot,\n",
    "                            df_rating_pred=df_rating_test,\n",
    "                            prediction_column_suffixes=prediction_column_suffixes)"
   ]
  },
  {
   "cell_type": "code",
   "execution_count": null,
   "metadata": {
    "ExecuteTime": {
     "end_time": "2020-01-18T15:15:58.849394Z",
     "start_time": "2020-01-18T14:36:47.157Z"
    }
   },
   "outputs": [],
   "source": [
    "# reload()\n",
    "# _ = tools.plot_side_by_side(tools.plot_actual_vs_predicted_violinplot,\n",
    "#                             df_rating_pred=df_rating_test,\n",
    "#                             prediction_column_suffixes=prediction_column_suffixes)"
   ]
  },
  {
   "cell_type": "markdown",
   "metadata": {},
   "source": [
    "# Save the current notebook into results folder and push to the repository"
   ]
  },
  {
   "cell_type": "code",
   "execution_count": null,
   "metadata": {
    "ExecuteTime": {
     "end_time": "2020-01-18T15:15:58.850395Z",
     "start_time": "2020-01-18T14:36:47.199Z"
    }
   },
   "outputs": [],
   "source": [
    "wait"
   ]
  },
  {
   "cell_type": "code",
   "execution_count": null,
   "metadata": {
    "ExecuteTime": {
     "end_time": "2020-01-18T15:15:58.852394Z",
     "start_time": "2020-01-18T14:36:47.202Z"
    }
   },
   "outputs": [],
   "source": [
    "%%javascript\n",
    "IPython.notebook.save_notebook()"
   ]
  },
  {
   "cell_type": "code",
   "execution_count": null,
   "metadata": {
    "ExecuteTime": {
     "end_time": "2020-01-18T15:15:58.853394Z",
     "start_time": "2020-01-18T14:36:47.205Z"
    }
   },
   "outputs": [],
   "source": [
    "from notebook import notebookapp\n",
    "import urllib\n",
    "import json\n",
    "import os\n",
    "import ipykernel\n",
    "\n",
    "currentTime = lambda : time.strftime('%Y-%m-%d-%H%M')\n",
    "def notebook_path():\n",
    "    \"\"\"Returns the absolute path of the Notebook or None if it cannot be determined\n",
    "    NOTE: works only when the security is token-based or there is also no password\n",
    "    \"\"\"\n",
    "    connection_file = os.path.basename(ipykernel.get_connection_file())\n",
    "    kernel_id = connection_file.split('-', 1)[1].split('.')[0]\n",
    "\n",
    "    for srv in notebookapp.list_running_servers():\n",
    "        try:\n",
    "            if srv['token']=='' and not srv['password']:  # No token and no password, ahem...\n",
    "                req = urllib.request.urlopen(srv['url']+'api/sessions')\n",
    "            else:\n",
    "                req = urllib.request.urlopen(srv['url']+'api/sessions?token='+srv['token'])\n",
    "            sessions = json.load(req)\n",
    "            for sess in sessions:\n",
    "                if sess['kernel']['id'] == kernel_id:\n",
    "                    return os.path.join(srv['notebook_dir'],sess['notebook']['path'])\n",
    "        except:\n",
    "            pass  # There may be stale entries in the runtime directory \n",
    "    return None\n",
    "\n",
    "notebook_dir, notebook_name = os.path.split(notebook_path())\n",
    "output = os.path.join(notebook_dir, 'output', f'{notebook_name}_{currentTime()}.ipynb')\n",
    "os.system(f'jupyter nbconvert --to ipynb {notebook_path()} --output {output}')\n",
    "os.system(f'git add {output}')\n",
    "os.system(f'git commit -m \"result computed on {currentTime()}\"')\n",
    "os.system('git push')"
   ]
  },
  {
   "cell_type": "code",
   "execution_count": null,
   "metadata": {
    "ExecuteTime": {
     "end_time": "2020-01-18T15:15:58.855394Z",
     "start_time": "2020-01-18T14:36:47.206Z"
    }
   },
   "outputs": [],
   "source": [
    "df_rating_test.to_csv(os.path.join(notebook_dir, 'output', f'{notebook_name}_{currentTime()}_df_rating_test.csv'))"
   ]
  },
  {
   "cell_type": "code",
   "execution_count": null,
   "metadata": {},
   "outputs": [],
   "source": []
  }
 ],
 "metadata": {
  "kernelspec": {
   "display_name": "Python 3",
   "language": "python",
   "name": "python3"
  },
  "language_info": {
   "codemirror_mode": {
    "name": "ipython",
    "version": 3
   },
   "file_extension": ".py",
   "mimetype": "text/x-python",
   "name": "python",
   "nbconvert_exporter": "python",
   "pygments_lexer": "ipython3",
   "version": "3.7.1"
  },
  "toc": {
   "base_numbering": 1,
   "nav_menu": {},
   "number_sections": true,
   "sideBar": true,
   "skip_h1_title": false,
   "title_cell": "Table of Contents",
   "title_sidebar": "Contents",
   "toc_cell": false,
   "toc_position": {},
   "toc_section_display": true,
   "toc_window_display": false
  }
 },
 "nbformat": 4,
 "nbformat_minor": 2
}

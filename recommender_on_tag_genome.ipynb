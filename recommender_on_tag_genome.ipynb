{
 "cells": [
  {
   "cell_type": "code",
   "execution_count": 1,
   "metadata": {
    "ExecuteTime": {
     "end_time": "2020-01-04T14:03:26.028913Z",
     "start_time": "2020-01-04T14:03:22.502908Z"
    }
   },
   "outputs": [],
   "source": [
    "import numpy as np\n",
    "import pandas as pd\n",
    "from scipy import sparse\n",
    "import os\n",
    "import gc\n",
    "import time\n",
    "import importlib\n",
    "import sklearn.preprocessing as pp\n",
    "import sklearn.model_selection as ms\n",
    "from sklearn import metrics\n",
    "import matplotlib.pyplot as plt\n",
    "import seaborn as sns\n",
    "\n",
    "from recommender import item_based, dummy as dummy_recommender, preprocessing as rpp, model_selection as rms\n",
    "import tag_genome_builder as tg_builder\n",
    "from tag_genome_builder import model_selection as ms_tg_builder\n",
    "\n",
    "from lib import tools\n",
    "import config\n",
    "import config_tag_recommender\n",
    "def reload():\n",
    "    importlib.reload(item_based)\n",
    "    importlib.reload(dummy_recommender)\n",
    "    importlib.reload(config)\n",
    "    importlib.reload(tg_builder)\n",
    "    importlib.reload(rpp)\n",
    "    importlib.reload(rms)\n",
    "    importlib.reload(tools)\n",
    "    importlib.reload(config_tag_recommender)\n",
    "    importlib.reload(ms_tg_builder)\n",
    "    "
   ]
  },
  {
   "cell_type": "markdown",
   "metadata": {},
   "source": [
    "# input params"
   ]
  },
  {
   "cell_type": "code",
   "execution_count": 2,
   "metadata": {
    "ExecuteTime": {
     "end_time": "2020-01-04T14:03:26.034378Z",
     "start_time": "2020-01-04T14:03:26.030908Z"
    }
   },
   "outputs": [],
   "source": [
    "str_aggregated_path = config_tag_recommender.str_aggregated_path\n",
    "str_genome_scores = config_tag_recommender.str_genome_scores\n",
    "str_tag_ids = config_tag_recommender.str_tag_ids\n",
    "str_rating_path = config_tag_recommender.str_rating_path\n",
    "str_data_folder = config_tag_recommender.str_data_folder\n",
    "minimum_no_of_frames = config_tag_recommender.minimum_no_of_frames\n",
    "number_of_tag_per_movie = config_tag_recommender.number_of_tag_per_movie"
   ]
  },
  {
   "cell_type": "code",
   "execution_count": 3,
   "metadata": {
    "ExecuteTime": {
     "end_time": "2020-01-04T14:03:26.042391Z",
     "start_time": "2020-01-04T14:03:26.035876Z"
    }
   },
   "outputs": [
    {
     "name": "stdout",
     "output_type": "stream",
     "text": [
      "str_aggregated_path:  ..\\..\\data\\MA14KD_AGGREGATED.csv\n",
      "str_genome_scores:  ..\\..\\data\\ml-20m\\genome-scores.csv\n",
      "str_tag_ids:  ..\\..\\data\\ml-20m\\genome-tags.csv\n",
      "str_rating_path:  ..\\..\\data\\ml-20m\\ratings.csv\n",
      "str_data_folder:  ..\\..\\data\n",
      "str_aggregated_path:  ..\\..\\data\\MA14KD_AGGREGATED.csv\n",
      "minimum_no_of_frames:  10\n",
      "number_of_tag_per_movie:  10\n"
     ]
    }
   ],
   "source": [
    "print('str_aggregated_path: ', str_aggregated_path)\n",
    "print('str_genome_scores: ', str_genome_scores)\n",
    "print('str_tag_ids: ', str_tag_ids)\n",
    "print('str_rating_path: ', str_rating_path)\n",
    "print('str_data_folder: ', str_data_folder)\n",
    "print('str_aggregated_path: ', str_aggregated_path)\n",
    "print('minimum_no_of_frames: ', minimum_no_of_frames)\n",
    "print('number_of_tag_per_movie: ', number_of_tag_per_movie)"
   ]
  },
  {
   "cell_type": "markdown",
   "metadata": {},
   "source": [
    "# Read inputs"
   ]
  },
  {
   "cell_type": "code",
   "execution_count": 4,
   "metadata": {
    "ExecuteTime": {
     "end_time": "2020-01-04T14:03:26.054378Z",
     "start_time": "2020-01-04T14:03:26.047877Z"
    }
   },
   "outputs": [],
   "source": [
    "df_tag_ids = pd.read_csv(str_tag_ids, index_col=config.tagId_col)"
   ]
  },
  {
   "cell_type": "code",
   "execution_count": 5,
   "metadata": {
    "ExecuteTime": {
     "end_time": "2020-01-04T14:03:26.061875Z",
     "start_time": "2020-01-04T14:03:26.059378Z"
    }
   },
   "outputs": [],
   "source": [
    "# df_tag_ids.head()"
   ]
  },
  {
   "cell_type": "code",
   "execution_count": 6,
   "metadata": {
    "ExecuteTime": {
     "end_time": "2020-01-04T14:03:28.188378Z",
     "start_time": "2020-01-04T14:03:26.063885Z"
    }
   },
   "outputs": [],
   "source": [
    "df_genome = pd.read_csv(str_genome_scores)"
   ]
  },
  {
   "cell_type": "code",
   "execution_count": 7,
   "metadata": {
    "ExecuteTime": {
     "end_time": "2020-01-04T14:03:31.949874Z",
     "start_time": "2020-01-04T14:03:28.191373Z"
    }
   },
   "outputs": [],
   "source": [
    "df_ratings = pd.read_csv(str_rating_path)"
   ]
  },
  {
   "cell_type": "code",
   "execution_count": 8,
   "metadata": {
    "ExecuteTime": {
     "end_time": "2020-01-04T14:03:32.280375Z",
     "start_time": "2020-01-04T14:03:31.951873Z"
    }
   },
   "outputs": [
    {
     "name": "stdout",
     "output_type": "stream",
     "text": [
      "42\n"
     ]
    }
   ],
   "source": [
    "usecols = ['movieId', 'no_key_frames']\n",
    "for i in range(1,11):\n",
    "    usecols += [f'f{i}_median', f'f{i}_quartile1', f'f{i}_quartile3', f'f{i}_std'] \n",
    "print(len(usecols))\n",
    "df_agg = pd.read_csv(str_aggregated_path, nrows=None, usecols=usecols, index_col='movieId').sort_index()\n",
    "df_agg = df_agg[df_agg['no_key_frames'] >= minimum_no_of_frames]\n",
    "df_agg.dropna(axis=1, thresh=len(df_agg) - 1000, inplace=True)"
   ]
  },
  {
   "cell_type": "code",
   "execution_count": 9,
   "metadata": {
    "ExecuteTime": {
     "end_time": "2020-01-04T14:03:33.058373Z",
     "start_time": "2020-01-04T14:03:32.281875Z"
    }
   },
   "outputs": [
    {
     "name": "stdout",
     "output_type": "stream",
     "text": [
      "(13923, 39) (11709768, 3)\n",
      "(5650, 39) (6373200, 3)\n"
     ]
    }
   ],
   "source": [
    "print(df_agg.shape, df_genome.shape)\n",
    "df_agg, df_genome = tg_builder.Base().filter_tag_and_vf_to_same(df_agg=df_agg, df_genome_scores=df_genome)\n",
    "print(df_agg.shape, df_genome.shape)"
   ]
  },
  {
   "cell_type": "code",
   "execution_count": 10,
   "metadata": {
    "ExecuteTime": {
     "end_time": "2020-01-04T14:03:35.452086Z",
     "start_time": "2020-01-04T14:03:33.060374Z"
    }
   },
   "outputs": [],
   "source": [
    "item_features = rpp.get_item_feature_from_tag_genome(df_genome, number_of_tag_per_movie)"
   ]
  },
  {
   "cell_type": "code",
   "execution_count": 11,
   "metadata": {
    "ExecuteTime": {
     "end_time": "2020-01-04T14:03:38.819927Z",
     "start_time": "2020-01-04T14:03:35.453419Z"
    }
   },
   "outputs": [],
   "source": [
    "df_ratings_filtered = df_ratings[df_ratings[config.movieId_col].isin(item_features.item_ids)]"
   ]
  },
  {
   "cell_type": "markdown",
   "metadata": {},
   "source": [
    "# Compute tag genome based on visual features"
   ]
  },
  {
   "cell_type": "code",
   "execution_count": 12,
   "metadata": {
    "ExecuteTime": {
     "end_time": "2020-01-04T14:03:38.824452Z",
     "start_time": "2020-01-04T14:03:38.821413Z"
    }
   },
   "outputs": [],
   "source": [
    "normalizer = pp.QuantileTransformer(output_distribution='normal')\n"
   ]
  },
  {
   "cell_type": "code",
   "execution_count": 13,
   "metadata": {
    "ExecuteTime": {
     "end_time": "2020-01-04T14:03:59.252374Z",
     "start_time": "2020-01-04T14:03:38.826374Z"
    }
   },
   "outputs": [
    {
     "name": "stdout",
     "output_type": "stream",
     "text": [
      "Wall time: 20.4 s\n"
     ]
    }
   ],
   "source": [
    "%%time\n",
    "df_predicted_tag_genome = ms_tg_builder.cross_val_predict(df_visual_features=df_agg,\n",
    "                                                          df_genome_scores=df_genome,\n",
    "                                                          normalizer_vf=normalizer,\n",
    "                                                          n_splits=10, \n",
    "                                                          n_jobs=10)"
   ]
  },
  {
   "cell_type": "code",
   "execution_count": 14,
   "metadata": {
    "ExecuteTime": {
     "end_time": "2020-01-04T14:04:01.841947Z",
     "start_time": "2020-01-04T14:03:59.254374Z"
    }
   },
   "outputs": [],
   "source": [
    "item_features_vf = rpp.get_item_feature_from_tag_genome(df_predicted_tag_genome, number_of_tag_per_movie)"
   ]
  },
  {
   "cell_type": "markdown",
   "metadata": {},
   "source": [
    "# Train test split"
   ]
  },
  {
   "cell_type": "code",
   "execution_count": 15,
   "metadata": {
    "ExecuteTime": {
     "end_time": "2020-01-04T14:04:09.370878Z",
     "start_time": "2020-01-04T14:04:01.843410Z"
    }
   },
   "outputs": [],
   "source": [
    "reload()\n",
    "df_rating_train, df_rating_test, item_features_train, item_features_test = \\\n",
    "    rms.train_test_split(df_ratings_filtered, item_features, strategy='sklearn', test_size=.25)"
   ]
  },
  {
   "cell_type": "code",
   "execution_count": 16,
   "metadata": {
    "ExecuteTime": {
     "end_time": "2020-01-04T14:04:16.870431Z",
     "start_time": "2020-01-04T14:04:09.372378Z"
    }
   },
   "outputs": [],
   "source": [
    "reload()\n",
    "df_rating_vf_train, df_rating_vf_test, item_features_vf_train, item_features_vf_test = \\\n",
    "    rms.train_test_split(df_ratings_filtered, item_features_vf, strategy='sklearn', test_size=.25)"
   ]
  },
  {
   "cell_type": "markdown",
   "metadata": {},
   "source": [
    "# Train the content based recommender and predict on test on original tag genome"
   ]
  },
  {
   "cell_type": "code",
   "execution_count": 17,
   "metadata": {
    "ExecuteTime": {
     "end_time": "2020-01-04T14:04:42.151376Z",
     "start_time": "2020-01-04T14:04:16.871913Z"
    }
   },
   "outputs": [
    {
     "data": {
      "text/plain": [
       "<recommender.item_based.ItemBasedColabCos at 0x13a2b4c5b00>"
      ]
     },
     "execution_count": 17,
     "metadata": {},
     "output_type": "execute_result"
    }
   ],
   "source": [
    "recommend = item_based.ItemBasedColabCos()\n",
    "recommend.fit(df_rating_train, item_features_train)"
   ]
  },
  {
   "cell_type": "code",
   "execution_count": 18,
   "metadata": {
    "ExecuteTime": {
     "end_time": "2020-01-04T14:11:02.565878Z",
     "start_time": "2020-01-04T14:04:42.163374Z"
    },
    "scrolled": true
   },
   "outputs": [
    {
     "name": "stdout",
     "output_type": "stream",
     "text": [
      "Wall time: 6min 20s\n"
     ]
    }
   ],
   "source": [
    "%%time\n",
    "test_users = df_rating_test[config.userId_col].unique()\n",
    "recommendations = recommend.predict_on_list_of_users(test_users, df_rating_test, item_features_test, n_jobs=10)"
   ]
  },
  {
   "cell_type": "code",
   "execution_count": null,
   "metadata": {
    "ExecuteTime": {
     "start_time": "2020-01-04T14:03:22.665Z"
    }
   },
   "outputs": [],
   "source": [
    "recommendations.rename(columns={f'{config.rating_col}_predicted': f'{config.rating_col}_predicted_tg'},\n",
    "                       inplace=True)"
   ]
  },
  {
   "cell_type": "code",
   "execution_count": null,
   "metadata": {
    "ExecuteTime": {
     "start_time": "2020-01-04T14:03:22.668Z"
    }
   },
   "outputs": [],
   "source": [
    "df_rating_pred = pd.merge(df_rating_test, recommendations, on=[config.userId_col, config.movieId_col])\n",
    "\n",
    "df_rating_pred['residual_tg'] = df_rating_pred[config.rating_col] - df_rating_pred[f'{config.rating_col}_predicted_tg']"
   ]
  },
  {
   "cell_type": "code",
   "execution_count": null,
   "metadata": {
    "ExecuteTime": {
     "start_time": "2020-01-04T14:03:22.671Z"
    }
   },
   "outputs": [],
   "source": [
    "df_rating_pred['absolute residual_tg'] = df_rating_pred['residual_tg'].abs()"
   ]
  },
  {
   "cell_type": "code",
   "execution_count": null,
   "metadata": {
    "ExecuteTime": {
     "start_time": "2020-01-04T14:03:22.674Z"
    }
   },
   "outputs": [
    {
     "name": "stdout",
     "output_type": "stream",
     "text": [
      "Warning: 16615 (0.54%) of ratings has no prediciton\n"
     ]
    }
   ],
   "source": [
    "no_of_null_predictions = df_rating_pred[f'{config.rating_col}_predicted_tg'].isnull().sum()\n",
    "share_of_null_predictions = df_rating_pred[f'{config.rating_col}_predicted_tg'].isnull().mean()\n",
    "\n",
    "if no_of_null_predictions > 0:\n",
    "    print(f'Warning: {no_of_null_predictions} ({np.round(share_of_null_predictions * 100 , 2)}%)'\n",
    "          ' of ratings has no prediciton')"
   ]
  },
  {
   "cell_type": "markdown",
   "metadata": {},
   "source": [
    "# Train the content based recommender and predict on test on VF tag genome"
   ]
  },
  {
   "cell_type": "code",
   "execution_count": null,
   "metadata": {
    "ExecuteTime": {
     "start_time": "2020-01-04T14:03:22.699Z"
    }
   },
   "outputs": [
    {
     "data": {
      "text/plain": [
       "<recommender.item_based.ItemBasedColabCos at 0x13ac89cacc0>"
      ]
     },
     "execution_count": 23,
     "metadata": {},
     "output_type": "execute_result"
    }
   ],
   "source": [
    "recommend_vf_tg = item_based.ItemBasedColabCos()\n",
    "recommend_vf_tg.fit(df_rating_vf_train, item_features_vf_train)"
   ]
  },
  {
   "cell_type": "code",
   "execution_count": null,
   "metadata": {
    "ExecuteTime": {
     "start_time": "2020-01-04T14:03:22.702Z"
    },
    "scrolled": true
   },
   "outputs": [
    {
     "name": "stdout",
     "output_type": "stream",
     "text": [
      "Wall time: 6min 21s\n"
     ]
    }
   ],
   "source": [
    "%%time\n",
    "test_users_vf = df_rating_vf_test[config.userId_col].unique()\n",
    "recommendations_vf_tg = recommend_vf_tg.\\\n",
    "    predict_on_list_of_users(test_users_vf, df_rating_vf_test, item_features_vf_test, n_jobs=10)\n",
    "recommendations_vf_tg.rename(columns={f'{config.rating_col}_predicted': f'{config.rating_col}_predicted_vf_tg'},\n",
    "                            inplace=True)"
   ]
  },
  {
   "cell_type": "code",
   "execution_count": null,
   "metadata": {
    "ExecuteTime": {
     "start_time": "2020-01-04T14:03:22.704Z"
    }
   },
   "outputs": [],
   "source": [
    "df_rating_pred = pd.merge(df_rating_pred, recommendations_vf_tg, on=[config.userId_col, config.movieId_col])\n",
    "\n",
    "df_rating_pred['residual_vf_tg'] = df_rating_pred[config.rating_col] -\\\n",
    "                                   df_rating_pred[f'{config.rating_col}_predicted_vf_tg']"
   ]
  },
  {
   "cell_type": "code",
   "execution_count": null,
   "metadata": {
    "ExecuteTime": {
     "start_time": "2020-01-04T14:03:22.707Z"
    }
   },
   "outputs": [],
   "source": [
    "df_rating_pred['absolute residual_vf_tg'] = df_rating_pred['residual_vf_tg'].abs()"
   ]
  },
  {
   "cell_type": "code",
   "execution_count": null,
   "metadata": {
    "ExecuteTime": {
     "start_time": "2020-01-04T14:03:22.711Z"
    }
   },
   "outputs": [
    {
     "name": "stdout",
     "output_type": "stream",
     "text": [
      "Warning: 1176 (0.15%) of ratings has no prediciton\n"
     ]
    }
   ],
   "source": [
    "no_of_null_predictions_vf_tg = df_rating_pred[f'{config.rating_col}_predicted_vf_tg'].isnull().sum()\n",
    "share_of_null_predictions_vf_tg = df_rating_pred[f'{config.rating_col}_predicted_vf_tg'].isnull().mean()\n",
    "\n",
    "if no_of_null_predictions > 0:\n",
    "    print(f'Warning: {no_of_null_predictions_vf_tg} ({np.round(share_of_null_predictions_vf_tg * 100 , 2)}%)'\n",
    "          ' of ratings has no prediciton')"
   ]
  },
  {
   "cell_type": "markdown",
   "metadata": {},
   "source": [
    "# Train the baseline recommender and predict on test"
   ]
  },
  {
   "cell_type": "code",
   "execution_count": null,
   "metadata": {
    "ExecuteTime": {
     "start_time": "2020-01-04T14:03:22.737Z"
    }
   },
   "outputs": [
    {
     "data": {
      "text/plain": [
       "<recommender.dummy.DummyAverageUser at 0x13b13e1ddd8>"
      ]
     },
     "execution_count": 28,
     "metadata": {},
     "output_type": "execute_result"
    }
   ],
   "source": [
    "recommend_dummy = dummy_recommender.DummyAverageUser()\n",
    "recommend_dummy.fit(df_rating_train, item_features_train)"
   ]
  },
  {
   "cell_type": "code",
   "execution_count": null,
   "metadata": {
    "ExecuteTime": {
     "start_time": "2020-01-04T14:03:22.740Z"
    },
    "scrolled": true
   },
   "outputs": [],
   "source": [
    "%%time\n",
    "recommendations_dummy = recommend_dummy.predict_on_list_of_users(test_users, \n",
    "                                                                 df_rating_test, \n",
    "                                                                 item_features_test, \n",
    "                                                                 n_jobs=10)\n",
    "recommendations_dummy.rename(columns={f'{config.rating_col}_predicted': f'{config.rating_col}_predicted_average_user'},\n",
    "                            inplace=True)"
   ]
  },
  {
   "cell_type": "code",
   "execution_count": null,
   "metadata": {
    "ExecuteTime": {
     "start_time": "2020-01-04T14:03:22.742Z"
    }
   },
   "outputs": [],
   "source": [
    "df_rating_pred = pd.merge(df_rating_pred, recommendations_dummy, on=[config.userId_col, config.movieId_col])\n",
    "\n",
    "df_rating_pred['residual_average_user'] =\\\n",
    "    df_rating_pred[config.rating_col] - df_rating_pred[f'{config.rating_col}_predicted_average_user']"
   ]
  },
  {
   "cell_type": "code",
   "execution_count": null,
   "metadata": {
    "ExecuteTime": {
     "start_time": "2020-01-04T14:03:22.745Z"
    }
   },
   "outputs": [],
   "source": [
    "df_rating_pred['absolute residual_average_user'] = df_rating_pred['residual_average_user'].abs()"
   ]
  },
  {
   "cell_type": "markdown",
   "metadata": {},
   "source": [
    "# looking at the performance"
   ]
  },
  {
   "cell_type": "code",
   "execution_count": null,
   "metadata": {
    "ExecuteTime": {
     "start_time": "2020-01-04T14:03:22.771Z"
    }
   },
   "outputs": [],
   "source": [
    "prediction_column_suffixes = []\n",
    "for c in df_rating_pred.filter(regex='rating_predicted').columns:\n",
    "    c = c.replace('rating_predicted', '')\n",
    "    c = c[1:] if len(c) > 0 else c\n",
    "    prediction_column_suffixes.append(c)\n",
    "prediction_column_suffixes"
   ]
  },
  {
   "cell_type": "code",
   "execution_count": null,
   "metadata": {
    "ExecuteTime": {
     "start_time": "2020-01-04T14:03:22.774Z"
    }
   },
   "outputs": [],
   "source": [
    "reload()\n",
    "pd.concat([tools.performance_report(df_rating_pred, prediction_column_suffix=alg) for alg in prediction_column_suffixes])"
   ]
  },
  {
   "cell_type": "code",
   "execution_count": null,
   "metadata": {
    "ExecuteTime": {
     "start_time": "2020-01-04T14:03:22.777Z"
    }
   },
   "outputs": [],
   "source": [
    "reload()\n",
    "_ = tools.plot_side_by_side(tools.plot_actual_vs_prediction,\n",
    "                            df_rating_pred=df_rating_pred,\n",
    "                            prediction_column_suffixes=prediction_column_suffixes)"
   ]
  },
  {
   "cell_type": "code",
   "execution_count": null,
   "metadata": {
    "ExecuteTime": {
     "start_time": "2020-01-04T14:03:22.781Z"
    }
   },
   "outputs": [],
   "source": [
    "reload()\n",
    "_ = tools.plot_side_by_side(tools.plot_actual_vs_predicted_boxplot,\n",
    "                            df_rating_pred=df_rating_pred,\n",
    "                            prediction_column_suffixes=prediction_column_suffixes)"
   ]
  },
  {
   "cell_type": "code",
   "execution_count": null,
   "metadata": {
    "ExecuteTime": {
     "start_time": "2020-01-04T14:03:22.783Z"
    }
   },
   "outputs": [],
   "source": [
    "reload()\n",
    "_ = tools.plot_side_by_side(tools.plot_residual_boxplot,\n",
    "                            df_rating_pred=df_rating_pred,\n",
    "                            prediction_column_suffixes=prediction_column_suffixes)"
   ]
  },
  {
   "cell_type": "code",
   "execution_count": null,
   "metadata": {
    "ExecuteTime": {
     "start_time": "2020-01-04T14:03:22.787Z"
    }
   },
   "outputs": [],
   "source": [
    "reload()\n",
    "_ = tools.plot_side_by_side(tools.plot_absolute_residual_boxplot,\n",
    "                            df_rating_pred=df_rating_pred,\n",
    "                            prediction_column_suffixes=prediction_column_suffixes)"
   ]
  },
  {
   "cell_type": "code",
   "execution_count": null,
   "metadata": {
    "ExecuteTime": {
     "start_time": "2020-01-04T14:03:22.790Z"
    }
   },
   "outputs": [],
   "source": [
    "reload()\n",
    "_ = tools.plot_side_by_side(tools.plot_actual_vs_predicted_violinplot,\n",
    "                            df_rating_pred=df_rating_pred,\n",
    "                            prediction_column_suffixes=prediction_column_suffixes)"
   ]
  },
  {
   "cell_type": "markdown",
   "metadata": {},
   "source": [
    "# Save the current notebook in the results folder"
   ]
  },
  {
   "cell_type": "code",
   "execution_count": null,
   "metadata": {
    "ExecuteTime": {
     "start_time": "2020-01-04T14:03:22.817Z"
    }
   },
   "outputs": [],
   "source": [
    "%%javascript\n",
    "IPython.notebook.save_notebook()"
   ]
  },
  {
   "cell_type": "code",
   "execution_count": null,
   "metadata": {
    "ExecuteTime": {
     "start_time": "2020-01-04T14:03:22.820Z"
    }
   },
   "outputs": [],
   "source": [
    "from notebook import notebookapp\n",
    "import urllib\n",
    "import json\n",
    "import os\n",
    "import ipykernel\n",
    "\n",
    "currentTime = lambda : time.strftime('%Y-%m-%d-%H%M')\n",
    "\n",
    "def notebook_path():\n",
    "    \"\"\"Returns the absolute path of the Notebook or None if it cannot be determined\n",
    "    NOTE: works only when the security is token-based or there is also no password\n",
    "    \"\"\"\n",
    "    connection_file = os.path.basename(ipykernel.get_connection_file())\n",
    "    kernel_id = connection_file.split('-', 1)[1].split('.')[0]\n",
    "\n",
    "    for srv in notebookapp.list_running_servers():\n",
    "        try:\n",
    "            if srv['token']=='' and not srv['password']:  # No token and no password, ahem...\n",
    "                req = urllib.request.urlopen(srv['url']+'api/sessions')\n",
    "            else:\n",
    "                req = urllib.request.urlopen(srv['url']+'api/sessions?token='+srv['token'])\n",
    "            sessions = json.load(req)\n",
    "            for sess in sessions:\n",
    "                if sess['kernel']['id'] == kernel_id:\n",
    "                    return os.path.join(srv['notebook_dir'],sess['notebook']['path'])\n",
    "        except:\n",
    "            pass  # There may be stale entries in the runtime directory \n",
    "    return None\n",
    "\n",
    "notebook_dir, notebook_name = os.path.split(notebook_path())\n",
    "output = os.path.join(notebook_dir, 'output', f'{notebook_name}_{currentTime()}.ipynb')\n",
    "os.system(f'jupyter nbconvert --to ipynb {notebook_path()} --output {output}')\n",
    "os.system(f'git add {output}')\n",
    "os.system(f'git commit -m \"result computed on {currentTime()}\"')\n",
    "os.system('git push')"
   ]
  },
  {
   "cell_type": "code",
   "execution_count": null,
   "metadata": {},
   "outputs": [],
   "source": []
  }
 ],
 "metadata": {
  "kernelspec": {
   "display_name": "Python 3",
   "language": "python",
   "name": "python3"
  },
  "language_info": {
   "codemirror_mode": {
    "name": "ipython",
    "version": 3
   },
   "file_extension": ".py",
   "mimetype": "text/x-python",
   "name": "python",
   "nbconvert_exporter": "python",
   "pygments_lexer": "ipython3",
   "version": "3.7.1"
  },
  "toc": {
   "base_numbering": 1,
   "nav_menu": {},
   "number_sections": true,
   "sideBar": true,
   "skip_h1_title": false,
   "title_cell": "Table of Contents",
   "title_sidebar": "Contents",
   "toc_cell": false,
   "toc_position": {},
   "toc_section_display": true,
   "toc_window_display": false
  }
 },
 "nbformat": 4,
 "nbformat_minor": 2
}
